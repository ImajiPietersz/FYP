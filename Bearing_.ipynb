{
  "cells": [
    {
      "cell_type": "markdown",
      "metadata": {
        "id": "view-in-github",
        "colab_type": "text"
      },
      "source": [
        "<a href=\"https://colab.research.google.com/github/ImajiPietersz/FYP/blob/main/Bearing_.ipynb\" target=\"_parent\"><img src=\"https://colab.research.google.com/assets/colab-badge.svg\" alt=\"Open In Colab\"/></a>"
      ]
    },
    {
      "cell_type": "code",
      "execution_count": null,
      "metadata": {
        "colab": {
          "base_uri": "https://localhost:8080/"
        },
        "id": "rIYM3S0K8Bij",
        "outputId": "a2a7ebba-e084-4244-c129-b1051b8a083e"
      },
      "outputs": [
        {
          "output_type": "stream",
          "name": "stdout",
          "text": [
            "Mounted at /content/drive\n"
          ]
        }
      ],
      "source": [
        "import matplotlib.pyplot as plt\n",
        "import numpy as np\n",
        "import pandas as pd\n",
        "import tensorflow as tf\n",
        "import glob\n",
        "from tensorflow.keras import layers\n",
        "\n",
        "from google.colab import drive\n",
        "drive.mount('/content/drive')"
      ]
    },
    {
      "cell_type": "code",
      "execution_count": null,
      "metadata": {
        "colab": {
          "base_uri": "https://localhost:8080/",
          "height": 488
        },
        "id": "8Xljnb0Q8Rst",
        "outputId": "12f7e539-d6dc-4580-ee90-b90dd6580f0a"
      },
      "outputs": [
        {
          "output_type": "execute_result",
          "data": {
            "text/plain": [
              "       Timestamp_x SensorID  SequenceNumber  TotalLength  SourceAddress  \\\n",
              "0       1668729853  sensor2             135           88            NaN   \n",
              "1       1668729866  sensor4             255           88            NaN   \n",
              "2       1668730437  sensor1              72           88            NaN   \n",
              "3       1668730753  sensor2             136           88            NaN   \n",
              "4       1668730766  sensor4               0           88            NaN   \n",
              "...            ...      ...             ...          ...            ...   \n",
              "21887   1669578553  sensor2              54           88            NaN   \n",
              "21888   1669578553  sensor2              54           88            NaN   \n",
              "21889   1669578553  sensor2              54           88            NaN   \n",
              "21890   1669578553  sensor2              54           88            NaN   \n",
              "21891   1669578553  sensor2              54           88            NaN   \n",
              "\n",
              "       TempHumiRange  TempHumiStatus  TempHumiEvent  TempHumiSenVal  \\\n",
              "0                  0               0              0           34562   \n",
              "1                  0               0              0           29875   \n",
              "2                  0               0              0           30062   \n",
              "3                  0               0              0           34312   \n",
              "4                  0               0              0           29687   \n",
              "...              ...             ...            ...             ...   \n",
              "21887              0               0              0           29062   \n",
              "21888              0               0              0           29062   \n",
              "21889              0               0              0           29062   \n",
              "21890              0               0              0           29062   \n",
              "21891              0               0              0           29062   \n",
              "\n",
              "       XSenEvent  ...  machine12  machine13  machine14  machine15  machine16  \\\n",
              "0              0  ...        NaN        NaN        NaN        NaN        NaN   \n",
              "1              0  ...        NaN        NaN        NaN        NaN        NaN   \n",
              "2              0  ...        NaN        NaN        NaN        NaN        NaN   \n",
              "3              0  ...        NaN        NaN        NaN        NaN        NaN   \n",
              "4              0  ...        NaN        NaN        NaN        NaN        NaN   \n",
              "...          ...  ...        ...        ...        ...        ...        ...   \n",
              "21887          0  ...        0.0        0.0        0.0        0.0        0.0   \n",
              "21888          0  ...        0.0        0.0        0.0        0.0        0.0   \n",
              "21889          0  ...        NaN        NaN        NaN        NaN        NaN   \n",
              "21890          0  ...        NaN        NaN        NaN        NaN        NaN   \n",
              "21891          0  ...        NaN        NaN        NaN        NaN        NaN   \n",
              "\n",
              "       machine17  machine18  machine19  machine20  machine21  \n",
              "0            0.0        1.0        0.0        0.0        0.0  \n",
              "1            0.0        1.0        0.0        0.0        0.0  \n",
              "2            0.0        1.0        0.0        0.0        0.0  \n",
              "3            0.0        1.0        0.0        0.0        0.0  \n",
              "4            0.0        1.0        0.0        0.0        0.0  \n",
              "...          ...        ...        ...        ...        ...  \n",
              "21887        NaN        NaN        NaN        NaN        NaN  \n",
              "21888        NaN        NaN        NaN        NaN        NaN  \n",
              "21889        NaN        NaN        NaN        NaN        NaN  \n",
              "21890        NaN        NaN        NaN        NaN        NaN  \n",
              "21891        NaN        NaN        NaN        NaN        NaN  \n",
              "\n",
              "[21892 rows x 66 columns]"
            ],
            "text/html": [
              "\n",
              "  <div id=\"df-ed05dbd0-f6e1-468a-945f-a10fdb3fa265\">\n",
              "    <div class=\"colab-df-container\">\n",
              "      <div>\n",
              "<style scoped>\n",
              "    .dataframe tbody tr th:only-of-type {\n",
              "        vertical-align: middle;\n",
              "    }\n",
              "\n",
              "    .dataframe tbody tr th {\n",
              "        vertical-align: top;\n",
              "    }\n",
              "\n",
              "    .dataframe thead th {\n",
              "        text-align: right;\n",
              "    }\n",
              "</style>\n",
              "<table border=\"1\" class=\"dataframe\">\n",
              "  <thead>\n",
              "    <tr style=\"text-align: right;\">\n",
              "      <th></th>\n",
              "      <th>Timestamp_x</th>\n",
              "      <th>SensorID</th>\n",
              "      <th>SequenceNumber</th>\n",
              "      <th>TotalLength</th>\n",
              "      <th>SourceAddress</th>\n",
              "      <th>TempHumiRange</th>\n",
              "      <th>TempHumiStatus</th>\n",
              "      <th>TempHumiEvent</th>\n",
              "      <th>TempHumiSenVal</th>\n",
              "      <th>XSenEvent</th>\n",
              "      <th>...</th>\n",
              "      <th>machine12</th>\n",
              "      <th>machine13</th>\n",
              "      <th>machine14</th>\n",
              "      <th>machine15</th>\n",
              "      <th>machine16</th>\n",
              "      <th>machine17</th>\n",
              "      <th>machine18</th>\n",
              "      <th>machine19</th>\n",
              "      <th>machine20</th>\n",
              "      <th>machine21</th>\n",
              "    </tr>\n",
              "  </thead>\n",
              "  <tbody>\n",
              "    <tr>\n",
              "      <th>0</th>\n",
              "      <td>1668729853</td>\n",
              "      <td>sensor2</td>\n",
              "      <td>135</td>\n",
              "      <td>88</td>\n",
              "      <td>NaN</td>\n",
              "      <td>0</td>\n",
              "      <td>0</td>\n",
              "      <td>0</td>\n",
              "      <td>34562</td>\n",
              "      <td>0</td>\n",
              "      <td>...</td>\n",
              "      <td>NaN</td>\n",
              "      <td>NaN</td>\n",
              "      <td>NaN</td>\n",
              "      <td>NaN</td>\n",
              "      <td>NaN</td>\n",
              "      <td>0.0</td>\n",
              "      <td>1.0</td>\n",
              "      <td>0.0</td>\n",
              "      <td>0.0</td>\n",
              "      <td>0.0</td>\n",
              "    </tr>\n",
              "    <tr>\n",
              "      <th>1</th>\n",
              "      <td>1668729866</td>\n",
              "      <td>sensor4</td>\n",
              "      <td>255</td>\n",
              "      <td>88</td>\n",
              "      <td>NaN</td>\n",
              "      <td>0</td>\n",
              "      <td>0</td>\n",
              "      <td>0</td>\n",
              "      <td>29875</td>\n",
              "      <td>0</td>\n",
              "      <td>...</td>\n",
              "      <td>NaN</td>\n",
              "      <td>NaN</td>\n",
              "      <td>NaN</td>\n",
              "      <td>NaN</td>\n",
              "      <td>NaN</td>\n",
              "      <td>0.0</td>\n",
              "      <td>1.0</td>\n",
              "      <td>0.0</td>\n",
              "      <td>0.0</td>\n",
              "      <td>0.0</td>\n",
              "    </tr>\n",
              "    <tr>\n",
              "      <th>2</th>\n",
              "      <td>1668730437</td>\n",
              "      <td>sensor1</td>\n",
              "      <td>72</td>\n",
              "      <td>88</td>\n",
              "      <td>NaN</td>\n",
              "      <td>0</td>\n",
              "      <td>0</td>\n",
              "      <td>0</td>\n",
              "      <td>30062</td>\n",
              "      <td>0</td>\n",
              "      <td>...</td>\n",
              "      <td>NaN</td>\n",
              "      <td>NaN</td>\n",
              "      <td>NaN</td>\n",
              "      <td>NaN</td>\n",
              "      <td>NaN</td>\n",
              "      <td>0.0</td>\n",
              "      <td>1.0</td>\n",
              "      <td>0.0</td>\n",
              "      <td>0.0</td>\n",
              "      <td>0.0</td>\n",
              "    </tr>\n",
              "    <tr>\n",
              "      <th>3</th>\n",
              "      <td>1668730753</td>\n",
              "      <td>sensor2</td>\n",
              "      <td>136</td>\n",
              "      <td>88</td>\n",
              "      <td>NaN</td>\n",
              "      <td>0</td>\n",
              "      <td>0</td>\n",
              "      <td>0</td>\n",
              "      <td>34312</td>\n",
              "      <td>0</td>\n",
              "      <td>...</td>\n",
              "      <td>NaN</td>\n",
              "      <td>NaN</td>\n",
              "      <td>NaN</td>\n",
              "      <td>NaN</td>\n",
              "      <td>NaN</td>\n",
              "      <td>0.0</td>\n",
              "      <td>1.0</td>\n",
              "      <td>0.0</td>\n",
              "      <td>0.0</td>\n",
              "      <td>0.0</td>\n",
              "    </tr>\n",
              "    <tr>\n",
              "      <th>4</th>\n",
              "      <td>1668730766</td>\n",
              "      <td>sensor4</td>\n",
              "      <td>0</td>\n",
              "      <td>88</td>\n",
              "      <td>NaN</td>\n",
              "      <td>0</td>\n",
              "      <td>0</td>\n",
              "      <td>0</td>\n",
              "      <td>29687</td>\n",
              "      <td>0</td>\n",
              "      <td>...</td>\n",
              "      <td>NaN</td>\n",
              "      <td>NaN</td>\n",
              "      <td>NaN</td>\n",
              "      <td>NaN</td>\n",
              "      <td>NaN</td>\n",
              "      <td>0.0</td>\n",
              "      <td>1.0</td>\n",
              "      <td>0.0</td>\n",
              "      <td>0.0</td>\n",
              "      <td>0.0</td>\n",
              "    </tr>\n",
              "    <tr>\n",
              "      <th>...</th>\n",
              "      <td>...</td>\n",
              "      <td>...</td>\n",
              "      <td>...</td>\n",
              "      <td>...</td>\n",
              "      <td>...</td>\n",
              "      <td>...</td>\n",
              "      <td>...</td>\n",
              "      <td>...</td>\n",
              "      <td>...</td>\n",
              "      <td>...</td>\n",
              "      <td>...</td>\n",
              "      <td>...</td>\n",
              "      <td>...</td>\n",
              "      <td>...</td>\n",
              "      <td>...</td>\n",
              "      <td>...</td>\n",
              "      <td>...</td>\n",
              "      <td>...</td>\n",
              "      <td>...</td>\n",
              "      <td>...</td>\n",
              "      <td>...</td>\n",
              "    </tr>\n",
              "    <tr>\n",
              "      <th>21887</th>\n",
              "      <td>1669578553</td>\n",
              "      <td>sensor2</td>\n",
              "      <td>54</td>\n",
              "      <td>88</td>\n",
              "      <td>NaN</td>\n",
              "      <td>0</td>\n",
              "      <td>0</td>\n",
              "      <td>0</td>\n",
              "      <td>29062</td>\n",
              "      <td>0</td>\n",
              "      <td>...</td>\n",
              "      <td>0.0</td>\n",
              "      <td>0.0</td>\n",
              "      <td>0.0</td>\n",
              "      <td>0.0</td>\n",
              "      <td>0.0</td>\n",
              "      <td>NaN</td>\n",
              "      <td>NaN</td>\n",
              "      <td>NaN</td>\n",
              "      <td>NaN</td>\n",
              "      <td>NaN</td>\n",
              "    </tr>\n",
              "    <tr>\n",
              "      <th>21888</th>\n",
              "      <td>1669578553</td>\n",
              "      <td>sensor2</td>\n",
              "      <td>54</td>\n",
              "      <td>88</td>\n",
              "      <td>NaN</td>\n",
              "      <td>0</td>\n",
              "      <td>0</td>\n",
              "      <td>0</td>\n",
              "      <td>29062</td>\n",
              "      <td>0</td>\n",
              "      <td>...</td>\n",
              "      <td>0.0</td>\n",
              "      <td>0.0</td>\n",
              "      <td>0.0</td>\n",
              "      <td>0.0</td>\n",
              "      <td>0.0</td>\n",
              "      <td>NaN</td>\n",
              "      <td>NaN</td>\n",
              "      <td>NaN</td>\n",
              "      <td>NaN</td>\n",
              "      <td>NaN</td>\n",
              "    </tr>\n",
              "    <tr>\n",
              "      <th>21889</th>\n",
              "      <td>1669578553</td>\n",
              "      <td>sensor2</td>\n",
              "      <td>54</td>\n",
              "      <td>88</td>\n",
              "      <td>NaN</td>\n",
              "      <td>0</td>\n",
              "      <td>0</td>\n",
              "      <td>0</td>\n",
              "      <td>29062</td>\n",
              "      <td>0</td>\n",
              "      <td>...</td>\n",
              "      <td>NaN</td>\n",
              "      <td>NaN</td>\n",
              "      <td>NaN</td>\n",
              "      <td>NaN</td>\n",
              "      <td>NaN</td>\n",
              "      <td>NaN</td>\n",
              "      <td>NaN</td>\n",
              "      <td>NaN</td>\n",
              "      <td>NaN</td>\n",
              "      <td>NaN</td>\n",
              "    </tr>\n",
              "    <tr>\n",
              "      <th>21890</th>\n",
              "      <td>1669578553</td>\n",
              "      <td>sensor2</td>\n",
              "      <td>54</td>\n",
              "      <td>88</td>\n",
              "      <td>NaN</td>\n",
              "      <td>0</td>\n",
              "      <td>0</td>\n",
              "      <td>0</td>\n",
              "      <td>29062</td>\n",
              "      <td>0</td>\n",
              "      <td>...</td>\n",
              "      <td>NaN</td>\n",
              "      <td>NaN</td>\n",
              "      <td>NaN</td>\n",
              "      <td>NaN</td>\n",
              "      <td>NaN</td>\n",
              "      <td>NaN</td>\n",
              "      <td>NaN</td>\n",
              "      <td>NaN</td>\n",
              "      <td>NaN</td>\n",
              "      <td>NaN</td>\n",
              "    </tr>\n",
              "    <tr>\n",
              "      <th>21891</th>\n",
              "      <td>1669578553</td>\n",
              "      <td>sensor2</td>\n",
              "      <td>54</td>\n",
              "      <td>88</td>\n",
              "      <td>NaN</td>\n",
              "      <td>0</td>\n",
              "      <td>0</td>\n",
              "      <td>0</td>\n",
              "      <td>29062</td>\n",
              "      <td>0</td>\n",
              "      <td>...</td>\n",
              "      <td>NaN</td>\n",
              "      <td>NaN</td>\n",
              "      <td>NaN</td>\n",
              "      <td>NaN</td>\n",
              "      <td>NaN</td>\n",
              "      <td>NaN</td>\n",
              "      <td>NaN</td>\n",
              "      <td>NaN</td>\n",
              "      <td>NaN</td>\n",
              "      <td>NaN</td>\n",
              "    </tr>\n",
              "  </tbody>\n",
              "</table>\n",
              "<p>21892 rows × 66 columns</p>\n",
              "</div>\n",
              "      <button class=\"colab-df-convert\" onclick=\"convertToInteractive('df-ed05dbd0-f6e1-468a-945f-a10fdb3fa265')\"\n",
              "              title=\"Convert this dataframe to an interactive table.\"\n",
              "              style=\"display:none;\">\n",
              "        \n",
              "  <svg xmlns=\"http://www.w3.org/2000/svg\" height=\"24px\"viewBox=\"0 0 24 24\"\n",
              "       width=\"24px\">\n",
              "    <path d=\"M0 0h24v24H0V0z\" fill=\"none\"/>\n",
              "    <path d=\"M18.56 5.44l.94 2.06.94-2.06 2.06-.94-2.06-.94-.94-2.06-.94 2.06-2.06.94zm-11 1L8.5 8.5l.94-2.06 2.06-.94-2.06-.94L8.5 2.5l-.94 2.06-2.06.94zm10 10l.94 2.06.94-2.06 2.06-.94-2.06-.94-.94-2.06-.94 2.06-2.06.94z\"/><path d=\"M17.41 7.96l-1.37-1.37c-.4-.4-.92-.59-1.43-.59-.52 0-1.04.2-1.43.59L10.3 9.45l-7.72 7.72c-.78.78-.78 2.05 0 2.83L4 21.41c.39.39.9.59 1.41.59.51 0 1.02-.2 1.41-.59l7.78-7.78 2.81-2.81c.8-.78.8-2.07 0-2.86zM5.41 20L4 18.59l7.72-7.72 1.47 1.35L5.41 20z\"/>\n",
              "  </svg>\n",
              "      </button>\n",
              "      \n",
              "  <style>\n",
              "    .colab-df-container {\n",
              "      display:flex;\n",
              "      flex-wrap:wrap;\n",
              "      gap: 12px;\n",
              "    }\n",
              "\n",
              "    .colab-df-convert {\n",
              "      background-color: #E8F0FE;\n",
              "      border: none;\n",
              "      border-radius: 50%;\n",
              "      cursor: pointer;\n",
              "      display: none;\n",
              "      fill: #1967D2;\n",
              "      height: 32px;\n",
              "      padding: 0 0 0 0;\n",
              "      width: 32px;\n",
              "    }\n",
              "\n",
              "    .colab-df-convert:hover {\n",
              "      background-color: #E2EBFA;\n",
              "      box-shadow: 0px 1px 2px rgba(60, 64, 67, 0.3), 0px 1px 3px 1px rgba(60, 64, 67, 0.15);\n",
              "      fill: #174EA6;\n",
              "    }\n",
              "\n",
              "    [theme=dark] .colab-df-convert {\n",
              "      background-color: #3B4455;\n",
              "      fill: #D2E3FC;\n",
              "    }\n",
              "\n",
              "    [theme=dark] .colab-df-convert:hover {\n",
              "      background-color: #434B5C;\n",
              "      box-shadow: 0px 1px 3px 1px rgba(0, 0, 0, 0.15);\n",
              "      filter: drop-shadow(0px 1px 2px rgba(0, 0, 0, 0.3));\n",
              "      fill: #FFFFFF;\n",
              "    }\n",
              "  </style>\n",
              "\n",
              "      <script>\n",
              "        const buttonEl =\n",
              "          document.querySelector('#df-ed05dbd0-f6e1-468a-945f-a10fdb3fa265 button.colab-df-convert');\n",
              "        buttonEl.style.display =\n",
              "          google.colab.kernel.accessAllowed ? 'block' : 'none';\n",
              "\n",
              "        async function convertToInteractive(key) {\n",
              "          const element = document.querySelector('#df-ed05dbd0-f6e1-468a-945f-a10fdb3fa265');\n",
              "          const dataTable =\n",
              "            await google.colab.kernel.invokeFunction('convertToInteractive',\n",
              "                                                     [key], {});\n",
              "          if (!dataTable) return;\n",
              "\n",
              "          const docLinkHtml = 'Like what you see? Visit the ' +\n",
              "            '<a target=\"_blank\" href=https://colab.research.google.com/notebooks/data_table.ipynb>data table notebook</a>'\n",
              "            + ' to learn more about interactive tables.';\n",
              "          element.innerHTML = '';\n",
              "          dataTable['output_type'] = 'display_data';\n",
              "          await google.colab.output.renderOutput(dataTable, element);\n",
              "          const docLink = document.createElement('div');\n",
              "          docLink.innerHTML = docLinkHtml;\n",
              "          element.appendChild(docLink);\n",
              "        }\n",
              "      </script>\n",
              "    </div>\n",
              "  </div>\n",
              "  "
            ]
          },
          "metadata": {},
          "execution_count": 58
        }
      ],
      "source": [
        "df_mapped = pd.read_csv('/content/mapped (2).csv')\n",
        "df_mapped"
      ]
    },
    {
      "cell_type": "code",
      "execution_count": null,
      "metadata": {
        "id": "6hqUolpx8Ryp"
      },
      "outputs": [],
      "source": [
        "indexes = df_mapped[df_mapped['machine2'] !=1].index\n",
        "df_mapped.drop(indexes,inplace=True)\n",
        "\n",
        "\n",
        "df1 = df_mapped.drop(['Timestamp_x', 'SequenceNumber', 'TotalLength', 'SourceAddress', 'TempHumiRange','TempHumiStatus', 'TempHumiEvent', 'TempHumiSenVal', 'XSenEvent', 'XPeakmg', 'XRMSmg', 'XKurtosis', 'XCrestFactor','XSkewness', 'XDeviation', 'XPeaktoPeakDisplacement', 'YSenEvent', 'YPeakmg', 'YRMSmg', 'YKurtosis', 'YCrestFactor','YSkewness', 'YDeviation', 'YPeaktoPeakDisplacement', 'ZSenEvent', 'ZPeakmg', 'ZRMSmg', 'ZKurtosis', 'ZCrestFactor','ZSkewness', 'ZDeviation', 'ZPeaktoPeakDisplacement', 'LogIndex','DeviceEvents', 'DevicePowerSrc', 'DeviceBatteryVolt', 'DeviceTime', 'Timestamp_y', 'UID'],axis='columns')\n",
        "#df1=df_mapped"
      ]
    },
    {
      "cell_type": "code",
      "execution_count": null,
      "metadata": {
        "colab": {
          "base_uri": "https://localhost:8080/"
        },
        "id": "B_UxLVMoUVxw",
        "outputId": "d55bf0cb-104b-4710-fc09-250bfda7fe94"
      },
      "outputs": [
        {
          "output_type": "execute_result",
          "data": {
            "text/plain": [
              "453"
            ]
          },
          "metadata": {},
          "execution_count": 60
        }
      ],
      "source": [
        "df1.loc[:,'XOAVelocity'] /= 100\n",
        "df1.loc[:,'YOAVelocity'] /= 100\n",
        "df1.loc[:,'ZOAVelocity'] /= 100\n",
        "\n",
        "\n",
        "len(df1)"
      ]
    },
    {
      "cell_type": "code",
      "source": [
        "df_sensor1= df1[df1['SensorID'] == 'sensor1']\n",
        "df_sensor2= df1[df1['SensorID'] == 'sensor2']\n",
        "df_sensor3= df1[df1['SensorID'] == 'sensor3']\n",
        "df_sensor4= df1[df1['SensorID'] == 'sensor4']"
      ],
      "metadata": {
        "id": "NIpPAna8AVfE"
      },
      "execution_count": null,
      "outputs": []
    },
    {
      "cell_type": "code",
      "source": [
        "df_sensor4.value_counts"
      ],
      "metadata": {
        "colab": {
          "base_uri": "https://localhost:8080/"
        },
        "id": "G61P3Pc9Jkih",
        "outputId": "21c43869-8e8c-4774-91c4-ced574693e44"
      },
      "execution_count": null,
      "outputs": [
        {
          "output_type": "execute_result",
          "data": {
            "text/plain": [
              "<bound method DataFrame.value_counts of       SensorID  XOAVelocity  YOAVelocity  ZOAVelocity         converted  \\\n",
              "8013   sensor4         0.28         0.34         0.87   11/21/2022 9:49   \n",
              "8014   sensor4         0.28         0.34         0.87   11/21/2022 9:49   \n",
              "8015   sensor4         0.28         0.34         0.87   11/21/2022 9:49   \n",
              "8790   sensor4         0.36         0.41         1.22   11/22/2022 1:19   \n",
              "8791   sensor4         0.36         0.41         1.22   11/22/2022 1:19   \n",
              "...        ...          ...          ...          ...               ...   \n",
              "9991   sensor4         0.25         0.25         0.85  11/22/2022 13:49   \n",
              "9992   sensor4         0.25         0.25         0.85  11/22/2022 13:49   \n",
              "9997   sensor4         0.25         0.25         0.85  11/22/2022 13:49   \n",
              "10018  sensor4         0.24         0.26         0.93  11/22/2022 14:04   \n",
              "10019  sensor4         0.24         0.26         0.93  11/22/2022 14:04   \n",
              "\n",
              "       Unnamed: 0  machine1  machine2  machine3  machine4  ...  machine12  \\\n",
              "8013         2563       0.0       1.0       0.0       0.0  ...        NaN   \n",
              "8014         2564       0.0       1.0       0.0       0.0  ...        NaN   \n",
              "8015         2565       0.0       1.0       0.0       0.0  ...        NaN   \n",
              "8790         5476       0.0       1.0       0.0       0.0  ...        NaN   \n",
              "8791         5477       0.0       1.0       0.0       0.0  ...        NaN   \n",
              "...           ...       ...       ...       ...       ...  ...        ...   \n",
              "9991        10046       1.0       1.0       0.0       0.0  ...        NaN   \n",
              "9992        10047       1.0       1.0       0.0       0.0  ...        NaN   \n",
              "9997        10052       1.0       1.0       0.0       0.0  ...        NaN   \n",
              "10018       10148       1.0       1.0       0.0       0.0  ...        NaN   \n",
              "10019       10149       1.0       1.0       0.0       0.0  ...        NaN   \n",
              "\n",
              "       machine13  machine14  machine15  machine16  machine17  machine18  \\\n",
              "8013         NaN        NaN        NaN        NaN        NaN        NaN   \n",
              "8014         NaN        NaN        NaN        NaN        NaN        NaN   \n",
              "8015         NaN        NaN        NaN        NaN        NaN        NaN   \n",
              "8790         NaN        NaN        NaN        NaN        NaN        NaN   \n",
              "8791         NaN        NaN        NaN        NaN        NaN        NaN   \n",
              "...          ...        ...        ...        ...        ...        ...   \n",
              "9991         NaN        NaN        NaN        NaN        NaN        NaN   \n",
              "9992         NaN        NaN        NaN        NaN        NaN        NaN   \n",
              "9997         NaN        NaN        NaN        NaN        NaN        NaN   \n",
              "10018        NaN        NaN        NaN        NaN        NaN        NaN   \n",
              "10019        NaN        NaN        NaN        NaN        NaN        NaN   \n",
              "\n",
              "       machine19  machine20  machine21  \n",
              "8013         NaN        NaN        NaN  \n",
              "8014         NaN        NaN        NaN  \n",
              "8015         NaN        NaN        NaN  \n",
              "8790         NaN        NaN        NaN  \n",
              "8791         NaN        NaN        NaN  \n",
              "...          ...        ...        ...  \n",
              "9991         NaN        NaN        NaN  \n",
              "9992         NaN        NaN        NaN  \n",
              "9997         NaN        NaN        NaN  \n",
              "10018        NaN        NaN        NaN  \n",
              "10019        NaN        NaN        NaN  \n",
              "\n",
              "[112 rows x 27 columns]>"
            ]
          },
          "metadata": {},
          "execution_count": 67
        }
      ]
    },
    {
      "cell_type": "code",
      "source": [
        "df_sensor4.columns"
      ],
      "metadata": {
        "colab": {
          "base_uri": "https://localhost:8080/"
        },
        "id": "vhAitWB2EeAr",
        "outputId": "75bc9c4a-1348-4272-8fbb-218dfe484725"
      },
      "execution_count": null,
      "outputs": [
        {
          "output_type": "execute_result",
          "data": {
            "text/plain": [
              "Index(['SensorID', 'XOAVelocity', 'YOAVelocity', 'ZOAVelocity', 'converted',\n",
              "       'Unnamed: 0', 'machine1', 'machine2', 'machine3', 'machine4',\n",
              "       'machine5', 'machine6', 'machine7', 'machine8', 'machine9', 'machine10',\n",
              "       'machine11', 'machine12', 'machine13', 'machine14', 'machine15',\n",
              "       'machine16', 'machine17', 'machine18', 'machine19', 'machine20',\n",
              "       'machine21'],\n",
              "      dtype='object')"
            ]
          },
          "metadata": {},
          "execution_count": 50
        }
      ]
    },
    {
      "cell_type": "code",
      "execution_count": null,
      "metadata": {
        "id": "DKU_XUKP8R4V",
        "colab": {
          "base_uri": "https://localhost:8080/"
        },
        "outputId": "67132537-1c82-49a6-ebdf-248fbb7386e3"
      },
      "outputs": [
        {
          "output_type": "stream",
          "name": "stderr",
          "text": [
            "<ipython-input-51-c39896b86275>:1: SettingWithCopyWarning: \n",
            "A value is trying to be set on a copy of a slice from a DataFrame.\n",
            "Try using .loc[row_indexer,col_indexer] = value instead\n",
            "\n",
            "See the caveats in the documentation: https://pandas.pydata.org/pandas-docs/stable/user_guide/indexing.html#returning-a-view-versus-a-copy\n",
            "  df_sensor4['x_faulty'] = ['Good' if row < 1.12 else 'Satisfactory' if row < 2.80 else 'Unsatisfactory' if row < 7.10 else 'Unacceptable' for row in df_sensor4['XOAVelocity']]\n",
            "<ipython-input-51-c39896b86275>:2: SettingWithCopyWarning: \n",
            "A value is trying to be set on a copy of a slice from a DataFrame.\n",
            "Try using .loc[row_indexer,col_indexer] = value instead\n",
            "\n",
            "See the caveats in the documentation: https://pandas.pydata.org/pandas-docs/stable/user_guide/indexing.html#returning-a-view-versus-a-copy\n",
            "  df_sensor4['y_faulty'] = ['Good' if row < 1.12 else 'Satisfactory' if row < 2.80 else 'Unsatisfactory' if row < 7.10 else 'Unacceptable' for row in df_sensor4['YOAVelocity']]\n",
            "<ipython-input-51-c39896b86275>:3: SettingWithCopyWarning: \n",
            "A value is trying to be set on a copy of a slice from a DataFrame.\n",
            "Try using .loc[row_indexer,col_indexer] = value instead\n",
            "\n",
            "See the caveats in the documentation: https://pandas.pydata.org/pandas-docs/stable/user_guide/indexing.html#returning-a-view-versus-a-copy\n",
            "  df_sensor4['z_faulty'] = ['Good' if row < 1.12 else 'Satisfactory' if row < 2.80 else 'Unsatisfactory' if row < 7.10 else 'Unacceptable' for row in df_sensor4['ZOAVelocity']]\n",
            "<ipython-input-51-c39896b86275>:5: SettingWithCopyWarning: \n",
            "A value is trying to be set on a copy of a slice from a DataFrame.\n",
            "Try using .loc[row_indexer,col_indexer] = value instead\n",
            "\n",
            "See the caveats in the documentation: https://pandas.pydata.org/pandas-docs/stable/user_guide/indexing.html#returning-a-view-versus-a-copy\n",
            "  df_sensor4['faulty'] = df_sensor4.apply(lambda row: 'Faulty' if (row['x_faulty'] == 'Unsatisfactory' or row['y_faulty'] == 'Unsatisfactory' or row['z_faulty'] == 'Unsatisfactory') else 'Good', axis=1)\n",
            "<ipython-input-51-c39896b86275>:15: SettingWithCopyWarning: \n",
            "A value is trying to be set on a copy of a slice from a DataFrame.\n",
            "Try using .loc[row_indexer,col_indexer] = value instead\n",
            "\n",
            "See the caveats in the documentation: https://pandas.pydata.org/pandas-docs/stable/user_guide/indexing.html#returning-a-view-versus-a-copy\n",
            "  df_sensor4['target'] = any_ones.apply(lambda x: 0 if x else 1)\n"
          ]
        }
      ],
      "source": [
        "df_sensor4['x_faulty'] = ['Good' if row < 1.12 else 'Satisfactory' if row < 2.80 else 'Unsatisfactory' if row < 7.10 else 'Unacceptable' for row in df_sensor4['XOAVelocity']]\n",
        "df_sensor4['y_faulty'] = ['Good' if row < 1.12 else 'Satisfactory' if row < 2.80 else 'Unsatisfactory' if row < 7.10 else 'Unacceptable' for row in df_sensor4['YOAVelocity']]\n",
        "df_sensor4['z_faulty'] = ['Good' if row < 1.12 else 'Satisfactory' if row < 2.80 else 'Unsatisfactory' if row < 7.10 else 'Unacceptable' for row in df_sensor4['ZOAVelocity']]\n",
        "\n",
        "df_sensor4['faulty'] = df_sensor4.apply(lambda row: 'Faulty' if (row['x_faulty'] == 'Unsatisfactory' or row['y_faulty'] == 'Unsatisfactory' or row['z_faulty'] == 'Unsatisfactory') else 'Good', axis=1)\n",
        "\n",
        "\n",
        "# select the columns from machine1 to machine 21, excluding machine2\n",
        "selected_cols = df_sensor4.iloc[:, 3:25].drop(columns=['machine2'])\n",
        "\n",
        "# check if any of the values in the selected columns is equal to 1\n",
        "any_ones = selected_cols.eq(1).any(axis=1)\n",
        "\n",
        "# set the target column to 1 if machine 2 working alone or otherwise 0\n",
        "df_sensor4['target'] = any_ones.apply(lambda x: 0 if x else 1)"
      ]
    },
    {
      "cell_type": "code",
      "execution_count": null,
      "metadata": {
        "colab": {
          "base_uri": "https://localhost:8080/",
          "height": 718
        },
        "id": "YKHo_yTy8R7B",
        "outputId": "b643cb24-281a-4fc6-ae3e-652c1e610b08"
      },
      "outputs": [
        {
          "output_type": "display_data",
          "data": {
            "text/plain": [
              "<Figure size 1000x800 with 4 Axes>"
            ],
            "image/png": "[encoded data removed]"
          },
          "metadata": {}
        }
      ],
      "source": [
        "# create a figure with 4 subplots\n",
        "fig, axes = plt.subplots(2, 2, figsize=(10, 8))\n",
        "\n",
        "# plot for XOAVelocity vs x_faulty\n",
        "data_x = df_sensor4.groupby('x_faulty')['XOAVelocity'].count()\n",
        "axes[0, 0].bar(data_x.index, data_x.values)\n",
        "axes[0, 0].set_xlabel('XOA Velocity Label')\n",
        "axes[0, 0].set_ylabel('Count')\n",
        "axes[0, 0].set_title('Distribution of XOA Velocity Labels')\n",
        "\n",
        "# plot for YOAVelocity vs y_faulty\n",
        "data_y = df_sensor4.groupby('y_faulty')['YOAVelocity'].count()\n",
        "axes[0, 1].bar(data_y.index, data_y.values)\n",
        "axes[0, 1].set_xlabel('YOA Velocity Label')\n",
        "axes[0, 1].set_ylabel('Count')\n",
        "axes[0, 1].set_title('Distribution of YOA Velocity Labels')\n",
        "\n",
        "# plot for ZOAVelocity vs z_faulty\n",
        "data_z = df_sensor4.groupby('z_faulty')['ZOAVelocity'].count()\n",
        "axes[1, 0].bar(data_z.index, data_z.values)\n",
        "axes[1, 0].set_xlabel('ZOA Velocity Label')\n",
        "axes[1, 0].set_ylabel('Count')\n",
        "axes[1, 0].set_title('Distribution of ZOA Velocity Labels')\n",
        "\n",
        "# plot for faulty column\n",
        "data_f = df_sensor4.groupby('faulty')['faulty'].count()\n",
        "axes[1, 1].bar(data_f.index, data_f.values)\n",
        "axes[1, 1].set_xlabel('Faulty Label')\n",
        "axes[1, 1].set_ylabel('Count')\n",
        "axes[1, 1].set_title('Distribution of Faulty Labels')\n",
        "\n",
        "# adjust spacing between subplots\n",
        "plt.subplots_adjust(hspace=0.5, wspace=0.3)\n",
        "\n",
        "# display the plot\n",
        "plt.show()"
      ]
    },
    {
      "cell_type": "code",
      "execution_count": null,
      "metadata": {
        "colab": {
          "base_uri": "https://localhost:8080/",
          "height": 507
        },
        "id": "EIxAjgBr8R9y",
        "outputId": "81e11341-b58e-4b5d-f953-a25fd9980f77"
      },
      "outputs": [
        {
          "output_type": "display_data",
          "data": {
            "text/plain": [
              "<Figure size 1000x500 with 2 Axes>"
            ],
            "image/png": "[encoded data removed]"
          },
          "metadata": {}
        }
      ],
      "source": [
        "# count the number of 'Faulty' and 'Good' labels for each value of 'target_column'\n",
        "target_counts = df_sensor4.groupby(['target', 'faulty']).size().unstack()\n",
        "\n",
        "# plot two bar charts, one for target_column = 0 and one for target_column = 1\n",
        "fig, axs = plt.subplots(1, 2, figsize=(10, 5))\n",
        "target_counts.loc[0].plot(kind='bar', ax=axs[0], title='Target=0')\n",
        "target_counts.loc[1].plot(kind='bar', ax=axs[1], title='Target=1')\n",
        "plt.tight_layout()\n",
        "plt.show()"
      ]
    },
    {
      "cell_type": "code",
      "execution_count": null,
      "metadata": {
        "colab": {
          "base_uri": "https://localhost:8080/"
        },
        "id": "THP1P_wJ8SAq",
        "outputId": "aca8f2f1-cead-49ce-c2cb-e044b2b73dca"
      },
      "outputs": [
        {
          "output_type": "stream",
          "name": "stdout",
          "text": [
            "Accuracy: 1.0\n"
          ]
        }
      ],
      "source": [
        "from sklearn.svm import OneClassSVM\n",
        "from sklearn.metrics import accuracy_score\n",
        "\n",
        "def splitTrainTest(ratio, data, labels):\n",
        "\n",
        "  x_train, x_test,_ = np.split(data, [round(len(data) * ratio), len(data)])\n",
        "  labels_train, labels_test,_ = np.split(labels, [round(len(labels) * ratio), len(labels)])\n",
        "\n",
        "  return (x_train,labels_train, x_test,labels_test)\n",
        "\n",
        "# Split the dataset into training and testing sets\n",
        "X_train, y_train, X_test, y_test = splitTrainTest(0.7,df_sensor4[['XOAVelocity', 'YOAVelocity', 'ZOAVelocity','converted']], df_sensor4['faulty'])\n",
        "# Create an instance of the OneClassSVM class\n",
        "ocs = OneClassSVM(kernel='rbf', gamma='auto', nu=0.1)\n",
        "\n",
        "# Fit the model to the training data\n",
        "ocs.fit(X_train[['XOAVelocity', 'YOAVelocity', 'ZOAVelocity']])\n",
        "\n",
        "# Predict the labels of the testing data\n",
        "y_pred = ocs.predict(X_test[['XOAVelocity', 'YOAVelocity', 'ZOAVelocity']])\n",
        "y_test = pd.Series(np.array(y_test)).replace({\"Good\": 1, \"Faulty\": -1})\n",
        "\n",
        "# Evaluate the accuracy of the model\n",
        "accuracy = accuracy_score(y_test, y_pred)\n",
        "print(f\"Accuracy: {accuracy}\")"
      ]
    },
    {
      "cell_type": "code",
      "execution_count": null,
      "metadata": {
        "id": "1CdkUtRIWKEP",
        "colab": {
          "base_uri": "https://localhost:8080/"
        },
        "outputId": "77a94847-b292-41ec-9105-2e69c5f1e41a"
      },
      "outputs": [
        {
          "output_type": "stream",
          "name": "stderr",
          "text": [
            "/usr/local/lib/python3.10/dist-packages/sklearn/metrics/_classification.py:1344: UndefinedMetricWarning: Precision is ill-defined and being set to 0.0 due to no predicted samples. Use `zero_division` parameter to control this behavior.\n",
            "  _warn_prf(average, modifier, msg_start, len(result))\n",
            "/usr/local/lib/python3.10/dist-packages/sklearn/metrics/_classification.py:1344: UndefinedMetricWarning: Recall is ill-defined and being set to 0.0 due to no true samples. Use `zero_division` parameter to control this behavior.\n",
            "  _warn_prf(average, modifier, msg_start, len(result))\n",
            "/usr/local/lib/python3.10/dist-packages/sklearn/metrics/_classification.py:1609: UndefinedMetricWarning: F-score is ill-defined and being set to 0.0 due to no true nor predicted samples. Use `zero_division` parameter to control this behavior.\n",
            "  _warn_prf(average, \"true nor predicted\", \"F-score is\", len(true_sum))\n"
          ]
        }
      ],
      "source": [
        "from sklearn.metrics import precision_score, recall_score, f1_score\n",
        "\n",
        "\n",
        "precision = precision_score(y_test, y_pred, pos_label=-1) # how many of the predicted anomalies are actually faults\n",
        "recall = recall_score(y_test, y_pred, pos_label=-1) # how many of the actual faults were correctly identified as anomalies\n",
        "f1score = f1_score(y_test, y_pred, pos_label=-1)"
      ]
    },
    {
      "cell_type": "code",
      "execution_count": null,
      "metadata": {
        "colab": {
          "base_uri": "https://localhost:8080/"
        },
        "id": "jp7ZqSod45ab",
        "outputId": "c084f0c8-7c40-4527-dd00-f4f7d3c736c8"
      },
      "outputs": [
        {
          "output_type": "stream",
          "name": "stdout",
          "text": [
            "              precision    recall  f1-score   support\n",
            "\n",
            "           1       1.00      1.00      1.00        34\n",
            "\n",
            "    accuracy                           1.00        34\n",
            "   macro avg       1.00      1.00      1.00        34\n",
            "weighted avg       1.00      1.00      1.00        34\n",
            "\n"
          ]
        }
      ],
      "source": [
        "from sklearn.metrics import classification_report\n",
        "print(classification_report(y_test, y_pred))"
      ]
    },
    {
      "cell_type": "code",
      "execution_count": null,
      "metadata": {
        "colab": {
          "base_uri": "https://localhost:8080/"
        },
        "id": "Ost9FlMB9Osj",
        "outputId": "c6175de6-5bff-4841-e7d3-644cd5a3de23"
      },
      "outputs": [
        {
          "output_type": "stream",
          "name": "stdout",
          "text": [
            "Accuracy: 1.0\n"
          ]
        },
        {
          "output_type": "stream",
          "name": "stderr",
          "text": [
            "/usr/local/lib/python3.10/dist-packages/sklearn/base.py:439: UserWarning: X does not have valid feature names, but IsolationForest was fitted with feature names\n",
            "  warnings.warn(\n"
          ]
        }
      ],
      "source": [
        "from sklearn.ensemble import IsolationForest\n",
        "from sklearn.metrics import accuracy_score\n",
        "def splitTrainTest(ratio, data, labels):\n",
        "\n",
        "  x_train, x_test,_ = np.split(data, [round(len(data) * ratio), len(data)])\n",
        "  labels_train, labels_test,_ = np.split(labels, [round(len(labels) * ratio), len(labels)])\n",
        "\n",
        "  return (x_train,labels_train, x_test,labels_test)\n",
        "\n",
        "# Split the dataset into training and testing sets\n",
        "X_train, y_train, X_test, y_test = splitTrainTest(0.6,df_sensor3[['XOAVelocity', 'YOAVelocity', 'ZOAVelocity','converted']], df_sensor3['faulty'])\n",
        "\n",
        "\n",
        "\n",
        "# Train the Isolation Forest classifier\n",
        "classifier = IsolationForest(contamination=0.05)  # Adjust the contamination parameter as needed\n",
        "classifier.fit(X_train[['XOAVelocity', 'YOAVelocity', 'ZOAVelocity']])\n",
        "\n",
        "\n",
        "y_pred = classifier.predict(X_test[['XOAVelocity', 'YOAVelocity', 'ZOAVelocity']])\n",
        "y_test = pd.Series(np.array(y_test)).replace({\"Good\": 1, \"Faulty\": -1})\n",
        "\n",
        "# Evaluate the accuracy of the model\n",
        "accuracy = accuracy_score(y_test, y_pred)\n",
        "print(f\"Accuracy: {accuracy}\")\n",
        "\n"
      ]
    },
    {
      "cell_type": "code",
      "execution_count": null,
      "metadata": {
        "id": "z74Cykbp8SDT",
        "colab": {
          "base_uri": "https://localhost:8080/"
        },
        "outputId": "f47741c0-1f64-4961-8d56-f06b166208b6"
      },
      "outputs": [
        {
          "output_type": "stream",
          "name": "stderr",
          "text": [
            "/usr/local/lib/python3.10/dist-packages/sklearn/metrics/_classification.py:1344: UndefinedMetricWarning: Precision is ill-defined and being set to 0.0 due to no predicted samples. Use `zero_division` parameter to control this behavior.\n",
            "  _warn_prf(average, modifier, msg_start, len(result))\n",
            "/usr/local/lib/python3.10/dist-packages/sklearn/metrics/_classification.py:1344: UndefinedMetricWarning: Recall is ill-defined and being set to 0.0 due to no true samples. Use `zero_division` parameter to control this behavior.\n",
            "  _warn_prf(average, modifier, msg_start, len(result))\n",
            "/usr/local/lib/python3.10/dist-packages/sklearn/metrics/_classification.py:1609: UndefinedMetricWarning: F-score is ill-defined and being set to 0.0 due to no true nor predicted samples. Use `zero_division` parameter to control this behavior.\n",
            "  _warn_prf(average, \"true nor predicted\", \"F-score is\", len(true_sum))\n"
          ]
        }
      ],
      "source": [
        "\n",
        "from sklearn.metrics import precision_score, recall_score, f1_score\n",
        "\n",
        "\n",
        "precision = precision_score(y_test, y_pred, pos_label=-1) # how many of the predicted anomalies are actually faults\n",
        "recall = recall_score(y_test, y_pred, pos_label=-1) # how many of the actual faults were correctly identified as anomalies\n",
        "f1score = f1_score(y_test, y_pred, pos_label=-1)\n"
      ]
    },
    {
      "cell_type": "code",
      "execution_count": null,
      "metadata": {
        "colab": {
          "base_uri": "https://localhost:8080/"
        },
        "id": "vUEJSeCJ8SG0",
        "outputId": "839aaa4e-b45c-4384-e1aa-bc0f403ad234"
      },
      "outputs": [
        {
          "output_type": "stream",
          "name": "stdout",
          "text": [
            "              precision    recall  f1-score   support\n",
            "\n",
            "           1       1.00      1.00      1.00        45\n",
            "\n",
            "    accuracy                           1.00        45\n",
            "   macro avg       1.00      1.00      1.00        45\n",
            "weighted avg       1.00      1.00      1.00        45\n",
            "\n"
          ]
        }
      ],
      "source": [
        "from sklearn.metrics import classification_report\n",
        "print(classification_report(y_test, y_pred))"
      ]
    },
    {
      "cell_type": "code",
      "execution_count": null,
      "metadata": {
        "colab": {
          "base_uri": "https://localhost:8080/",
          "height": 353
        },
        "id": "7Ukapzw3E9_O",
        "outputId": "8cf79891-b9c2-45db-92e1-92724324fdd6"
      },
      "outputs": [
        {
          "output_type": "display_data",
          "data": {
            "text/plain": [
              "<Figure size 5000x1000 with 1 Axes>"
            ],
            "image/png": "[encoded data removed]"
          },
          "metadata": {}
        }
      ],
      "source": [
        "fig, ax = plt.subplots(figsize=(50,10))\n",
        "X_test['anomaly_svm'] = pd.Series(ocs.predict(X_test[['XOAVelocity', 'YOAVelocity', 'ZOAVelocity']])).values\n",
        "anomaly = X_test.loc[X_test['anomaly_svm'] == -1, ['converted', 'XOAVelocity']]\n",
        "\n",
        "\n",
        "\n",
        "ax.plot(X_test['converted'], X_test['XOAVelocity'], color='blue')\n",
        "ax.scatter(anomaly['converted'],anomaly['XOAVelocity'],  marker='X',color='red')\n",
        "\n",
        "plt.show();\n"
      ]
    }
  ],
  "metadata": {
    "colab": {
      "provenance": [],
      "include_colab_link": true
    },
    "kernelspec": {
      "display_name": "Python 3",
      "name": "python3"
    },
    "language_info": {
      "name": "python"
    }
  },
  "nbformat": 4,
  "nbformat_minor": 0
}