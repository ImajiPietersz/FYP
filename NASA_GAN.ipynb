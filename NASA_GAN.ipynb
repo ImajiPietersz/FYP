{
  "nbformat": 4,
  "nbformat_minor": 0,
  "metadata": {
    "colab": {
      "provenance": [],
      "authorship_tag": "ABX9TyMQe/rHiCuREMPRQ9yUBQBh",
      "include_colab_link": true
    },
    "kernelspec": {
      "name": "python3",
      "display_name": "Python 3"
    },
    "language_info": {
      "name": "python"
    }
  },
  "cells": [
    {
      "cell_type": "markdown",
      "metadata": {
        "id": "view-in-github",
        "colab_type": "text"
      },
      "source": [
        "<a href=\"https://colab.research.google.com/github/ImajiPietersz/FYP/blob/main/NASA_GAN.ipynb\" target=\"_parent\"><img src=\"https://colab.research.google.com/assets/colab-badge.svg\" alt=\"Open In Colab\"/></a>"
      ]
    },
    {
      "cell_type": "code",
      "source": [
        "!pip install kaggle"
      ],
      "metadata": {
        "colab": {
          "base_uri": "https://localhost:8080/"
        },
        "id": "MsiZPEIQmF7X",
        "outputId": "01679dc1-5fee-4450-e898-395a2a2b3057"
      },
      "execution_count": 1,
      "outputs": [
        {
          "output_type": "stream",
          "name": "stdout",
          "text": [
            "Looking in indexes: https://pypi.org/simple, https://us-python.pkg.dev/colab-wheels/public/simple/\n",
            "Requirement already satisfied: kaggle in /usr/local/lib/python3.10/dist-packages (1.5.13)\n",
            "Requirement already satisfied: six>=1.10 in /usr/local/lib/python3.10/dist-packages (from kaggle) (1.16.0)\n",
            "Requirement already satisfied: certifi in /usr/local/lib/python3.10/dist-packages (from kaggle) (2022.12.7)\n",
            "Requirement already satisfied: python-dateutil in /usr/local/lib/python3.10/dist-packages (from kaggle) (2.8.2)\n",
            "Requirement already satisfied: requests in /usr/local/lib/python3.10/dist-packages (from kaggle) (2.27.1)\n",
            "Requirement already satisfied: tqdm in /usr/local/lib/python3.10/dist-packages (from kaggle) (4.65.0)\n",
            "Requirement already satisfied: python-slugify in /usr/local/lib/python3.10/dist-packages (from kaggle) (8.0.1)\n",
            "Requirement already satisfied: urllib3 in /usr/local/lib/python3.10/dist-packages (from kaggle) (1.26.15)\n",
            "Requirement already satisfied: text-unidecode>=1.3 in /usr/local/lib/python3.10/dist-packages (from python-slugify->kaggle) (1.3)\n",
            "Requirement already satisfied: charset-normalizer~=2.0.0 in /usr/local/lib/python3.10/dist-packages (from requests->kaggle) (2.0.12)\n",
            "Requirement already satisfied: idna<4,>=2.5 in /usr/local/lib/python3.10/dist-packages (from requests->kaggle) (3.4)\n"
          ]
        }
      ]
    },
    {
      "cell_type": "code",
      "source": [
        "from google.colab import files\n",
        "files.upload()"
      ],
      "metadata": {
        "colab": {
          "base_uri": "https://localhost:8080/",
          "height": 92
        },
        "id": "Lo4TqIvsmIEl",
        "outputId": "5c6e1d68-fbc7-4a7a-f6b0-697998391391"
      },
      "execution_count": 2,
      "outputs": [
        {
          "output_type": "display_data",
          "data": {
            "text/plain": [
              "<IPython.core.display.HTML object>"
            ],
            "text/html": [
              "\n",
              "     <input type=\"file\" id=\"files-6097dd54-59c5-4167-adfd-efe3e88ee51a\" name=\"files[]\" multiple disabled\n",
              "        style=\"border:none\" />\n",
              "     <output id=\"result-6097dd54-59c5-4167-adfd-efe3e88ee51a\">\n",
              "      Upload widget is only available when the cell has been executed in the\n",
              "      current browser session. Please rerun this cell to enable.\n",
              "      </output>\n",
              "      <script>// Copyright 2017 Google LLC\n",
              "//\n",
              "// Licensed under the Apache License, Version 2.0 (the \"License\");\n",
              "// you may not use this file except in compliance with the License.\n",
              "// You may obtain a copy of the License at\n",
              "//\n",
              "//      http://www.apache.org/licenses/LICENSE-2.0\n",
              "//\n",
              "// Unless required by applicable law or agreed to in writing, software\n",
              "// distributed under the License is distributed on an \"AS IS\" BASIS,\n",
              "// WITHOUT WARRANTIES OR CONDITIONS OF ANY KIND, either express or implied.\n",
              "// See the License for the specific language governing permissions and\n",
              "// limitations under the License.\n",
              "\n",
              "/**\n",
              " * @fileoverview Helpers for google.colab Python module.\n",
              " */\n",
              "(function(scope) {\n",
              "function span(text, styleAttributes = {}) {\n",
              "  const element = document.createElement('span');\n",
              "  element.textContent = text;\n",
              "  for (const key of Object.keys(styleAttributes)) {\n",
              "    element.style[key] = styleAttributes[key];\n",
              "  }\n",
              "  return element;\n",
              "}\n",
              "\n",
              "// Max number of bytes which will be uploaded at a time.\n",
              "const MAX_PAYLOAD_SIZE = 100 * 1024;\n",
              "\n",
              "function _uploadFiles(inputId, outputId) {\n",
              "  const steps = uploadFilesStep(inputId, outputId);\n",
              "  const outputElement = document.getElementById(outputId);\n",
              "  // Cache steps on the outputElement to make it available for the next call\n",
              "  // to uploadFilesContinue from Python.\n",
              "  outputElement.steps = steps;\n",
              "\n",
              "  return _uploadFilesContinue(outputId);\n",
              "}\n",
              "\n",
              "// This is roughly an async generator (not supported in the browser yet),\n",
              "// where there are multiple asynchronous steps and the Python side is going\n",
              "// to poll for completion of each step.\n",
              "// This uses a Promise to block the python side on completion of each step,\n",
              "// then passes the result of the previous step as the input to the next step.\n",
              "function _uploadFilesContinue(outputId) {\n",
              "  const outputElement = document.getElementById(outputId);\n",
              "  const steps = outputElement.steps;\n",
              "\n",
              "  const next = steps.next(outputElement.lastPromiseValue);\n",
              "  return Promise.resolve(next.value.promise).then((value) => {\n",
              "    // Cache the last promise value to make it available to the next\n",
              "    // step of the generator.\n",
              "    outputElement.lastPromiseValue = value;\n",
              "    return next.value.response;\n",
              "  });\n",
              "}\n",
              "\n",
              "/**\n",
              " * Generator function which is called between each async step of the upload\n",
              " * process.\n",
              " * @param {string} inputId Element ID of the input file picker element.\n",
              " * @param {string} outputId Element ID of the output display.\n",
              " * @return {!Iterable<!Object>} Iterable of next steps.\n",
              " */\n",
              "function* uploadFilesStep(inputId, outputId) {\n",
              "  const inputElement = document.getElementById(inputId);\n",
              "  inputElement.disabled = false;\n",
              "\n",
              "  const outputElement = document.getElementById(outputId);\n",
              "  outputElement.innerHTML = '';\n",
              "\n",
              "  const pickedPromise = new Promise((resolve) => {\n",
              "    inputElement.addEventListener('change', (e) => {\n",
              "      resolve(e.target.files);\n",
              "    });\n",
              "  });\n",
              "\n",
              "  const cancel = document.createElement('button');\n",
              "  inputElement.parentElement.appendChild(cancel);\n",
              "  cancel.textContent = 'Cancel upload';\n",
              "  const cancelPromise = new Promise((resolve) => {\n",
              "    cancel.onclick = () => {\n",
              "      resolve(null);\n",
              "    };\n",
              "  });\n",
              "\n",
              "  // Wait for the user to pick the files.\n",
              "  const files = yield {\n",
              "    promise: Promise.race([pickedPromise, cancelPromise]),\n",
              "    response: {\n",
              "      action: 'starting',\n",
              "    }\n",
              "  };\n",
              "\n",
              "  cancel.remove();\n",
              "\n",
              "  // Disable the input element since further picks are not allowed.\n",
              "  inputElement.disabled = true;\n",
              "\n",
              "  if (!files) {\n",
              "    return {\n",
              "      response: {\n",
              "        action: 'complete',\n",
              "      }\n",
              "    };\n",
              "  }\n",
              "\n",
              "  for (const file of files) {\n",
              "    const li = document.createElement('li');\n",
              "    li.append(span(file.name, {fontWeight: 'bold'}));\n",
              "    li.append(span(\n",
              "        `(${file.type || 'n/a'}) - ${file.size} bytes, ` +\n",
              "        `last modified: ${\n",
              "            file.lastModifiedDate ? file.lastModifiedDate.toLocaleDateString() :\n",
              "                                    'n/a'} - `));\n",
              "    const percent = span('0% done');\n",
              "    li.appendChild(percent);\n",
              "\n",
              "    outputElement.appendChild(li);\n",
              "\n",
              "    const fileDataPromise = new Promise((resolve) => {\n",
              "      const reader = new FileReader();\n",
              "      reader.onload = (e) => {\n",
              "        resolve(e.target.result);\n",
              "      };\n",
              "      reader.readAsArrayBuffer(file);\n",
              "    });\n",
              "    // Wait for the data to be ready.\n",
              "    let fileData = yield {\n",
              "      promise: fileDataPromise,\n",
              "      response: {\n",
              "        action: 'continue',\n",
              "      }\n",
              "    };\n",
              "\n",
              "    // Use a chunked sending to avoid message size limits. See b/62115660.\n",
              "    let position = 0;\n",
              "    do {\n",
              "      const length = Math.min(fileData.byteLength - position, MAX_PAYLOAD_SIZE);\n",
              "      const chunk = new Uint8Array(fileData, position, length);\n",
              "      position += length;\n",
              "\n",
              "      const base64 = btoa(String.fromCharCode.apply(null, chunk));\n",
              "      yield {\n",
              "        response: {\n",
              "          action: 'append',\n",
              "          file: file.name,\n",
              "          data: base64,\n",
              "        },\n",
              "      };\n",
              "\n",
              "      let percentDone = fileData.byteLength === 0 ?\n",
              "          100 :\n",
              "          Math.round((position / fileData.byteLength) * 100);\n",
              "      percent.textContent = `${percentDone}% done`;\n",
              "\n",
              "    } while (position < fileData.byteLength);\n",
              "  }\n",
              "\n",
              "  // All done.\n",
              "  yield {\n",
              "    response: {\n",
              "      action: 'complete',\n",
              "    }\n",
              "  };\n",
              "}\n",
              "\n",
              "scope.google = scope.google || {};\n",
              "scope.google.colab = scope.google.colab || {};\n",
              "scope.google.colab._files = {\n",
              "  _uploadFiles,\n",
              "  _uploadFilesContinue,\n",
              "};\n",
              "})(self);\n",
              "</script> "
            ]
          },
          "metadata": {}
        },
        {
          "output_type": "stream",
          "name": "stdout",
          "text": [
            "Saving kaggle.json to kaggle.json\n"
          ]
        },
        {
          "output_type": "execute_result",
          "data": {
            "text/plain": [
              "{'kaggle.json': b'{\"username\":\"hashaninimeshika\",\"key\":\"95beb196deca7c93b02c84e31a9057d8\"}'}"
            ]
          },
          "metadata": {},
          "execution_count": 2
        }
      ]
    },
    {
      "cell_type": "code",
      "source": [
        "!mkdir -p ~/.kaggle\n",
        "!cp kaggle.json ~/.kaggle/\n",
        "\n",
        "#change the permission\n",
        "!chmod 600  ~/.kaggle/kaggle.json"
      ],
      "metadata": {
        "id": "v66ChChJmIzh"
      },
      "execution_count": 3,
      "outputs": []
    },
    {
      "cell_type": "code",
      "source": [
        "!kaggle datasets download -d vinayak123tyagi/bearing-dataset"
      ],
      "metadata": {
        "colab": {
          "base_uri": "https://localhost:8080/"
        },
        "id": "grFAZBAGmMom",
        "outputId": "78d170d5-016d-4675-aaac-85c0ac2c49b1"
      },
      "execution_count": 4,
      "outputs": [
        {
          "output_type": "stream",
          "name": "stdout",
          "text": [
            "Downloading bearing-dataset.zip to /content\n",
            "100% 1.55G/1.56G [01:08<00:00, 24.3MB/s]\n",
            "100% 1.56G/1.56G [01:08<00:00, 24.5MB/s]\n"
          ]
        }
      ]
    },
    {
      "cell_type": "code",
      "source": [
        "from zipfile import ZipFile\n",
        "file_name = \"bearing-dataset.zip\"\n",
        "\n",
        "with ZipFile(file_name, 'r') as zip1:\n",
        "  zip1.extractall()\n",
        "  print('Done')"
      ],
      "metadata": {
        "colab": {
          "base_uri": "https://localhost:8080/"
        },
        "id": "TDJI3PFvmOsv",
        "outputId": "cfe7940c-6df8-4b7f-f123-ec71eb846d96"
      },
      "execution_count": 5,
      "outputs": [
        {
          "output_type": "stream",
          "name": "stdout",
          "text": [
            "Done\n"
          ]
        }
      ]
    },
    {
      "cell_type": "code",
      "execution_count": 6,
      "metadata": {
        "id": "FgGNdoMDnTku"
      },
      "outputs": [],
      "source": [
        "import matplotlib.pyplot as plt\n",
        "import scipy.io\n",
        "import numpy as np\n",
        "import pandas as pd\n",
        "import os\n"
      ]
    },
    {
      "cell_type": "code",
      "source": [
        "import matplotlib.pyplot as plt\n"
      ],
      "metadata": {
        "id": "gAIAe0f_nECe"
      },
      "execution_count": 12,
      "outputs": []
    },
    {
      "cell_type": "code",
      "source": [
        "#We will calculate following time domain features.\n",
        "\n",
        "# Maximum value\n",
        "# Minimum value\n",
        "# Mean value\n",
        "# Standard deviation (Unbiased std)\n",
        "# Root mean square value (RMS)\n",
        "# Skewness - lack of symmetry\n",
        "# Kurtosis - the sharpness of the peak\n",
        "# Crest factor =  Max/RMS \n",
        "# Form factor =  RMS/Mean"
      ],
      "metadata": {
        "id": "Be-8xKEiu40g"
      },
      "execution_count": null,
      "outputs": []
    },
    {
      "cell_type": "code",
      "source": [
        "def compute_skewness(x):\n",
        "    n = len(x)\n",
        "    third_moment = np.sum((x - np.mean(x))**3) / n\n",
        "    s_3 = np.std(x, ddof = 1) ** 3\n",
        "    return third_moment/s_3"
      ],
      "metadata": {
        "id": "qjZTFxkPpt_u"
      },
      "execution_count": 19,
      "outputs": []
    },
    {
      "cell_type": "code",
      "source": [
        "def compute_kurtosis(x):  \n",
        "    n = len(x)\n",
        "    fourth_moment = np.sum((x - np.mean(x))**4) / n\n",
        "    s_4 = np.std(x, ddof = 1) ** 4\n",
        "    return fourth_moment / s_4 - 3"
      ],
      "metadata": {
        "id": "BMXFAmebp4Oz"
      },
      "execution_count": 20,
      "outputs": []
    },
    {
      "cell_type": "code",
      "source": [
        "Time_feature_matrix=pd.DataFrame()"
      ],
      "metadata": {
        "id": "YdkZP6GxxBg8"
      },
      "execution_count": 27,
      "outputs": []
    },
    {
      "cell_type": "code",
      "source": [
        "test_set=2\n",
        "bearing_no=1\n",
        "path='2nd_test/2nd_test'"
      ],
      "metadata": {
        "id": "SKzcpHUyxB_t"
      },
      "execution_count": 28,
      "outputs": []
    },
    {
      "cell_type": "code",
      "source": [
        "for filename in os.listdir(path):\n",
        "    \n",
        "    dataset=pd.read_csv(os.path.join(path, filename), sep='\\t',header=None)\n",
        "\n",
        "    bearing_data = np.array(dataset.iloc[:,bearing_no-1])\n",
        "\n",
        "    feature_matrix=np.zeros((1,9))\n",
        "    temp = bearing_data\n",
        "    feature_matrix[0,0] = np.max(temp)\n",
        "    feature_matrix[0,1] = np.min(temp)\n",
        "    feature_matrix[0,2] = np.mean(temp)\n",
        "    feature_matrix[0,3] = np.std(temp, ddof = 1)\n",
        "    feature_matrix[0,4] = np.sqrt(np.mean(temp ** 2))\n",
        "    feature_matrix[0,5] = compute_skewness(temp)\n",
        "    feature_matrix[0,6] = compute_kurtosis(temp)\n",
        "    feature_matrix[0,7] = feature_matrix[0,0]/feature_matrix[0,4]\n",
        "    feature_matrix[0,8] = feature_matrix[0,4]/feature_matrix[0,2]\n",
        "    \n",
        "    df = pd.DataFrame(feature_matrix)\n",
        "    df.index=[filename[:-3]]\n",
        "    \n",
        "    Time_feature_matrix = Time_feature_matrix.append(df)"
      ],
      "metadata": {
        "id": "UYbDCepFw3tQ"
      },
      "execution_count": null,
      "outputs": []
    },
    {
      "cell_type": "code",
      "source": [
        "Time_feature_matrix.columns = ['Max','Min','Mean','Std','RMS','Skewness','Kurtosis','Crest Factor','Form Factor']\n",
        "Time_feature_matrix.index = pd.to_datetime(Time_feature_matrix.index, format='%Y.%m.%d.%H.%M')\n",
        "\n",
        "Time_feature_matrix = Time_feature_matrix.sort_index()"
      ],
      "metadata": {
        "id": "Er7oNb4dw9QQ"
      },
      "execution_count": 30,
      "outputs": []
    },
    {
      "cell_type": "markdown",
      "source": [
        "# **Pure Data**"
      ],
      "metadata": {
        "id": "01mgnDprxcqe"
      }
    },
    {
      "cell_type": "code",
      "source": [
        "Time_feature_matrix"
      ],
      "metadata": {
        "colab": {
          "base_uri": "https://localhost:8080/",
          "height": 424
        },
        "id": "JzM3uZctxKUj",
        "outputId": "e4617432-fd67-498c-e3f8-dc26e6249ee9"
      },
      "execution_count": 31,
      "outputs": [
        {
          "output_type": "execute_result",
          "data": {
            "text/plain": [
              "                       Max    Min      Mean       Std       RMS  Skewness  \\\n",
              "2004-02-12 10:32:00  0.454 -0.386 -0.010196  0.073477  0.074179  0.083987   \n",
              "2004-02-12 10:42:00  0.369 -0.388 -0.002585  0.075340  0.075382  0.052138   \n",
              "2004-02-12 10:52:00  0.503 -0.400 -0.002484  0.076191  0.076230  0.032806   \n",
              "2004-02-12 11:02:00  0.608 -0.576 -0.002277  0.078693  0.078724  0.041483   \n",
              "2004-02-12 11:12:00  0.391 -0.391 -0.002404  0.078439  0.078474  0.028222   \n",
              "...                    ...    ...       ...       ...       ...       ...   \n",
              "2004-02-19 05:42:00  4.998 -5.000 -0.002752  0.725014  0.725001 -0.510519   \n",
              "2004-02-19 05:52:00  2.688 -2.881 -0.004487  0.462001  0.462012 -0.325344   \n",
              "2004-02-19 06:02:00  3.501 -3.696 -0.001703  0.483844  0.483835 -0.377068   \n",
              "2004-02-19 06:12:00  0.005  0.000  0.001857  0.000987  0.002103  0.579656   \n",
              "2004-02-19 06:22:00  0.002 -0.005 -0.001162  0.001000  0.001533  0.317009   \n",
              "\n",
              "                      Kurtosis  Crest Factor  Form Factor  \n",
              "2004-02-12 10:32:00   0.628408      6.120331    -7.275307  \n",
              "2004-02-12 10:42:00   0.647935      4.895038   -29.161382  \n",
              "2004-02-12 10:52:00   0.513132      6.598472   -30.688508  \n",
              "2004-02-12 11:02:00   1.157547      7.723217   -34.579322  \n",
              "2004-02-12 11:12:00   0.602825      4.982524   -32.645152  \n",
              "...                        ...           ...          ...  \n",
              "2004-02-19 05:42:00  12.576183      6.893779  -263.426419  \n",
              "2004-02-19 05:52:00   3.759312      5.818035  -102.977656  \n",
              "2004-02-19 06:02:00   4.890985      7.235932  -284.094983  \n",
              "2004-02-19 06:12:00   3.636864      2.377543     1.132578  \n",
              "2004-02-19 06:22:00  -1.609910      1.304860    -1.319089  \n",
              "\n",
              "[984 rows x 9 columns]"
            ],
            "text/html": [
              "\n",
              "  <div id=\"df-97e29a9a-ee7d-4eb4-af0c-69dc443c68cd\">\n",
              "    <div class=\"colab-df-container\">\n",
              "      <div>\n",
              "<style scoped>\n",
              "    .dataframe tbody tr th:only-of-type {\n",
              "        vertical-align: middle;\n",
              "    }\n",
              "\n",
              "    .dataframe tbody tr th {\n",
              "        vertical-align: top;\n",
              "    }\n",
              "\n",
              "    .dataframe thead th {\n",
              "        text-align: right;\n",
              "    }\n",
              "</style>\n",
              "<table border=\"1\" class=\"dataframe\">\n",
              "  <thead>\n",
              "    <tr style=\"text-align: right;\">\n",
              "      <th></th>\n",
              "      <th>Max</th>\n",
              "      <th>Min</th>\n",
              "      <th>Mean</th>\n",
              "      <th>Std</th>\n",
              "      <th>RMS</th>\n",
              "      <th>Skewness</th>\n",
              "      <th>Kurtosis</th>\n",
              "      <th>Crest Factor</th>\n",
              "      <th>Form Factor</th>\n",
              "    </tr>\n",
              "  </thead>\n",
              "  <tbody>\n",
              "    <tr>\n",
              "      <th>2004-02-12 10:32:00</th>\n",
              "      <td>0.454</td>\n",
              "      <td>-0.386</td>\n",
              "      <td>-0.010196</td>\n",
              "      <td>0.073477</td>\n",
              "      <td>0.074179</td>\n",
              "      <td>0.083987</td>\n",
              "      <td>0.628408</td>\n",
              "      <td>6.120331</td>\n",
              "      <td>-7.275307</td>\n",
              "    </tr>\n",
              "    <tr>\n",
              "      <th>2004-02-12 10:42:00</th>\n",
              "      <td>0.369</td>\n",
              "      <td>-0.388</td>\n",
              "      <td>-0.002585</td>\n",
              "      <td>0.075340</td>\n",
              "      <td>0.075382</td>\n",
              "      <td>0.052138</td>\n",
              "      <td>0.647935</td>\n",
              "      <td>4.895038</td>\n",
              "      <td>-29.161382</td>\n",
              "    </tr>\n",
              "    <tr>\n",
              "      <th>2004-02-12 10:52:00</th>\n",
              "      <td>0.503</td>\n",
              "      <td>-0.400</td>\n",
              "      <td>-0.002484</td>\n",
              "      <td>0.076191</td>\n",
              "      <td>0.076230</td>\n",
              "      <td>0.032806</td>\n",
              "      <td>0.513132</td>\n",
              "      <td>6.598472</td>\n",
              "      <td>-30.688508</td>\n",
              "    </tr>\n",
              "    <tr>\n",
              "      <th>2004-02-12 11:02:00</th>\n",
              "      <td>0.608</td>\n",
              "      <td>-0.576</td>\n",
              "      <td>-0.002277</td>\n",
              "      <td>0.078693</td>\n",
              "      <td>0.078724</td>\n",
              "      <td>0.041483</td>\n",
              "      <td>1.157547</td>\n",
              "      <td>7.723217</td>\n",
              "      <td>-34.579322</td>\n",
              "    </tr>\n",
              "    <tr>\n",
              "      <th>2004-02-12 11:12:00</th>\n",
              "      <td>0.391</td>\n",
              "      <td>-0.391</td>\n",
              "      <td>-0.002404</td>\n",
              "      <td>0.078439</td>\n",
              "      <td>0.078474</td>\n",
              "      <td>0.028222</td>\n",
              "      <td>0.602825</td>\n",
              "      <td>4.982524</td>\n",
              "      <td>-32.645152</td>\n",
              "    </tr>\n",
              "    <tr>\n",
              "      <th>...</th>\n",
              "      <td>...</td>\n",
              "      <td>...</td>\n",
              "      <td>...</td>\n",
              "      <td>...</td>\n",
              "      <td>...</td>\n",
              "      <td>...</td>\n",
              "      <td>...</td>\n",
              "      <td>...</td>\n",
              "      <td>...</td>\n",
              "    </tr>\n",
              "    <tr>\n",
              "      <th>2004-02-19 05:42:00</th>\n",
              "      <td>4.998</td>\n",
              "      <td>-5.000</td>\n",
              "      <td>-0.002752</td>\n",
              "      <td>0.725014</td>\n",
              "      <td>0.725001</td>\n",
              "      <td>-0.510519</td>\n",
              "      <td>12.576183</td>\n",
              "      <td>6.893779</td>\n",
              "      <td>-263.426419</td>\n",
              "    </tr>\n",
              "    <tr>\n",
              "      <th>2004-02-19 05:52:00</th>\n",
              "      <td>2.688</td>\n",
              "      <td>-2.881</td>\n",
              "      <td>-0.004487</td>\n",
              "      <td>0.462001</td>\n",
              "      <td>0.462012</td>\n",
              "      <td>-0.325344</td>\n",
              "      <td>3.759312</td>\n",
              "      <td>5.818035</td>\n",
              "      <td>-102.977656</td>\n",
              "    </tr>\n",
              "    <tr>\n",
              "      <th>2004-02-19 06:02:00</th>\n",
              "      <td>3.501</td>\n",
              "      <td>-3.696</td>\n",
              "      <td>-0.001703</td>\n",
              "      <td>0.483844</td>\n",
              "      <td>0.483835</td>\n",
              "      <td>-0.377068</td>\n",
              "      <td>4.890985</td>\n",
              "      <td>7.235932</td>\n",
              "      <td>-284.094983</td>\n",
              "    </tr>\n",
              "    <tr>\n",
              "      <th>2004-02-19 06:12:00</th>\n",
              "      <td>0.005</td>\n",
              "      <td>0.000</td>\n",
              "      <td>0.001857</td>\n",
              "      <td>0.000987</td>\n",
              "      <td>0.002103</td>\n",
              "      <td>0.579656</td>\n",
              "      <td>3.636864</td>\n",
              "      <td>2.377543</td>\n",
              "      <td>1.132578</td>\n",
              "    </tr>\n",
              "    <tr>\n",
              "      <th>2004-02-19 06:22:00</th>\n",
              "      <td>0.002</td>\n",
              "      <td>-0.005</td>\n",
              "      <td>-0.001162</td>\n",
              "      <td>0.001000</td>\n",
              "      <td>0.001533</td>\n",
              "      <td>0.317009</td>\n",
              "      <td>-1.609910</td>\n",
              "      <td>1.304860</td>\n",
              "      <td>-1.319089</td>\n",
              "    </tr>\n",
              "  </tbody>\n",
              "</table>\n",
              "<p>984 rows × 9 columns</p>\n",
              "</div>\n",
              "      <button class=\"colab-df-convert\" onclick=\"convertToInteractive('df-97e29a9a-ee7d-4eb4-af0c-69dc443c68cd')\"\n",
              "              title=\"Convert this dataframe to an interactive table.\"\n",
              "              style=\"display:none;\">\n",
              "        \n",
              "  <svg xmlns=\"http://www.w3.org/2000/svg\" height=\"24px\"viewBox=\"0 0 24 24\"\n",
              "       width=\"24px\">\n",
              "    <path d=\"M0 0h24v24H0V0z\" fill=\"none\"/>\n",
              "    <path d=\"M18.56 5.44l.94 2.06.94-2.06 2.06-.94-2.06-.94-.94-2.06-.94 2.06-2.06.94zm-11 1L8.5 8.5l.94-2.06 2.06-.94-2.06-.94L8.5 2.5l-.94 2.06-2.06.94zm10 10l.94 2.06.94-2.06 2.06-.94-2.06-.94-.94-2.06-.94 2.06-2.06.94z\"/><path d=\"M17.41 7.96l-1.37-1.37c-.4-.4-.92-.59-1.43-.59-.52 0-1.04.2-1.43.59L10.3 9.45l-7.72 7.72c-.78.78-.78 2.05 0 2.83L4 21.41c.39.39.9.59 1.41.59.51 0 1.02-.2 1.41-.59l7.78-7.78 2.81-2.81c.8-.78.8-2.07 0-2.86zM5.41 20L4 18.59l7.72-7.72 1.47 1.35L5.41 20z\"/>\n",
              "  </svg>\n",
              "      </button>\n",
              "      \n",
              "  <style>\n",
              "    .colab-df-container {\n",
              "      display:flex;\n",
              "      flex-wrap:wrap;\n",
              "      gap: 12px;\n",
              "    }\n",
              "\n",
              "    .colab-df-convert {\n",
              "      background-color: #E8F0FE;\n",
              "      border: none;\n",
              "      border-radius: 50%;\n",
              "      cursor: pointer;\n",
              "      display: none;\n",
              "      fill: #1967D2;\n",
              "      height: 32px;\n",
              "      padding: 0 0 0 0;\n",
              "      width: 32px;\n",
              "    }\n",
              "\n",
              "    .colab-df-convert:hover {\n",
              "      background-color: #E2EBFA;\n",
              "      box-shadow: 0px 1px 2px rgba(60, 64, 67, 0.3), 0px 1px 3px 1px rgba(60, 64, 67, 0.15);\n",
              "      fill: #174EA6;\n",
              "    }\n",
              "\n",
              "    [theme=dark] .colab-df-convert {\n",
              "      background-color: #3B4455;\n",
              "      fill: #D2E3FC;\n",
              "    }\n",
              "\n",
              "    [theme=dark] .colab-df-convert:hover {\n",
              "      background-color: #434B5C;\n",
              "      box-shadow: 0px 1px 3px 1px rgba(0, 0, 0, 0.15);\n",
              "      filter: drop-shadow(0px 1px 2px rgba(0, 0, 0, 0.3));\n",
              "      fill: #FFFFFF;\n",
              "    }\n",
              "  </style>\n",
              "\n",
              "      <script>\n",
              "        const buttonEl =\n",
              "          document.querySelector('#df-97e29a9a-ee7d-4eb4-af0c-69dc443c68cd button.colab-df-convert');\n",
              "        buttonEl.style.display =\n",
              "          google.colab.kernel.accessAllowed ? 'block' : 'none';\n",
              "\n",
              "        async function convertToInteractive(key) {\n",
              "          const element = document.querySelector('#df-97e29a9a-ee7d-4eb4-af0c-69dc443c68cd');\n",
              "          const dataTable =\n",
              "            await google.colab.kernel.invokeFunction('convertToInteractive',\n",
              "                                                     [key], {});\n",
              "          if (!dataTable) return;\n",
              "\n",
              "          const docLinkHtml = 'Like what you see? Visit the ' +\n",
              "            '<a target=\"_blank\" href=https://colab.research.google.com/notebooks/data_table.ipynb>data table notebook</a>'\n",
              "            + ' to learn more about interactive tables.';\n",
              "          element.innerHTML = '';\n",
              "          dataTable['output_type'] = 'display_data';\n",
              "          await google.colab.output.renderOutput(dataTable, element);\n",
              "          const docLink = document.createElement('div');\n",
              "          docLink.innerHTML = docLinkHtml;\n",
              "          element.appendChild(docLink);\n",
              "        }\n",
              "      </script>\n",
              "    </div>\n",
              "  </div>\n",
              "  "
            ]
          },
          "metadata": {},
          "execution_count": 31
        }
      ]
    },
    {
      "cell_type": "code",
      "source": [
        "# x is my training data\n",
        "# mu is the mean\n",
        "# std is the standard deviation\n",
        "mu=0.0\n",
        "std = 0.1\n",
        "def gaussian_noise(x,mu,std):\n",
        "    noise = np.random.normal(mu, std, size = x.shape)\n",
        "    x_noisy = x + noise\n",
        "    return x_noisy "
      ],
      "metadata": {
        "id": "bRR5JtcKyaoa"
      },
      "execution_count": 32,
      "outputs": []
    },
    {
      "cell_type": "markdown",
      "source": [
        "# **N0isy Data**"
      ],
      "metadata": {
        "id": "fVHJJGlD2y2E"
      }
    },
    {
      "cell_type": "code",
      "source": [
        "noisy_df = gaussian_noise(Time_feature_matrix, mu,std)"
      ],
      "metadata": {
        "id": "y7pZDpSDxk9T"
      },
      "execution_count": 46,
      "outputs": []
    },
    {
      "cell_type": "code",
      "source": [
        "noisy_df"
      ],
      "metadata": {
        "colab": {
          "base_uri": "https://localhost:8080/",
          "height": 424
        },
        "id": "TkkzBdgK5lMj",
        "outputId": "48a2ca79-2a8b-4b66-8bd0-0441af12b5bf"
      },
      "execution_count": 48,
      "outputs": [
        {
          "output_type": "execute_result",
          "data": {
            "text/plain": [
              "                          Max       Min      Mean       Std       RMS  \\\n",
              "2004-02-12 10:32:00  0.514275 -0.411541  0.173721  0.115346  0.187997   \n",
              "2004-02-12 10:42:00  0.346840 -0.486141  0.088334  0.085674  0.250036   \n",
              "2004-02-12 10:52:00  0.545710 -0.509415 -0.027731  0.314489  0.093642   \n",
              "2004-02-12 11:02:00  0.598114 -0.649128 -0.104428  0.037581  0.047904   \n",
              "2004-02-12 11:12:00  0.416623 -0.412249  0.177028  0.041620  0.009814   \n",
              "...                       ...       ...       ...       ...       ...   \n",
              "2004-02-19 05:42:00  5.118846 -5.013433 -0.046971  0.850339  0.770608   \n",
              "2004-02-19 05:52:00  2.656539 -2.937293  0.164195  0.260386  0.421215   \n",
              "2004-02-19 06:02:00  3.638550 -3.799436 -0.023598  0.544305  0.642785   \n",
              "2004-02-19 06:12:00 -0.131148 -0.122261 -0.034360  0.128310  0.067824   \n",
              "2004-02-19 06:22:00 -0.132893 -0.107250 -0.081720 -0.005885 -0.017147   \n",
              "\n",
              "                     Skewness   Kurtosis  Crest Factor  Form Factor  \n",
              "2004-02-12 10:32:00  0.177616   0.772515      6.184235    -7.372926  \n",
              "2004-02-12 10:42:00 -0.136645   0.695346      4.899423   -29.208893  \n",
              "2004-02-12 10:52:00 -0.088062   0.436750      6.609056   -30.702968  \n",
              "2004-02-12 11:02:00  0.074489   1.078290      7.542361   -34.569674  \n",
              "2004-02-12 11:12:00  0.015054   0.652282      5.134796   -32.616164  \n",
              "...                       ...        ...           ...          ...  \n",
              "2004-02-19 05:42:00 -0.403327  12.420494      6.979223  -263.459011  \n",
              "2004-02-19 05:52:00 -0.241861   3.645121      5.851990  -102.937374  \n",
              "2004-02-19 06:02:00 -0.461885   4.961034      7.264838  -284.254365  \n",
              "2004-02-19 06:12:00  0.559707   3.553002      2.305305     1.041232  \n",
              "2004-02-19 06:22:00  0.288006  -1.852680      1.353160    -1.335980  \n",
              "\n",
              "[984 rows x 9 columns]"
            ],
            "text/html": [
              "\n",
              "  <div id=\"df-8068322d-faf1-45c7-9197-beb76e7d3e12\">\n",
              "    <div class=\"colab-df-container\">\n",
              "      <div>\n",
              "<style scoped>\n",
              "    .dataframe tbody tr th:only-of-type {\n",
              "        vertical-align: middle;\n",
              "    }\n",
              "\n",
              "    .dataframe tbody tr th {\n",
              "        vertical-align: top;\n",
              "    }\n",
              "\n",
              "    .dataframe thead th {\n",
              "        text-align: right;\n",
              "    }\n",
              "</style>\n",
              "<table border=\"1\" class=\"dataframe\">\n",
              "  <thead>\n",
              "    <tr style=\"text-align: right;\">\n",
              "      <th></th>\n",
              "      <th>Max</th>\n",
              "      <th>Min</th>\n",
              "      <th>Mean</th>\n",
              "      <th>Std</th>\n",
              "      <th>RMS</th>\n",
              "      <th>Skewness</th>\n",
              "      <th>Kurtosis</th>\n",
              "      <th>Crest Factor</th>\n",
              "      <th>Form Factor</th>\n",
              "    </tr>\n",
              "  </thead>\n",
              "  <tbody>\n",
              "    <tr>\n",
              "      <th>2004-02-12 10:32:00</th>\n",
              "      <td>0.514275</td>\n",
              "      <td>-0.411541</td>\n",
              "      <td>0.173721</td>\n",
              "      <td>0.115346</td>\n",
              "      <td>0.187997</td>\n",
              "      <td>0.177616</td>\n",
              "      <td>0.772515</td>\n",
              "      <td>6.184235</td>\n",
              "      <td>-7.372926</td>\n",
              "    </tr>\n",
              "    <tr>\n",
              "      <th>2004-02-12 10:42:00</th>\n",
              "      <td>0.346840</td>\n",
              "      <td>-0.486141</td>\n",
              "      <td>0.088334</td>\n",
              "      <td>0.085674</td>\n",
              "      <td>0.250036</td>\n",
              "      <td>-0.136645</td>\n",
              "      <td>0.695346</td>\n",
              "      <td>4.899423</td>\n",
              "      <td>-29.208893</td>\n",
              "    </tr>\n",
              "    <tr>\n",
              "      <th>2004-02-12 10:52:00</th>\n",
              "      <td>0.545710</td>\n",
              "      <td>-0.509415</td>\n",
              "      <td>-0.027731</td>\n",
              "      <td>0.314489</td>\n",
              "      <td>0.093642</td>\n",
              "      <td>-0.088062</td>\n",
              "      <td>0.436750</td>\n",
              "      <td>6.609056</td>\n",
              "      <td>-30.702968</td>\n",
              "    </tr>\n",
              "    <tr>\n",
              "      <th>2004-02-12 11:02:00</th>\n",
              "      <td>0.598114</td>\n",
              "      <td>-0.649128</td>\n",
              "      <td>-0.104428</td>\n",
              "      <td>0.037581</td>\n",
              "      <td>0.047904</td>\n",
              "      <td>0.074489</td>\n",
              "      <td>1.078290</td>\n",
              "      <td>7.542361</td>\n",
              "      <td>-34.569674</td>\n",
              "    </tr>\n",
              "    <tr>\n",
              "      <th>2004-02-12 11:12:00</th>\n",
              "      <td>0.416623</td>\n",
              "      <td>-0.412249</td>\n",
              "      <td>0.177028</td>\n",
              "      <td>0.041620</td>\n",
              "      <td>0.009814</td>\n",
              "      <td>0.015054</td>\n",
              "      <td>0.652282</td>\n",
              "      <td>5.134796</td>\n",
              "      <td>-32.616164</td>\n",
              "    </tr>\n",
              "    <tr>\n",
              "      <th>...</th>\n",
              "      <td>...</td>\n",
              "      <td>...</td>\n",
              "      <td>...</td>\n",
              "      <td>...</td>\n",
              "      <td>...</td>\n",
              "      <td>...</td>\n",
              "      <td>...</td>\n",
              "      <td>...</td>\n",
              "      <td>...</td>\n",
              "    </tr>\n",
              "    <tr>\n",
              "      <th>2004-02-19 05:42:00</th>\n",
              "      <td>5.118846</td>\n",
              "      <td>-5.013433</td>\n",
              "      <td>-0.046971</td>\n",
              "      <td>0.850339</td>\n",
              "      <td>0.770608</td>\n",
              "      <td>-0.403327</td>\n",
              "      <td>12.420494</td>\n",
              "      <td>6.979223</td>\n",
              "      <td>-263.459011</td>\n",
              "    </tr>\n",
              "    <tr>\n",
              "      <th>2004-02-19 05:52:00</th>\n",
              "      <td>2.656539</td>\n",
              "      <td>-2.937293</td>\n",
              "      <td>0.164195</td>\n",
              "      <td>0.260386</td>\n",
              "      <td>0.421215</td>\n",
              "      <td>-0.241861</td>\n",
              "      <td>3.645121</td>\n",
              "      <td>5.851990</td>\n",
              "      <td>-102.937374</td>\n",
              "    </tr>\n",
              "    <tr>\n",
              "      <th>2004-02-19 06:02:00</th>\n",
              "      <td>3.638550</td>\n",
              "      <td>-3.799436</td>\n",
              "      <td>-0.023598</td>\n",
              "      <td>0.544305</td>\n",
              "      <td>0.642785</td>\n",
              "      <td>-0.461885</td>\n",
              "      <td>4.961034</td>\n",
              "      <td>7.264838</td>\n",
              "      <td>-284.254365</td>\n",
              "    </tr>\n",
              "    <tr>\n",
              "      <th>2004-02-19 06:12:00</th>\n",
              "      <td>-0.131148</td>\n",
              "      <td>-0.122261</td>\n",
              "      <td>-0.034360</td>\n",
              "      <td>0.128310</td>\n",
              "      <td>0.067824</td>\n",
              "      <td>0.559707</td>\n",
              "      <td>3.553002</td>\n",
              "      <td>2.305305</td>\n",
              "      <td>1.041232</td>\n",
              "    </tr>\n",
              "    <tr>\n",
              "      <th>2004-02-19 06:22:00</th>\n",
              "      <td>-0.132893</td>\n",
              "      <td>-0.107250</td>\n",
              "      <td>-0.081720</td>\n",
              "      <td>-0.005885</td>\n",
              "      <td>-0.017147</td>\n",
              "      <td>0.288006</td>\n",
              "      <td>-1.852680</td>\n",
              "      <td>1.353160</td>\n",
              "      <td>-1.335980</td>\n",
              "    </tr>\n",
              "  </tbody>\n",
              "</table>\n",
              "<p>984 rows × 9 columns</p>\n",
              "</div>\n",
              "      <button class=\"colab-df-convert\" onclick=\"convertToInteractive('df-8068322d-faf1-45c7-9197-beb76e7d3e12')\"\n",
              "              title=\"Convert this dataframe to an interactive table.\"\n",
              "              style=\"display:none;\">\n",
              "        \n",
              "  <svg xmlns=\"http://www.w3.org/2000/svg\" height=\"24px\"viewBox=\"0 0 24 24\"\n",
              "       width=\"24px\">\n",
              "    <path d=\"M0 0h24v24H0V0z\" fill=\"none\"/>\n",
              "    <path d=\"M18.56 5.44l.94 2.06.94-2.06 2.06-.94-2.06-.94-.94-2.06-.94 2.06-2.06.94zm-11 1L8.5 8.5l.94-2.06 2.06-.94-2.06-.94L8.5 2.5l-.94 2.06-2.06.94zm10 10l.94 2.06.94-2.06 2.06-.94-2.06-.94-.94-2.06-.94 2.06-2.06.94z\"/><path d=\"M17.41 7.96l-1.37-1.37c-.4-.4-.92-.59-1.43-.59-.52 0-1.04.2-1.43.59L10.3 9.45l-7.72 7.72c-.78.78-.78 2.05 0 2.83L4 21.41c.39.39.9.59 1.41.59.51 0 1.02-.2 1.41-.59l7.78-7.78 2.81-2.81c.8-.78.8-2.07 0-2.86zM5.41 20L4 18.59l7.72-7.72 1.47 1.35L5.41 20z\"/>\n",
              "  </svg>\n",
              "      </button>\n",
              "      \n",
              "  <style>\n",
              "    .colab-df-container {\n",
              "      display:flex;\n",
              "      flex-wrap:wrap;\n",
              "      gap: 12px;\n",
              "    }\n",
              "\n",
              "    .colab-df-convert {\n",
              "      background-color: #E8F0FE;\n",
              "      border: none;\n",
              "      border-radius: 50%;\n",
              "      cursor: pointer;\n",
              "      display: none;\n",
              "      fill: #1967D2;\n",
              "      height: 32px;\n",
              "      padding: 0 0 0 0;\n",
              "      width: 32px;\n",
              "    }\n",
              "\n",
              "    .colab-df-convert:hover {\n",
              "      background-color: #E2EBFA;\n",
              "      box-shadow: 0px 1px 2px rgba(60, 64, 67, 0.3), 0px 1px 3px 1px rgba(60, 64, 67, 0.15);\n",
              "      fill: #174EA6;\n",
              "    }\n",
              "\n",
              "    [theme=dark] .colab-df-convert {\n",
              "      background-color: #3B4455;\n",
              "      fill: #D2E3FC;\n",
              "    }\n",
              "\n",
              "    [theme=dark] .colab-df-convert:hover {\n",
              "      background-color: #434B5C;\n",
              "      box-shadow: 0px 1px 3px 1px rgba(0, 0, 0, 0.15);\n",
              "      filter: drop-shadow(0px 1px 2px rgba(0, 0, 0, 0.3));\n",
              "      fill: #FFFFFF;\n",
              "    }\n",
              "  </style>\n",
              "\n",
              "      <script>\n",
              "        const buttonEl =\n",
              "          document.querySelector('#df-8068322d-faf1-45c7-9197-beb76e7d3e12 button.colab-df-convert');\n",
              "        buttonEl.style.display =\n",
              "          google.colab.kernel.accessAllowed ? 'block' : 'none';\n",
              "\n",
              "        async function convertToInteractive(key) {\n",
              "          const element = document.querySelector('#df-8068322d-faf1-45c7-9197-beb76e7d3e12');\n",
              "          const dataTable =\n",
              "            await google.colab.kernel.invokeFunction('convertToInteractive',\n",
              "                                                     [key], {});\n",
              "          if (!dataTable) return;\n",
              "\n",
              "          const docLinkHtml = 'Like what you see? Visit the ' +\n",
              "            '<a target=\"_blank\" href=https://colab.research.google.com/notebooks/data_table.ipynb>data table notebook</a>'\n",
              "            + ' to learn more about interactive tables.';\n",
              "          element.innerHTML = '';\n",
              "          dataTable['output_type'] = 'display_data';\n",
              "          await google.colab.output.renderOutput(dataTable, element);\n",
              "          const docLink = document.createElement('div');\n",
              "          docLink.innerHTML = docLinkHtml;\n",
              "          element.appendChild(docLink);\n",
              "        }\n",
              "      </script>\n",
              "    </div>\n",
              "  </div>\n",
              "  "
            ]
          },
          "metadata": {},
          "execution_count": 48
        }
      ]
    },
    {
      "cell_type": "code",
      "source": [
        "plt.figure(figsize=(20,5)) \n",
        "plt.plot(Time_feature_matrix.index,Time_feature_matrix['Max'])\n",
        "plt.show()\n"
      ],
      "metadata": {
        "colab": {
          "base_uri": "https://localhost:8080/",
          "height": 445
        },
        "id": "7ykCxdcuxk3d",
        "outputId": "ad05ea33-fdc4-46c9-98e2-0cfdda8fc1ea"
      },
      "execution_count": 44,
      "outputs": [
        {
          "output_type": "display_data",
          "data": {
            "text/plain": [
              "<Figure size 2000x500 with 1 Axes>"
            ],
            "image/png": "[encoded data removed]"
          },
          "metadata": {}
        }
      ]
    },
    {
      "cell_type": "code",
      "source": [
        "plt.figure(figsize=(20,5)) \n",
        "plt.plot(noisy_df.index,noisy_df['Max'])\n",
        "plt.show()"
      ],
      "metadata": {
        "colab": {
          "base_uri": "https://localhost:8080/",
          "height": 445
        },
        "id": "A_jDAlHdxk0m",
        "outputId": "a7e5b589-a509-42d8-f9b2-48d5ea36da3f"
      },
      "execution_count": 47,
      "outputs": [
        {
          "output_type": "display_data",
          "data": {
            "text/plain": [
              "<Figure size 2000x500 with 1 Axes>"
            ],
            "image/png": "[encoded data removed]"
          },
          "metadata": {}
        }
      ]
    },
    {
      "cell_type": "code",
      "source": [
        "# 1- pure\n",
        "#0 - noisy\n",
        "\n",
        "Time_feature_matrix = Time_feature_matrix.assign(target=1)"
      ],
      "metadata": {
        "id": "jsAhisrH6hjS"
      },
      "execution_count": 49,
      "outputs": []
    },
    {
      "cell_type": "code",
      "source": [
        "Time_feature_matrix.head()"
      ],
      "metadata": {
        "colab": {
          "base_uri": "https://localhost:8080/",
          "height": 206
        },
        "id": "qu_WuMGk6hVO",
        "outputId": "9a30be61-4fb7-4612-eddf-203a64e3a135"
      },
      "execution_count": 50,
      "outputs": [
        {
          "output_type": "execute_result",
          "data": {
            "text/plain": [
              "                       Max    Min      Mean       Std       RMS  Skewness  \\\n",
              "2004-02-12 10:32:00  0.454 -0.386 -0.010196  0.073477  0.074179  0.083987   \n",
              "2004-02-12 10:42:00  0.369 -0.388 -0.002585  0.075340  0.075382  0.052138   \n",
              "2004-02-12 10:52:00  0.503 -0.400 -0.002484  0.076191  0.076230  0.032806   \n",
              "2004-02-12 11:02:00  0.608 -0.576 -0.002277  0.078693  0.078724  0.041483   \n",
              "2004-02-12 11:12:00  0.391 -0.391 -0.002404  0.078439  0.078474  0.028222   \n",
              "\n",
              "                     Kurtosis  Crest Factor  Form Factor  target  \n",
              "2004-02-12 10:32:00  0.628408      6.120331    -7.275307       1  \n",
              "2004-02-12 10:42:00  0.647935      4.895038   -29.161382       1  \n",
              "2004-02-12 10:52:00  0.513132      6.598472   -30.688508       1  \n",
              "2004-02-12 11:02:00  1.157547      7.723217   -34.579322       1  \n",
              "2004-02-12 11:12:00  0.602825      4.982524   -32.645152       1  "
            ],
            "text/html": [
              "\n",
              "  <div id=\"df-4253d0e6-2cda-4e7c-8eea-49dee702c4c7\">\n",
              "    <div class=\"colab-df-container\">\n",
              "      <div>\n",
              "<style scoped>\n",
              "    .dataframe tbody tr th:only-of-type {\n",
              "        vertical-align: middle;\n",
              "    }\n",
              "\n",
              "    .dataframe tbody tr th {\n",
              "        vertical-align: top;\n",
              "    }\n",
              "\n",
              "    .dataframe thead th {\n",
              "        text-align: right;\n",
              "    }\n",
              "</style>\n",
              "<table border=\"1\" class=\"dataframe\">\n",
              "  <thead>\n",
              "    <tr style=\"text-align: right;\">\n",
              "      <th></th>\n",
              "      <th>Max</th>\n",
              "      <th>Min</th>\n",
              "      <th>Mean</th>\n",
              "      <th>Std</th>\n",
              "      <th>RMS</th>\n",
              "      <th>Skewness</th>\n",
              "      <th>Kurtosis</th>\n",
              "      <th>Crest Factor</th>\n",
              "      <th>Form Factor</th>\n",
              "      <th>target</th>\n",
              "    </tr>\n",
              "  </thead>\n",
              "  <tbody>\n",
              "    <tr>\n",
              "      <th>2004-02-12 10:32:00</th>\n",
              "      <td>0.454</td>\n",
              "      <td>-0.386</td>\n",
              "      <td>-0.010196</td>\n",
              "      <td>0.073477</td>\n",
              "      <td>0.074179</td>\n",
              "      <td>0.083987</td>\n",
              "      <td>0.628408</td>\n",
              "      <td>6.120331</td>\n",
              "      <td>-7.275307</td>\n",
              "      <td>1</td>\n",
              "    </tr>\n",
              "    <tr>\n",
              "      <th>2004-02-12 10:42:00</th>\n",
              "      <td>0.369</td>\n",
              "      <td>-0.388</td>\n",
              "      <td>-0.002585</td>\n",
              "      <td>0.075340</td>\n",
              "      <td>0.075382</td>\n",
              "      <td>0.052138</td>\n",
              "      <td>0.647935</td>\n",
              "      <td>4.895038</td>\n",
              "      <td>-29.161382</td>\n",
              "      <td>1</td>\n",
              "    </tr>\n",
              "    <tr>\n",
              "      <th>2004-02-12 10:52:00</th>\n",
              "      <td>0.503</td>\n",
              "      <td>-0.400</td>\n",
              "      <td>-0.002484</td>\n",
              "      <td>0.076191</td>\n",
              "      <td>0.076230</td>\n",
              "      <td>0.032806</td>\n",
              "      <td>0.513132</td>\n",
              "      <td>6.598472</td>\n",
              "      <td>-30.688508</td>\n",
              "      <td>1</td>\n",
              "    </tr>\n",
              "    <tr>\n",
              "      <th>2004-02-12 11:02:00</th>\n",
              "      <td>0.608</td>\n",
              "      <td>-0.576</td>\n",
              "      <td>-0.002277</td>\n",
              "      <td>0.078693</td>\n",
              "      <td>0.078724</td>\n",
              "      <td>0.041483</td>\n",
              "      <td>1.157547</td>\n",
              "      <td>7.723217</td>\n",
              "      <td>-34.579322</td>\n",
              "      <td>1</td>\n",
              "    </tr>\n",
              "    <tr>\n",
              "      <th>2004-02-12 11:12:00</th>\n",
              "      <td>0.391</td>\n",
              "      <td>-0.391</td>\n",
              "      <td>-0.002404</td>\n",
              "      <td>0.078439</td>\n",
              "      <td>0.078474</td>\n",
              "      <td>0.028222</td>\n",
              "      <td>0.602825</td>\n",
              "      <td>4.982524</td>\n",
              "      <td>-32.645152</td>\n",
              "      <td>1</td>\n",
              "    </tr>\n",
              "  </tbody>\n",
              "</table>\n",
              "</div>\n",
              "      <button class=\"colab-df-convert\" onclick=\"convertToInteractive('df-4253d0e6-2cda-4e7c-8eea-49dee702c4c7')\"\n",
              "              title=\"Convert this dataframe to an interactive table.\"\n",
              "              style=\"display:none;\">\n",
              "        \n",
              "  <svg xmlns=\"http://www.w3.org/2000/svg\" height=\"24px\"viewBox=\"0 0 24 24\"\n",
              "       width=\"24px\">\n",
              "    <path d=\"M0 0h24v24H0V0z\" fill=\"none\"/>\n",
              "    <path d=\"M18.56 5.44l.94 2.06.94-2.06 2.06-.94-2.06-.94-.94-2.06-.94 2.06-2.06.94zm-11 1L8.5 8.5l.94-2.06 2.06-.94-2.06-.94L8.5 2.5l-.94 2.06-2.06.94zm10 10l.94 2.06.94-2.06 2.06-.94-2.06-.94-.94-2.06-.94 2.06-2.06.94z\"/><path d=\"M17.41 7.96l-1.37-1.37c-.4-.4-.92-.59-1.43-.59-.52 0-1.04.2-1.43.59L10.3 9.45l-7.72 7.72c-.78.78-.78 2.05 0 2.83L4 21.41c.39.39.9.59 1.41.59.51 0 1.02-.2 1.41-.59l7.78-7.78 2.81-2.81c.8-.78.8-2.07 0-2.86zM5.41 20L4 18.59l7.72-7.72 1.47 1.35L5.41 20z\"/>\n",
              "  </svg>\n",
              "      </button>\n",
              "      \n",
              "  <style>\n",
              "    .colab-df-container {\n",
              "      display:flex;\n",
              "      flex-wrap:wrap;\n",
              "      gap: 12px;\n",
              "    }\n",
              "\n",
              "    .colab-df-convert {\n",
              "      background-color: #E8F0FE;\n",
              "      border: none;\n",
              "      border-radius: 50%;\n",
              "      cursor: pointer;\n",
              "      display: none;\n",
              "      fill: #1967D2;\n",
              "      height: 32px;\n",
              "      padding: 0 0 0 0;\n",
              "      width: 32px;\n",
              "    }\n",
              "\n",
              "    .colab-df-convert:hover {\n",
              "      background-color: #E2EBFA;\n",
              "      box-shadow: 0px 1px 2px rgba(60, 64, 67, 0.3), 0px 1px 3px 1px rgba(60, 64, 67, 0.15);\n",
              "      fill: #174EA6;\n",
              "    }\n",
              "\n",
              "    [theme=dark] .colab-df-convert {\n",
              "      background-color: #3B4455;\n",
              "      fill: #D2E3FC;\n",
              "    }\n",
              "\n",
              "    [theme=dark] .colab-df-convert:hover {\n",
              "      background-color: #434B5C;\n",
              "      box-shadow: 0px 1px 3px 1px rgba(0, 0, 0, 0.15);\n",
              "      filter: drop-shadow(0px 1px 2px rgba(0, 0, 0, 0.3));\n",
              "      fill: #FFFFFF;\n",
              "    }\n",
              "  </style>\n",
              "\n",
              "      <script>\n",
              "        const buttonEl =\n",
              "          document.querySelector('#df-4253d0e6-2cda-4e7c-8eea-49dee702c4c7 button.colab-df-convert');\n",
              "        buttonEl.style.display =\n",
              "          google.colab.kernel.accessAllowed ? 'block' : 'none';\n",
              "\n",
              "        async function convertToInteractive(key) {\n",
              "          const element = document.querySelector('#df-4253d0e6-2cda-4e7c-8eea-49dee702c4c7');\n",
              "          const dataTable =\n",
              "            await google.colab.kernel.invokeFunction('convertToInteractive',\n",
              "                                                     [key], {});\n",
              "          if (!dataTable) return;\n",
              "\n",
              "          const docLinkHtml = 'Like what you see? Visit the ' +\n",
              "            '<a target=\"_blank\" href=https://colab.research.google.com/notebooks/data_table.ipynb>data table notebook</a>'\n",
              "            + ' to learn more about interactive tables.';\n",
              "          element.innerHTML = '';\n",
              "          dataTable['output_type'] = 'display_data';\n",
              "          await google.colab.output.renderOutput(dataTable, element);\n",
              "          const docLink = document.createElement('div');\n",
              "          docLink.innerHTML = docLinkHtml;\n",
              "          element.appendChild(docLink);\n",
              "        }\n",
              "      </script>\n",
              "    </div>\n",
              "  </div>\n",
              "  "
            ]
          },
          "metadata": {},
          "execution_count": 50
        }
      ]
    },
    {
      "cell_type": "code",
      "source": [
        "Time_feature_matrix.dtypes"
      ],
      "metadata": {
        "colab": {
          "base_uri": "https://localhost:8080/"
        },
        "id": "Y09uRrp7FoTO",
        "outputId": "07d6b06c-aac0-45dc-f5e1-a73c71583735"
      },
      "execution_count": 58,
      "outputs": [
        {
          "output_type": "execute_result",
          "data": {
            "text/plain": [
              "Max             float64\n",
              "Min             float64\n",
              "Mean            float64\n",
              "Std             float64\n",
              "RMS             float64\n",
              "Skewness        float64\n",
              "Kurtosis        float64\n",
              "Crest Factor    float64\n",
              "Form Factor     float64\n",
              "target            int64\n",
              "dtype: object"
            ]
          },
          "metadata": {},
          "execution_count": 58
        }
      ]
    },
    {
      "cell_type": "code",
      "source": [
        "Time_feature_matrix=Time_feature_matrix.reset_index()"
      ],
      "metadata": {
        "id": "RgiD7ravF-ra"
      },
      "execution_count": 59,
      "outputs": []
    },
    {
      "cell_type": "code",
      "source": [
        "noisy_df = noisy_df.assign(target=0)"
      ],
      "metadata": {
        "id": "cRDbgPHA7Z4T"
      },
      "execution_count": 51,
      "outputs": []
    },
    {
      "cell_type": "code",
      "source": [
        "noisy_df.head()"
      ],
      "metadata": {
        "colab": {
          "base_uri": "https://localhost:8080/",
          "height": 206
        },
        "id": "aYV7itTB7f5v",
        "outputId": "505dccf6-802e-4497-d594-05d8433c7673"
      },
      "execution_count": 52,
      "outputs": [
        {
          "output_type": "execute_result",
          "data": {
            "text/plain": [
              "                          Max       Min      Mean       Std       RMS  \\\n",
              "2004-02-12 10:32:00  0.514275 -0.411541  0.173721  0.115346  0.187997   \n",
              "2004-02-12 10:42:00  0.346840 -0.486141  0.088334  0.085674  0.250036   \n",
              "2004-02-12 10:52:00  0.545710 -0.509415 -0.027731  0.314489  0.093642   \n",
              "2004-02-12 11:02:00  0.598114 -0.649128 -0.104428  0.037581  0.047904   \n",
              "2004-02-12 11:12:00  0.416623 -0.412249  0.177028  0.041620  0.009814   \n",
              "\n",
              "                     Skewness  Kurtosis  Crest Factor  Form Factor  target  \n",
              "2004-02-12 10:32:00  0.177616  0.772515      6.184235    -7.372926       0  \n",
              "2004-02-12 10:42:00 -0.136645  0.695346      4.899423   -29.208893       0  \n",
              "2004-02-12 10:52:00 -0.088062  0.436750      6.609056   -30.702968       0  \n",
              "2004-02-12 11:02:00  0.074489  1.078290      7.542361   -34.569674       0  \n",
              "2004-02-12 11:12:00  0.015054  0.652282      5.134796   -32.616164       0  "
            ],
            "text/html": [
              "\n",
              "  <div id=\"df-dbe616d2-dd6b-4905-a852-de85cebaed88\">\n",
              "    <div class=\"colab-df-container\">\n",
              "      <div>\n",
              "<style scoped>\n",
              "    .dataframe tbody tr th:only-of-type {\n",
              "        vertical-align: middle;\n",
              "    }\n",
              "\n",
              "    .dataframe tbody tr th {\n",
              "        vertical-align: top;\n",
              "    }\n",
              "\n",
              "    .dataframe thead th {\n",
              "        text-align: right;\n",
              "    }\n",
              "</style>\n",
              "<table border=\"1\" class=\"dataframe\">\n",
              "  <thead>\n",
              "    <tr style=\"text-align: right;\">\n",
              "      <th></th>\n",
              "      <th>Max</th>\n",
              "      <th>Min</th>\n",
              "      <th>Mean</th>\n",
              "      <th>Std</th>\n",
              "      <th>RMS</th>\n",
              "      <th>Skewness</th>\n",
              "      <th>Kurtosis</th>\n",
              "      <th>Crest Factor</th>\n",
              "      <th>Form Factor</th>\n",
              "      <th>target</th>\n",
              "    </tr>\n",
              "  </thead>\n",
              "  <tbody>\n",
              "    <tr>\n",
              "      <th>2004-02-12 10:32:00</th>\n",
              "      <td>0.514275</td>\n",
              "      <td>-0.411541</td>\n",
              "      <td>0.173721</td>\n",
              "      <td>0.115346</td>\n",
              "      <td>0.187997</td>\n",
              "      <td>0.177616</td>\n",
              "      <td>0.772515</td>\n",
              "      <td>6.184235</td>\n",
              "      <td>-7.372926</td>\n",
              "      <td>0</td>\n",
              "    </tr>\n",
              "    <tr>\n",
              "      <th>2004-02-12 10:42:00</th>\n",
              "      <td>0.346840</td>\n",
              "      <td>-0.486141</td>\n",
              "      <td>0.088334</td>\n",
              "      <td>0.085674</td>\n",
              "      <td>0.250036</td>\n",
              "      <td>-0.136645</td>\n",
              "      <td>0.695346</td>\n",
              "      <td>4.899423</td>\n",
              "      <td>-29.208893</td>\n",
              "      <td>0</td>\n",
              "    </tr>\n",
              "    <tr>\n",
              "      <th>2004-02-12 10:52:00</th>\n",
              "      <td>0.545710</td>\n",
              "      <td>-0.509415</td>\n",
              "      <td>-0.027731</td>\n",
              "      <td>0.314489</td>\n",
              "      <td>0.093642</td>\n",
              "      <td>-0.088062</td>\n",
              "      <td>0.436750</td>\n",
              "      <td>6.609056</td>\n",
              "      <td>-30.702968</td>\n",
              "      <td>0</td>\n",
              "    </tr>\n",
              "    <tr>\n",
              "      <th>2004-02-12 11:02:00</th>\n",
              "      <td>0.598114</td>\n",
              "      <td>-0.649128</td>\n",
              "      <td>-0.104428</td>\n",
              "      <td>0.037581</td>\n",
              "      <td>0.047904</td>\n",
              "      <td>0.074489</td>\n",
              "      <td>1.078290</td>\n",
              "      <td>7.542361</td>\n",
              "      <td>-34.569674</td>\n",
              "      <td>0</td>\n",
              "    </tr>\n",
              "    <tr>\n",
              "      <th>2004-02-12 11:12:00</th>\n",
              "      <td>0.416623</td>\n",
              "      <td>-0.412249</td>\n",
              "      <td>0.177028</td>\n",
              "      <td>0.041620</td>\n",
              "      <td>0.009814</td>\n",
              "      <td>0.015054</td>\n",
              "      <td>0.652282</td>\n",
              "      <td>5.134796</td>\n",
              "      <td>-32.616164</td>\n",
              "      <td>0</td>\n",
              "    </tr>\n",
              "  </tbody>\n",
              "</table>\n",
              "</div>\n",
              "      <button class=\"colab-df-convert\" onclick=\"convertToInteractive('df-dbe616d2-dd6b-4905-a852-de85cebaed88')\"\n",
              "              title=\"Convert this dataframe to an interactive table.\"\n",
              "              style=\"display:none;\">\n",
              "        \n",
              "  <svg xmlns=\"http://www.w3.org/2000/svg\" height=\"24px\"viewBox=\"0 0 24 24\"\n",
              "       width=\"24px\">\n",
              "    <path d=\"M0 0h24v24H0V0z\" fill=\"none\"/>\n",
              "    <path d=\"M18.56 5.44l.94 2.06.94-2.06 2.06-.94-2.06-.94-.94-2.06-.94 2.06-2.06.94zm-11 1L8.5 8.5l.94-2.06 2.06-.94-2.06-.94L8.5 2.5l-.94 2.06-2.06.94zm10 10l.94 2.06.94-2.06 2.06-.94-2.06-.94-.94-2.06-.94 2.06-2.06.94z\"/><path d=\"M17.41 7.96l-1.37-1.37c-.4-.4-.92-.59-1.43-.59-.52 0-1.04.2-1.43.59L10.3 9.45l-7.72 7.72c-.78.78-.78 2.05 0 2.83L4 21.41c.39.39.9.59 1.41.59.51 0 1.02-.2 1.41-.59l7.78-7.78 2.81-2.81c.8-.78.8-2.07 0-2.86zM5.41 20L4 18.59l7.72-7.72 1.47 1.35L5.41 20z\"/>\n",
              "  </svg>\n",
              "      </button>\n",
              "      \n",
              "  <style>\n",
              "    .colab-df-container {\n",
              "      display:flex;\n",
              "      flex-wrap:wrap;\n",
              "      gap: 12px;\n",
              "    }\n",
              "\n",
              "    .colab-df-convert {\n",
              "      background-color: #E8F0FE;\n",
              "      border: none;\n",
              "      border-radius: 50%;\n",
              "      cursor: pointer;\n",
              "      display: none;\n",
              "      fill: #1967D2;\n",
              "      height: 32px;\n",
              "      padding: 0 0 0 0;\n",
              "      width: 32px;\n",
              "    }\n",
              "\n",
              "    .colab-df-convert:hover {\n",
              "      background-color: #E2EBFA;\n",
              "      box-shadow: 0px 1px 2px rgba(60, 64, 67, 0.3), 0px 1px 3px 1px rgba(60, 64, 67, 0.15);\n",
              "      fill: #174EA6;\n",
              "    }\n",
              "\n",
              "    [theme=dark] .colab-df-convert {\n",
              "      background-color: #3B4455;\n",
              "      fill: #D2E3FC;\n",
              "    }\n",
              "\n",
              "    [theme=dark] .colab-df-convert:hover {\n",
              "      background-color: #434B5C;\n",
              "      box-shadow: 0px 1px 3px 1px rgba(0, 0, 0, 0.15);\n",
              "      filter: drop-shadow(0px 1px 2px rgba(0, 0, 0, 0.3));\n",
              "      fill: #FFFFFF;\n",
              "    }\n",
              "  </style>\n",
              "\n",
              "      <script>\n",
              "        const buttonEl =\n",
              "          document.querySelector('#df-dbe616d2-dd6b-4905-a852-de85cebaed88 button.colab-df-convert');\n",
              "        buttonEl.style.display =\n",
              "          google.colab.kernel.accessAllowed ? 'block' : 'none';\n",
              "\n",
              "        async function convertToInteractive(key) {\n",
              "          const element = document.querySelector('#df-dbe616d2-dd6b-4905-a852-de85cebaed88');\n",
              "          const dataTable =\n",
              "            await google.colab.kernel.invokeFunction('convertToInteractive',\n",
              "                                                     [key], {});\n",
              "          if (!dataTable) return;\n",
              "\n",
              "          const docLinkHtml = 'Like what you see? Visit the ' +\n",
              "            '<a target=\"_blank\" href=https://colab.research.google.com/notebooks/data_table.ipynb>data table notebook</a>'\n",
              "            + ' to learn more about interactive tables.';\n",
              "          element.innerHTML = '';\n",
              "          dataTable['output_type'] = 'display_data';\n",
              "          await google.colab.output.renderOutput(dataTable, element);\n",
              "          const docLink = document.createElement('div');\n",
              "          docLink.innerHTML = docLinkHtml;\n",
              "          element.appendChild(docLink);\n",
              "        }\n",
              "      </script>\n",
              "    </div>\n",
              "  </div>\n",
              "  "
            ]
          },
          "metadata": {},
          "execution_count": 52
        }
      ]
    },
    {
      "cell_type": "code",
      "source": [
        "noisy_df=noisy_df.reset_index()"
      ],
      "metadata": {
        "id": "eakWWLuG7kJf"
      },
      "execution_count": 60,
      "outputs": []
    },
    {
      "cell_type": "code",
      "source": [
        "import tensorflow as tf\n",
        "from tensorflow.keras import layers"
      ],
      "metadata": {
        "id": "KPz2E3FrYFdK"
      },
      "execution_count": 62,
      "outputs": []
    },
    {
      "cell_type": "code",
      "source": [
        "def generateFrames(size = 6,overlap = True):\n",
        "  # generate overlapping frames\n",
        "  list_of_dfs = [Time_feature_matrix.loc[i:i+size-1,:] for i in range(0, len(Time_feature_matrix), 1 if overlap else size) if i < len(Time_feature_matrix) - size]\n",
        "  \n",
        "  data = []\n",
        "\n",
        "  for d in list_of_dfs:\n",
        "    if(len(d)==size):\n",
        "      values = d[['RMS']].values.flatten()\n",
        "      min_val = tf.reduce_min(values)\n",
        "      max_val = tf.reduce_max(values)\n",
        "      values = (values - min_val) / (max_val - min_val)\n",
        "      data.append(values)\n",
        "\n",
        "  data = np.array(data)\n",
        "\n",
        "  return (data)"
      ],
      "metadata": {
        "id": "hm1IWsAogYUB"
      },
      "execution_count": 63,
      "outputs": []
    },
    {
      "cell_type": "code",
      "source": [
        "def splitTrainTest(ratio, data):\n",
        "  \n",
        "  x_train, x_test = np.split(data, [round(len(data) * ratio), len(data)])\n",
        "  return (x_train,x_test)"
      ],
      "metadata": {
        "id": "TLvZObcSrOA3"
      },
      "execution_count": 64,
      "outputs": []
    },
    {
      "cell_type": "code",
      "source": [
        "frames = generateFrames(20)\n",
        "train_data, test_data = splitTrainTest(0.7, frames)\n",
        "\n",
        "(len(train_data),len(test_data))"
      ],
      "metadata": {
        "id": "czWjoBS-rN7t",
        "colab": {
          "base_uri": "https://localhost:8080/",
          "height": 345
        },
        "outputId": "1471fde9-e2f5-4c3c-c444-01fdb9c64207"
      },
      "execution_count": 65,
      "outputs": [
        {
          "output_type": "error",
          "ename": "ValueError",
          "evalue": "ignored",
          "traceback": [
            "\u001b[0;31m---------------------------------------------------------------------------\u001b[0m",
            "\u001b[0;31mValueError\u001b[0m                                Traceback (most recent call last)",
            "\u001b[0;32m<ipython-input-65-04394da1cb53>\u001b[0m in \u001b[0;36m<cell line: 2>\u001b[0;34m()\u001b[0m\n\u001b[1;32m      1\u001b[0m \u001b[0mframes\u001b[0m \u001b[0;34m=\u001b[0m \u001b[0mgenerateFrames\u001b[0m\u001b[0;34m(\u001b[0m\u001b[0;36m20\u001b[0m\u001b[0;34m)\u001b[0m\u001b[0;34m\u001b[0m\u001b[0;34m\u001b[0m\u001b[0m\n\u001b[0;32m----> 2\u001b[0;31m \u001b[0mtrain_data\u001b[0m\u001b[0;34m,\u001b[0m \u001b[0mtest_data\u001b[0m \u001b[0;34m=\u001b[0m \u001b[0msplitTrainTest\u001b[0m\u001b[0;34m(\u001b[0m\u001b[0;36m0.7\u001b[0m\u001b[0;34m,\u001b[0m \u001b[0mframes\u001b[0m\u001b[0;34m)\u001b[0m\u001b[0;34m\u001b[0m\u001b[0;34m\u001b[0m\u001b[0m\n\u001b[0m\u001b[1;32m      3\u001b[0m \u001b[0;34m\u001b[0m\u001b[0m\n\u001b[1;32m      4\u001b[0m \u001b[0;34m(\u001b[0m\u001b[0mlen\u001b[0m\u001b[0;34m(\u001b[0m\u001b[0mtrain_data\u001b[0m\u001b[0;34m)\u001b[0m\u001b[0;34m,\u001b[0m\u001b[0mlen\u001b[0m\u001b[0;34m(\u001b[0m\u001b[0mtest_data\u001b[0m\u001b[0;34m)\u001b[0m\u001b[0;34m)\u001b[0m\u001b[0;34m\u001b[0m\u001b[0;34m\u001b[0m\u001b[0m\n",
            "\u001b[0;32m<ipython-input-64-70b120fec7a6>\u001b[0m in \u001b[0;36msplitTrainTest\u001b[0;34m(ratio, data)\u001b[0m\n\u001b[1;32m      1\u001b[0m \u001b[0;32mdef\u001b[0m \u001b[0msplitTrainTest\u001b[0m\u001b[0;34m(\u001b[0m\u001b[0mratio\u001b[0m\u001b[0;34m,\u001b[0m \u001b[0mdata\u001b[0m\u001b[0;34m)\u001b[0m\u001b[0;34m:\u001b[0m\u001b[0;34m\u001b[0m\u001b[0;34m\u001b[0m\u001b[0m\n\u001b[1;32m      2\u001b[0m \u001b[0;34m\u001b[0m\u001b[0m\n\u001b[0;32m----> 3\u001b[0;31m   \u001b[0mx_train\u001b[0m\u001b[0;34m,\u001b[0m \u001b[0mx_test\u001b[0m \u001b[0;34m=\u001b[0m \u001b[0mnp\u001b[0m\u001b[0;34m.\u001b[0m\u001b[0msplit\u001b[0m\u001b[0;34m(\u001b[0m\u001b[0mdata\u001b[0m\u001b[0;34m,\u001b[0m \u001b[0;34m[\u001b[0m\u001b[0mround\u001b[0m\u001b[0;34m(\u001b[0m\u001b[0mlen\u001b[0m\u001b[0;34m(\u001b[0m\u001b[0mdata\u001b[0m\u001b[0;34m)\u001b[0m \u001b[0;34m*\u001b[0m \u001b[0mratio\u001b[0m\u001b[0;34m)\u001b[0m\u001b[0;34m,\u001b[0m \u001b[0mlen\u001b[0m\u001b[0;34m(\u001b[0m\u001b[0mdata\u001b[0m\u001b[0;34m)\u001b[0m\u001b[0;34m]\u001b[0m\u001b[0;34m)\u001b[0m\u001b[0;34m\u001b[0m\u001b[0;34m\u001b[0m\u001b[0m\n\u001b[0m\u001b[1;32m      4\u001b[0m   \u001b[0;32mreturn\u001b[0m \u001b[0;34m(\u001b[0m\u001b[0mx_train\u001b[0m\u001b[0;34m,\u001b[0m\u001b[0mx_test\u001b[0m\u001b[0;34m)\u001b[0m\u001b[0;34m\u001b[0m\u001b[0;34m\u001b[0m\u001b[0m\n",
            "\u001b[0;31mValueError\u001b[0m: too many values to unpack (expected 2)"
          ]
        }
      ]
    },
    {
      "cell_type": "code",
      "source": [
        "frames"
      ],
      "metadata": {
        "colab": {
          "base_uri": "https://localhost:8080/"
        },
        "id": "9iVWI7e9GY-4",
        "outputId": "a719ddc0-c1d0-4a9b-8c84-c0451b5d840f"
      },
      "execution_count": 66,
      "outputs": [
        {
          "output_type": "execute_result",
          "data": {
            "text/plain": [
              "array([[0.        , 0.21166447, 0.36069086, ..., 0.60569191, 0.64135763,\n",
              "        0.83616293],\n",
              "       [0.        , 0.18903929, 0.74543684, ..., 0.5450638 , 0.79217343,\n",
              "        0.81345463],\n",
              "       [0.12351069, 0.7248672 , 0.66473263, ..., 0.77538028, 0.79838108,\n",
              "        0.8790965 ],\n",
              "       ...,\n",
              "       [0.05589864, 0.        , 0.00590019, ..., 0.31481433, 1.        ,\n",
              "        0.46691525],\n",
              "       [0.        , 0.00590019, 0.03209086, ..., 1.        , 0.46691525,\n",
              "        0.51115232],\n",
              "       [0.32158515, 0.33945875, 0.40819715, ..., 0.63620091, 0.66639011,\n",
              "        0.        ]])"
            ]
          },
          "metadata": {},
          "execution_count": 66
        }
      ]
    },
    {
      "cell_type": "code",
      "source": [
        "model = tf.keras.Sequential([\n",
        "    # todo:  no longer multivarite\n",
        "    tf.keras.layers.Dense(128, activation='softmax'),\n",
        "    tf.keras.layers.Dense(64, activation='softmax'),\n",
        "    tf.keras.layers.Dense(32, activation='softmax'),\n",
        "    tf.keras.layers.Dense(16, activation='softmax'),\n",
        "    tf.keras.layers.Dense(12, activation='softmax'),\n",
        "    tf.keras.layers.Dense(6, activation='softmax'),\n",
        "    tf.keras.layers.Dense(3, activation='softmax'),\n",
        "    tf.keras.layers.Dense(1)\n",
        "])\n",
        "\n",
        "model.compile(optimizer='adam',\n",
        "              loss=tf.keras.losses.BinaryCrossentropy(from_logits=True),\n",
        "              metrics=['accuracy'])\n",
        "\n",
        "model.fit(train_data, epochs=10)"
      ],
      "metadata": {
        "id": "_cDgQzg7g3UU"
      },
      "execution_count": null,
      "outputs": []
    },
    {
      "cell_type": "code",
      "source": [],
      "metadata": {
        "id": "MC8tKtemg3Re"
      },
      "execution_count": null,
      "outputs": []
    },
    {
      "cell_type": "code",
      "source": [],
      "metadata": {
        "id": "fwCWPEGNg3Mx"
      },
      "execution_count": null,
      "outputs": []
    },
    {
      "cell_type": "code",
      "source": [],
      "metadata": {
        "id": "tZAg4o_wg3Kn"
      },
      "execution_count": null,
      "outputs": []
    },
    {
      "cell_type": "code",
      "source": [],
      "metadata": {
        "id": "3T5nwzXGg3ID"
      },
      "execution_count": null,
      "outputs": []
    }
  ]
}