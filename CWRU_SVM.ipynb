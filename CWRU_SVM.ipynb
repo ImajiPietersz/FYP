{
  "nbformat": 4,
  "nbformat_minor": 0,
  "metadata": {
    "colab": {
      "provenance": [],
      "authorship_tag": "ABX9TyPUV6wRNDbgm5ugGl9bHieN",
      "include_colab_link": true
    },
    "kernelspec": {
      "name": "python3",
      "display_name": "Python 3"
    },
    "language_info": {
      "name": "python"
    }
  },
  "cells": [
    {
      "cell_type": "markdown",
      "metadata": {
        "id": "view-in-github",
        "colab_type": "text"
      },
      "source": [
        "<a href=\"https://colab.research.google.com/github/ImajiPietersz/FYP/blob/main/CWRU_SVM.ipynb\" target=\"_parent\"><img src=\"https://colab.research.google.com/assets/colab-badge.svg\" alt=\"Open In Colab\"/></a>"
      ]
    },
    {
      "cell_type": "code",
      "execution_count": null,
      "metadata": {
        "colab": {
          "base_uri": "https://localhost:8080/"
        },
        "id": "MiVcGF1uT15m",
        "outputId": "a613d135-2cec-4165-c128-06a5789745d4"
      },
      "outputs": [
        {
          "output_type": "stream",
          "name": "stdout",
          "text": [
            "Looking in indexes: https://pypi.org/simple, https://us-python.pkg.dev/colab-wheels/public/simple/\n",
            "Requirement already satisfied: kaggle in /usr/local/lib/python3.10/dist-packages (1.5.13)\n",
            "Requirement already satisfied: six>=1.10 in /usr/local/lib/python3.10/dist-packages (from kaggle) (1.16.0)\n",
            "Requirement already satisfied: certifi in /usr/local/lib/python3.10/dist-packages (from kaggle) (2022.12.7)\n",
            "Requirement already satisfied: python-dateutil in /usr/local/lib/python3.10/dist-packages (from kaggle) (2.8.2)\n",
            "Requirement already satisfied: requests in /usr/local/lib/python3.10/dist-packages (from kaggle) (2.27.1)\n",
            "Requirement already satisfied: tqdm in /usr/local/lib/python3.10/dist-packages (from kaggle) (4.65.0)\n",
            "Requirement already satisfied: python-slugify in /usr/local/lib/python3.10/dist-packages (from kaggle) (8.0.1)\n",
            "Requirement already satisfied: urllib3 in /usr/local/lib/python3.10/dist-packages (from kaggle) (1.26.15)\n",
            "Requirement already satisfied: text-unidecode>=1.3 in /usr/local/lib/python3.10/dist-packages (from python-slugify->kaggle) (1.3)\n",
            "Requirement already satisfied: charset-normalizer~=2.0.0 in /usr/local/lib/python3.10/dist-packages (from requests->kaggle) (2.0.12)\n",
            "Requirement already satisfied: idna<4,>=2.5 in /usr/local/lib/python3.10/dist-packages (from requests->kaggle) (3.4)\n"
          ]
        }
      ],
      "source": [
        "!pip install kaggle"
      ]
    },
    {
      "cell_type": "code",
      "source": [
        "from google.colab import files\n",
        "files.upload()"
      ],
      "metadata": {
        "colab": {
          "base_uri": "https://localhost:8080/",
          "height": 90
        },
        "id": "Fp1uFhYFT8vT",
        "outputId": "f6ac9766-578b-4495-bba5-7f260ec26a6c"
      },
      "execution_count": 7,
      "outputs": [
        {
          "output_type": "display_data",
          "data": {
            "text/plain": [
              "<IPython.core.display.HTML object>"
            ],
            "text/html": [
              "\n",
              "     <input type=\"file\" id=\"files-197b3483-44b1-4482-a34f-7dd70b76907a\" name=\"files[]\" multiple disabled\n",
              "        style=\"border:none\" />\n",
              "     <output id=\"result-197b3483-44b1-4482-a34f-7dd70b76907a\">\n",
              "      Upload widget is only available when the cell has been executed in the\n",
              "      current browser session. Please rerun this cell to enable.\n",
              "      </output>\n",
              "      <script>// Copyright 2017 Google LLC\n",
              "//\n",
              "// Licensed under the Apache License, Version 2.0 (the \"License\");\n",
              "// you may not use this file except in compliance with the License.\n",
              "// You may obtain a copy of the License at\n",
              "//\n",
              "//      http://www.apache.org/licenses/LICENSE-2.0\n",
              "//\n",
              "// Unless required by applicable law or agreed to in writing, software\n",
              "// distributed under the License is distributed on an \"AS IS\" BASIS,\n",
              "// WITHOUT WARRANTIES OR CONDITIONS OF ANY KIND, either express or implied.\n",
              "// See the License for the specific language governing permissions and\n",
              "// limitations under the License.\n",
              "\n",
              "/**\n",
              " * @fileoverview Helpers for google.colab Python module.\n",
              " */\n",
              "(function(scope) {\n",
              "function span(text, styleAttributes = {}) {\n",
              "  const element = document.createElement('span');\n",
              "  element.textContent = text;\n",
              "  for (const key of Object.keys(styleAttributes)) {\n",
              "    element.style[key] = styleAttributes[key];\n",
              "  }\n",
              "  return element;\n",
              "}\n",
              "\n",
              "// Max number of bytes which will be uploaded at a time.\n",
              "const MAX_PAYLOAD_SIZE = 100 * 1024;\n",
              "\n",
              "function _uploadFiles(inputId, outputId) {\n",
              "  const steps = uploadFilesStep(inputId, outputId);\n",
              "  const outputElement = document.getElementById(outputId);\n",
              "  // Cache steps on the outputElement to make it available for the next call\n",
              "  // to uploadFilesContinue from Python.\n",
              "  outputElement.steps = steps;\n",
              "\n",
              "  return _uploadFilesContinue(outputId);\n",
              "}\n",
              "\n",
              "// This is roughly an async generator (not supported in the browser yet),\n",
              "// where there are multiple asynchronous steps and the Python side is going\n",
              "// to poll for completion of each step.\n",
              "// This uses a Promise to block the python side on completion of each step,\n",
              "// then passes the result of the previous step as the input to the next step.\n",
              "function _uploadFilesContinue(outputId) {\n",
              "  const outputElement = document.getElementById(outputId);\n",
              "  const steps = outputElement.steps;\n",
              "\n",
              "  const next = steps.next(outputElement.lastPromiseValue);\n",
              "  return Promise.resolve(next.value.promise).then((value) => {\n",
              "    // Cache the last promise value to make it available to the next\n",
              "    // step of the generator.\n",
              "    outputElement.lastPromiseValue = value;\n",
              "    return next.value.response;\n",
              "  });\n",
              "}\n",
              "\n",
              "/**\n",
              " * Generator function which is called between each async step of the upload\n",
              " * process.\n",
              " * @param {string} inputId Element ID of the input file picker element.\n",
              " * @param {string} outputId Element ID of the output display.\n",
              " * @return {!Iterable<!Object>} Iterable of next steps.\n",
              " */\n",
              "function* uploadFilesStep(inputId, outputId) {\n",
              "  const inputElement = document.getElementById(inputId);\n",
              "  inputElement.disabled = false;\n",
              "\n",
              "  const outputElement = document.getElementById(outputId);\n",
              "  outputElement.innerHTML = '';\n",
              "\n",
              "  const pickedPromise = new Promise((resolve) => {\n",
              "    inputElement.addEventListener('change', (e) => {\n",
              "      resolve(e.target.files);\n",
              "    });\n",
              "  });\n",
              "\n",
              "  const cancel = document.createElement('button');\n",
              "  inputElement.parentElement.appendChild(cancel);\n",
              "  cancel.textContent = 'Cancel upload';\n",
              "  const cancelPromise = new Promise((resolve) => {\n",
              "    cancel.onclick = () => {\n",
              "      resolve(null);\n",
              "    };\n",
              "  });\n",
              "\n",
              "  // Wait for the user to pick the files.\n",
              "  const files = yield {\n",
              "    promise: Promise.race([pickedPromise, cancelPromise]),\n",
              "    response: {\n",
              "      action: 'starting',\n",
              "    }\n",
              "  };\n",
              "\n",
              "  cancel.remove();\n",
              "\n",
              "  // Disable the input element since further picks are not allowed.\n",
              "  inputElement.disabled = true;\n",
              "\n",
              "  if (!files) {\n",
              "    return {\n",
              "      response: {\n",
              "        action: 'complete',\n",
              "      }\n",
              "    };\n",
              "  }\n",
              "\n",
              "  for (const file of files) {\n",
              "    const li = document.createElement('li');\n",
              "    li.append(span(file.name, {fontWeight: 'bold'}));\n",
              "    li.append(span(\n",
              "        `(${file.type || 'n/a'}) - ${file.size} bytes, ` +\n",
              "        `last modified: ${\n",
              "            file.lastModifiedDate ? file.lastModifiedDate.toLocaleDateString() :\n",
              "                                    'n/a'} - `));\n",
              "    const percent = span('0% done');\n",
              "    li.appendChild(percent);\n",
              "\n",
              "    outputElement.appendChild(li);\n",
              "\n",
              "    const fileDataPromise = new Promise((resolve) => {\n",
              "      const reader = new FileReader();\n",
              "      reader.onload = (e) => {\n",
              "        resolve(e.target.result);\n",
              "      };\n",
              "      reader.readAsArrayBuffer(file);\n",
              "    });\n",
              "    // Wait for the data to be ready.\n",
              "    let fileData = yield {\n",
              "      promise: fileDataPromise,\n",
              "      response: {\n",
              "        action: 'continue',\n",
              "      }\n",
              "    };\n",
              "\n",
              "    // Use a chunked sending to avoid message size limits. See b/62115660.\n",
              "    let position = 0;\n",
              "    do {\n",
              "      const length = Math.min(fileData.byteLength - position, MAX_PAYLOAD_SIZE);\n",
              "      const chunk = new Uint8Array(fileData, position, length);\n",
              "      position += length;\n",
              "\n",
              "      const base64 = btoa(String.fromCharCode.apply(null, chunk));\n",
              "      yield {\n",
              "        response: {\n",
              "          action: 'append',\n",
              "          file: file.name,\n",
              "          data: base64,\n",
              "        },\n",
              "      };\n",
              "\n",
              "      let percentDone = fileData.byteLength === 0 ?\n",
              "          100 :\n",
              "          Math.round((position / fileData.byteLength) * 100);\n",
              "      percent.textContent = `${percentDone}% done`;\n",
              "\n",
              "    } while (position < fileData.byteLength);\n",
              "  }\n",
              "\n",
              "  // All done.\n",
              "  yield {\n",
              "    response: {\n",
              "      action: 'complete',\n",
              "    }\n",
              "  };\n",
              "}\n",
              "\n",
              "scope.google = scope.google || {};\n",
              "scope.google.colab = scope.google.colab || {};\n",
              "scope.google.colab._files = {\n",
              "  _uploadFiles,\n",
              "  _uploadFilesContinue,\n",
              "};\n",
              "})(self);\n",
              "</script> "
            ]
          },
          "metadata": {}
        },
        {
          "output_type": "stream",
          "name": "stdout",
          "text": [
            "Saving kaggle.json to kaggle.json\n"
          ]
        },
        {
          "output_type": "execute_result",
          "data": {
            "text/plain": [
              "{'kaggle.json': b'{\"username\":\"imajipietersz\",\"key\":\"a867e2513f7abed17b6257011d4c5467\"}'}"
            ]
          },
          "metadata": {},
          "execution_count": 7
        }
      ]
    },
    {
      "cell_type": "code",
      "source": [
        "!mkdir -p ~/.kaggle\n",
        "!cp kaggle.json ~/.kaggle/\n",
        "\n",
        "#change the permission\n",
        "!chmod 600  ~/.kaggle/kaggle.json"
      ],
      "metadata": {
        "id": "IaSJuvVHT8yD"
      },
      "execution_count": 8,
      "outputs": []
    },
    {
      "cell_type": "code",
      "source": [
        "!kaggle datasets download -d brjapon/cwru-bearing-datasets"
      ],
      "metadata": {
        "colab": {
          "base_uri": "https://localhost:8080/"
        },
        "id": "Y8qGD6LMT806",
        "outputId": "44107c9e-b1b8-48b5-8a20-54443763ce77"
      },
      "execution_count": 9,
      "outputs": [
        {
          "output_type": "stream",
          "name": "stdout",
          "text": [
            "Downloading cwru-bearing-datasets.zip to /content\n",
            " 64% 26.0M/40.4M [00:00<00:00, 78.8MB/s]\n",
            "100% 40.4M/40.4M [00:00<00:00, 97.3MB/s]\n"
          ]
        }
      ]
    },
    {
      "cell_type": "code",
      "source": [
        "from zipfile import ZipFile\n",
        "file_name = \"/content/cwru-bearing-datasets.zip\"\n",
        "\n",
        "with ZipFile(file_name, 'r') as zip1:\n",
        "  zip1.extractall()\n",
        "  print('Done')"
      ],
      "metadata": {
        "colab": {
          "base_uri": "https://localhost:8080/"
        },
        "id": "hrUXEY6uT833",
        "outputId": "84880923-4f52-44a5-f1c4-ac7e73884295"
      },
      "execution_count": 10,
      "outputs": [
        {
          "output_type": "stream",
          "name": "stdout",
          "text": [
            "Done\n"
          ]
        }
      ]
    },
    {
      "cell_type": "code",
      "source": [
        "import matplotlib.pyplot as plt\n",
        "import scipy.io\n",
        "import numpy as np\n",
        "import pandas as pd\n",
        "import os"
      ],
      "metadata": {
        "id": "QlFPjjQST86l"
      },
      "execution_count": 11,
      "outputs": []
    },
    {
      "cell_type": "code",
      "source": [
        "import matplotlib.pyplot as plt"
      ],
      "metadata": {
        "id": "ixgntJ3GT89F"
      },
      "execution_count": 12,
      "outputs": []
    },
    {
      "cell_type": "code",
      "source": [
        "df = pd.read_csv('/content/feature_time_48k_2048_load_1.csv')"
      ],
      "metadata": {
        "id": "YBc7Q0LpUK33"
      },
      "execution_count": 13,
      "outputs": []
    },
    {
      "cell_type": "code",
      "source": [
        "df"
      ],
      "metadata": {
        "colab": {
          "base_uri": "https://localhost:8080/",
          "height": 423
        },
        "id": "SNo9Rog4UK66",
        "outputId": "0da112a3-a1dc-4b0e-9a20-e1ba2024daef"
      },
      "execution_count": 14,
      "outputs": [
        {
          "output_type": "execute_result",
          "data": {
            "text/plain": [
              "          max      min      mean        sd       rms  skewness  kurtosis  \\\n",
              "0     0.35986 -0.41890  0.017840  0.122746  0.124006 -0.118571 -0.042219   \n",
              "1     0.46772 -0.36111  0.022255  0.132488  0.134312  0.174699 -0.081548   \n",
              "2     0.46855 -0.43809  0.020470  0.149651  0.151008  0.040339 -0.274069   \n",
              "3     0.58475 -0.54303  0.020960  0.157067  0.158422 -0.023266  0.134692   \n",
              "4     0.44685 -0.57891  0.022167  0.138189  0.139922 -0.081534  0.402783   \n",
              "...       ...      ...       ...       ...       ...       ...       ...   \n",
              "2295  0.21425 -0.19839  0.010769  0.064100  0.064983 -0.212497 -0.119312   \n",
              "2296  0.21967 -0.20882  0.013136  0.068654  0.069883 -0.061308 -0.295122   \n",
              "2297  0.20799 -0.21613  0.012571  0.067128  0.068279 -0.154754 -0.071405   \n",
              "2298  0.21425 -0.22405  0.012608  0.066813  0.067977 -0.326966  0.023662   \n",
              "2299  0.19610 -0.24721  0.012209  0.063243  0.064396 -0.351762  0.226294   \n",
              "\n",
              "         crest      form       fault  \n",
              "0     2.901946  6.950855  Ball_007_1  \n",
              "1     3.482334  6.035202  Ball_007_1  \n",
              "2     3.102819  7.376926  Ball_007_1  \n",
              "3     3.691097  7.558387  Ball_007_1  \n",
              "4     3.193561  6.312085  Ball_007_1  \n",
              "...        ...       ...         ...  \n",
              "2295  3.297037  6.034174    Normal_1  \n",
              "2296  3.143410  5.319958    Normal_1  \n",
              "2297  3.046161  5.431299    Normal_1  \n",
              "2298  3.151821  5.391672    Normal_1  \n",
              "2299  3.045244  5.274392    Normal_1  \n",
              "\n",
              "[2300 rows x 10 columns]"
            ],
            "text/html": [
              "\n",
              "  <div id=\"df-95a88f1b-efb0-43b6-8dd5-ca3fd65172da\">\n",
              "    <div class=\"colab-df-container\">\n",
              "      <div>\n",
              "<style scoped>\n",
              "    .dataframe tbody tr th:only-of-type {\n",
              "        vertical-align: middle;\n",
              "    }\n",
              "\n",
              "    .dataframe tbody tr th {\n",
              "        vertical-align: top;\n",
              "    }\n",
              "\n",
              "    .dataframe thead th {\n",
              "        text-align: right;\n",
              "    }\n",
              "</style>\n",
              "<table border=\"1\" class=\"dataframe\">\n",
              "  <thead>\n",
              "    <tr style=\"text-align: right;\">\n",
              "      <th></th>\n",
              "      <th>max</th>\n",
              "      <th>min</th>\n",
              "      <th>mean</th>\n",
              "      <th>sd</th>\n",
              "      <th>rms</th>\n",
              "      <th>skewness</th>\n",
              "      <th>kurtosis</th>\n",
              "      <th>crest</th>\n",
              "      <th>form</th>\n",
              "      <th>fault</th>\n",
              "    </tr>\n",
              "  </thead>\n",
              "  <tbody>\n",
              "    <tr>\n",
              "      <th>0</th>\n",
              "      <td>0.35986</td>\n",
              "      <td>-0.41890</td>\n",
              "      <td>0.017840</td>\n",
              "      <td>0.122746</td>\n",
              "      <td>0.124006</td>\n",
              "      <td>-0.118571</td>\n",
              "      <td>-0.042219</td>\n",
              "      <td>2.901946</td>\n",
              "      <td>6.950855</td>\n",
              "      <td>Ball_007_1</td>\n",
              "    </tr>\n",
              "    <tr>\n",
              "      <th>1</th>\n",
              "      <td>0.46772</td>\n",
              "      <td>-0.36111</td>\n",
              "      <td>0.022255</td>\n",
              "      <td>0.132488</td>\n",
              "      <td>0.134312</td>\n",
              "      <td>0.174699</td>\n",
              "      <td>-0.081548</td>\n",
              "      <td>3.482334</td>\n",
              "      <td>6.035202</td>\n",
              "      <td>Ball_007_1</td>\n",
              "    </tr>\n",
              "    <tr>\n",
              "      <th>2</th>\n",
              "      <td>0.46855</td>\n",
              "      <td>-0.43809</td>\n",
              "      <td>0.020470</td>\n",
              "      <td>0.149651</td>\n",
              "      <td>0.151008</td>\n",
              "      <td>0.040339</td>\n",
              "      <td>-0.274069</td>\n",
              "      <td>3.102819</td>\n",
              "      <td>7.376926</td>\n",
              "      <td>Ball_007_1</td>\n",
              "    </tr>\n",
              "    <tr>\n",
              "      <th>3</th>\n",
              "      <td>0.58475</td>\n",
              "      <td>-0.54303</td>\n",
              "      <td>0.020960</td>\n",
              "      <td>0.157067</td>\n",
              "      <td>0.158422</td>\n",
              "      <td>-0.023266</td>\n",
              "      <td>0.134692</td>\n",
              "      <td>3.691097</td>\n",
              "      <td>7.558387</td>\n",
              "      <td>Ball_007_1</td>\n",
              "    </tr>\n",
              "    <tr>\n",
              "      <th>4</th>\n",
              "      <td>0.44685</td>\n",
              "      <td>-0.57891</td>\n",
              "      <td>0.022167</td>\n",
              "      <td>0.138189</td>\n",
              "      <td>0.139922</td>\n",
              "      <td>-0.081534</td>\n",
              "      <td>0.402783</td>\n",
              "      <td>3.193561</td>\n",
              "      <td>6.312085</td>\n",
              "      <td>Ball_007_1</td>\n",
              "    </tr>\n",
              "    <tr>\n",
              "      <th>...</th>\n",
              "      <td>...</td>\n",
              "      <td>...</td>\n",
              "      <td>...</td>\n",
              "      <td>...</td>\n",
              "      <td>...</td>\n",
              "      <td>...</td>\n",
              "      <td>...</td>\n",
              "      <td>...</td>\n",
              "      <td>...</td>\n",
              "      <td>...</td>\n",
              "    </tr>\n",
              "    <tr>\n",
              "      <th>2295</th>\n",
              "      <td>0.21425</td>\n",
              "      <td>-0.19839</td>\n",
              "      <td>0.010769</td>\n",
              "      <td>0.064100</td>\n",
              "      <td>0.064983</td>\n",
              "      <td>-0.212497</td>\n",
              "      <td>-0.119312</td>\n",
              "      <td>3.297037</td>\n",
              "      <td>6.034174</td>\n",
              "      <td>Normal_1</td>\n",
              "    </tr>\n",
              "    <tr>\n",
              "      <th>2296</th>\n",
              "      <td>0.21967</td>\n",
              "      <td>-0.20882</td>\n",
              "      <td>0.013136</td>\n",
              "      <td>0.068654</td>\n",
              "      <td>0.069883</td>\n",
              "      <td>-0.061308</td>\n",
              "      <td>-0.295122</td>\n",
              "      <td>3.143410</td>\n",
              "      <td>5.319958</td>\n",
              "      <td>Normal_1</td>\n",
              "    </tr>\n",
              "    <tr>\n",
              "      <th>2297</th>\n",
              "      <td>0.20799</td>\n",
              "      <td>-0.21613</td>\n",
              "      <td>0.012571</td>\n",
              "      <td>0.067128</td>\n",
              "      <td>0.068279</td>\n",
              "      <td>-0.154754</td>\n",
              "      <td>-0.071405</td>\n",
              "      <td>3.046161</td>\n",
              "      <td>5.431299</td>\n",
              "      <td>Normal_1</td>\n",
              "    </tr>\n",
              "    <tr>\n",
              "      <th>2298</th>\n",
              "      <td>0.21425</td>\n",
              "      <td>-0.22405</td>\n",
              "      <td>0.012608</td>\n",
              "      <td>0.066813</td>\n",
              "      <td>0.067977</td>\n",
              "      <td>-0.326966</td>\n",
              "      <td>0.023662</td>\n",
              "      <td>3.151821</td>\n",
              "      <td>5.391672</td>\n",
              "      <td>Normal_1</td>\n",
              "    </tr>\n",
              "    <tr>\n",
              "      <th>2299</th>\n",
              "      <td>0.19610</td>\n",
              "      <td>-0.24721</td>\n",
              "      <td>0.012209</td>\n",
              "      <td>0.063243</td>\n",
              "      <td>0.064396</td>\n",
              "      <td>-0.351762</td>\n",
              "      <td>0.226294</td>\n",
              "      <td>3.045244</td>\n",
              "      <td>5.274392</td>\n",
              "      <td>Normal_1</td>\n",
              "    </tr>\n",
              "  </tbody>\n",
              "</table>\n",
              "<p>2300 rows × 10 columns</p>\n",
              "</div>\n",
              "      <button class=\"colab-df-convert\" onclick=\"convertToInteractive('df-95a88f1b-efb0-43b6-8dd5-ca3fd65172da')\"\n",
              "              title=\"Convert this dataframe to an interactive table.\"\n",
              "              style=\"display:none;\">\n",
              "        \n",
              "  <svg xmlns=\"http://www.w3.org/2000/svg\" height=\"24px\"viewBox=\"0 0 24 24\"\n",
              "       width=\"24px\">\n",
              "    <path d=\"M0 0h24v24H0V0z\" fill=\"none\"/>\n",
              "    <path d=\"M18.56 5.44l.94 2.06.94-2.06 2.06-.94-2.06-.94-.94-2.06-.94 2.06-2.06.94zm-11 1L8.5 8.5l.94-2.06 2.06-.94-2.06-.94L8.5 2.5l-.94 2.06-2.06.94zm10 10l.94 2.06.94-2.06 2.06-.94-2.06-.94-.94-2.06-.94 2.06-2.06.94z\"/><path d=\"M17.41 7.96l-1.37-1.37c-.4-.4-.92-.59-1.43-.59-.52 0-1.04.2-1.43.59L10.3 9.45l-7.72 7.72c-.78.78-.78 2.05 0 2.83L4 21.41c.39.39.9.59 1.41.59.51 0 1.02-.2 1.41-.59l7.78-7.78 2.81-2.81c.8-.78.8-2.07 0-2.86zM5.41 20L4 18.59l7.72-7.72 1.47 1.35L5.41 20z\"/>\n",
              "  </svg>\n",
              "      </button>\n",
              "      \n",
              "  <style>\n",
              "    .colab-df-container {\n",
              "      display:flex;\n",
              "      flex-wrap:wrap;\n",
              "      gap: 12px;\n",
              "    }\n",
              "\n",
              "    .colab-df-convert {\n",
              "      background-color: #E8F0FE;\n",
              "      border: none;\n",
              "      border-radius: 50%;\n",
              "      cursor: pointer;\n",
              "      display: none;\n",
              "      fill: #1967D2;\n",
              "      height: 32px;\n",
              "      padding: 0 0 0 0;\n",
              "      width: 32px;\n",
              "    }\n",
              "\n",
              "    .colab-df-convert:hover {\n",
              "      background-color: #E2EBFA;\n",
              "      box-shadow: 0px 1px 2px rgba(60, 64, 67, 0.3), 0px 1px 3px 1px rgba(60, 64, 67, 0.15);\n",
              "      fill: #174EA6;\n",
              "    }\n",
              "\n",
              "    [theme=dark] .colab-df-convert {\n",
              "      background-color: #3B4455;\n",
              "      fill: #D2E3FC;\n",
              "    }\n",
              "\n",
              "    [theme=dark] .colab-df-convert:hover {\n",
              "      background-color: #434B5C;\n",
              "      box-shadow: 0px 1px 3px 1px rgba(0, 0, 0, 0.15);\n",
              "      filter: drop-shadow(0px 1px 2px rgba(0, 0, 0, 0.3));\n",
              "      fill: #FFFFFF;\n",
              "    }\n",
              "  </style>\n",
              "\n",
              "      <script>\n",
              "        const buttonEl =\n",
              "          document.querySelector('#df-95a88f1b-efb0-43b6-8dd5-ca3fd65172da button.colab-df-convert');\n",
              "        buttonEl.style.display =\n",
              "          google.colab.kernel.accessAllowed ? 'block' : 'none';\n",
              "\n",
              "        async function convertToInteractive(key) {\n",
              "          const element = document.querySelector('#df-95a88f1b-efb0-43b6-8dd5-ca3fd65172da');\n",
              "          const dataTable =\n",
              "            await google.colab.kernel.invokeFunction('convertToInteractive',\n",
              "                                                     [key], {});\n",
              "          if (!dataTable) return;\n",
              "\n",
              "          const docLinkHtml = 'Like what you see? Visit the ' +\n",
              "            '<a target=\"_blank\" href=https://colab.research.google.com/notebooks/data_table.ipynb>data table notebook</a>'\n",
              "            + ' to learn more about interactive tables.';\n",
              "          element.innerHTML = '';\n",
              "          dataTable['output_type'] = 'display_data';\n",
              "          await google.colab.output.renderOutput(dataTable, element);\n",
              "          const docLink = document.createElement('div');\n",
              "          docLink.innerHTML = docLinkHtml;\n",
              "          element.appendChild(docLink);\n",
              "        }\n",
              "      </script>\n",
              "    </div>\n",
              "  </div>\n",
              "  "
            ]
          },
          "metadata": {},
          "execution_count": 14
        }
      ]
    },
    {
      "cell_type": "code",
      "source": [
        "df['fault'].value_counts()"
      ],
      "metadata": {
        "colab": {
          "base_uri": "https://localhost:8080/"
        },
        "id": "mgD81GCyUK-a",
        "outputId": "dbf46287-3c2a-4397-9933-0cffbc37da04"
      },
      "execution_count": 15,
      "outputs": [
        {
          "output_type": "execute_result",
          "data": {
            "text/plain": [
              "Ball_007_1    230\n",
              "Ball_014_1    230\n",
              "Ball_021_1    230\n",
              "IR_007_1      230\n",
              "IR_014_1      230\n",
              "IR_021_1      230\n",
              "OR_007_6_1    230\n",
              "OR_014_6_1    230\n",
              "OR_021_6_1    230\n",
              "Normal_1      230\n",
              "Name: fault, dtype: int64"
            ]
          },
          "metadata": {},
          "execution_count": 15
        }
      ]
    },
    {
      "cell_type": "code",
      "source": [
        "labels=df.pop('fault')"
      ],
      "metadata": {
        "id": "XwZ9uYs9ULBQ"
      },
      "execution_count": 16,
      "outputs": []
    },
    {
      "cell_type": "code",
      "source": [
        "labels"
      ],
      "metadata": {
        "colab": {
          "base_uri": "https://localhost:8080/"
        },
        "id": "kCucPegrULE4",
        "outputId": "cd2f1b81-4c86-4789-ff7d-b2a393fe0453"
      },
      "execution_count": 17,
      "outputs": [
        {
          "output_type": "execute_result",
          "data": {
            "text/plain": [
              "0       Ball_007_1\n",
              "1       Ball_007_1\n",
              "2       Ball_007_1\n",
              "3       Ball_007_1\n",
              "4       Ball_007_1\n",
              "           ...    \n",
              "2295      Normal_1\n",
              "2296      Normal_1\n",
              "2297      Normal_1\n",
              "2298      Normal_1\n",
              "2299      Normal_1\n",
              "Name: fault, Length: 2300, dtype: object"
            ]
          },
          "metadata": {},
          "execution_count": 17
        }
      ]
    },
    {
      "cell_type": "code",
      "source": [
        "binary_labels=[]\n",
        "for i in labels:\n",
        "  if i=='Normal_1':\n",
        "    binary_labels.append(1)\n",
        "  else:\n",
        "    binary_labels.append(-1)"
      ],
      "metadata": {
        "id": "NfGM7g8eW27J"
      },
      "execution_count": 18,
      "outputs": []
    },
    {
      "cell_type": "code",
      "source": [
        "df['binary_labels']=binary_labels"
      ],
      "metadata": {
        "id": "8A6JFRbdZMEw"
      },
      "execution_count": 19,
      "outputs": []
    },
    {
      "cell_type": "code",
      "source": [
        "normal_df = df[df['binary_labels'] == 1]"
      ],
      "metadata": {
        "id": "X50xu9nJZPf-"
      },
      "execution_count": 20,
      "outputs": []
    },
    {
      "cell_type": "code",
      "source": [
        "anomaly_df = df[df['binary_labels'] == -1]"
      ],
      "metadata": {
        "id": "3XEp3zYgZPi8"
      },
      "execution_count": 21,
      "outputs": []
    },
    {
      "cell_type": "code",
      "source": [
        "normal_df.pop('binary_labels')"
      ],
      "metadata": {
        "id": "MNh1G2MkZydq",
        "colab": {
          "base_uri": "https://localhost:8080/"
        },
        "outputId": "98804e17-3ceb-43d3-8fee-8a75b5a6ce91"
      },
      "execution_count": 22,
      "outputs": [
        {
          "output_type": "execute_result",
          "data": {
            "text/plain": [
              "2070    1\n",
              "2071    1\n",
              "2072    1\n",
              "2073    1\n",
              "2074    1\n",
              "       ..\n",
              "2295    1\n",
              "2296    1\n",
              "2297    1\n",
              "2298    1\n",
              "2299    1\n",
              "Name: binary_labels, Length: 230, dtype: int64"
            ]
          },
          "metadata": {},
          "execution_count": 22
        }
      ]
    },
    {
      "cell_type": "code",
      "source": [
        "anomaly_df.pop('binary_labels')"
      ],
      "metadata": {
        "id": "jREFvbB1Zygc",
        "colab": {
          "base_uri": "https://localhost:8080/"
        },
        "outputId": "9c1b1769-2dc1-4c39-b2a9-95eabc19960c"
      },
      "execution_count": 23,
      "outputs": [
        {
          "output_type": "execute_result",
          "data": {
            "text/plain": [
              "0      -1\n",
              "1      -1\n",
              "2      -1\n",
              "3      -1\n",
              "4      -1\n",
              "       ..\n",
              "2065   -1\n",
              "2066   -1\n",
              "2067   -1\n",
              "2068   -1\n",
              "2069   -1\n",
              "Name: binary_labels, Length: 2070, dtype: int64"
            ]
          },
          "metadata": {},
          "execution_count": 23
        }
      ]
    },
    {
      "cell_type": "code",
      "source": [],
      "metadata": {
        "id": "tQLQewOOZyj-"
      },
      "execution_count": null,
      "outputs": []
    },
    {
      "cell_type": "code",
      "source": [
        "len(anomaly_df)"
      ],
      "metadata": {
        "colab": {
          "base_uri": "https://localhost:8080/"
        },
        "id": "NoS21NY8ZPmd",
        "outputId": "b0a568ca-98b6-428d-e5d2-7a8613614b24"
      },
      "execution_count": null,
      "outputs": [
        {
          "output_type": "execute_result",
          "data": {
            "text/plain": [
              "2070"
            ]
          },
          "metadata": {},
          "execution_count": 20
        }
      ]
    },
    {
      "cell_type": "code",
      "source": [
        "from sklearn import svm\n",
        "clf = svm.OneClassSVM(nu=0.1, kernel=\"rbf\", gamma=0.1)\n",
        "X=normal_df\n",
        "X_train, X_test,_ = np.split(X, [round(len(X) * 0.7), len(X)])\n",
        "X_normal=normal_df\n",
        "\n",
        "\n",
        "clf = svm.OneClassSVM(nu=0.1, kernel=\"rbf\", gamma=0.1)\n",
        "clf.fit(X_train)\n",
        "y_pred_train = clf.predict(X_train)\n",
        "y_pred_test = clf.predict(X_test)\n",
        "y_pred_outliers = clf.predict(X_normal)\n",
        "n_error_train = y_pred_train[y_pred_train == -1].size\n",
        "n_error_test = y_pred_test[y_pred_test == -1].size\n",
        "n_error_outliers = y_pred_outliers[y_pred_outliers == 1].size\n",
        "\n",
        "\n"
      ],
      "metadata": {
        "id": "qurx6iTMYLG3"
      },
      "execution_count": 24,
      "outputs": []
    },
    {
      "cell_type": "code",
      "source": [
        "n_error_train"
      ],
      "metadata": {
        "colab": {
          "base_uri": "https://localhost:8080/"
        },
        "id": "iysv-znG8e0i",
        "outputId": "e3f7d131-53f2-4bc3-d85e-d03654ed915b"
      },
      "execution_count": 25,
      "outputs": [
        {
          "output_type": "execute_result",
          "data": {
            "text/plain": [
              "17"
            ]
          },
          "metadata": {},
          "execution_count": 25
        }
      ]
    },
    {
      "cell_type": "code",
      "source": [
        "n_error_test"
      ],
      "metadata": {
        "id": "9U_8GK1K8qDh",
        "colab": {
          "base_uri": "https://localhost:8080/"
        },
        "outputId": "06c4d9cc-7fee-4cbc-a124-aa44632004c3"
      },
      "execution_count": 26,
      "outputs": [
        {
          "output_type": "execute_result",
          "data": {
            "text/plain": [
              "2"
            ]
          },
          "metadata": {},
          "execution_count": 26
        }
      ]
    },
    {
      "cell_type": "code",
      "source": [
        "from sklearn.svm import OneClassSVM\n",
        "from sklearn.metrics import accuracy_score\n",
        "\n",
        "def splitTrainTest(ratio, data, labels):\n",
        "  \n",
        "  x_train, x_test,_ = np.split(data, [round(len(data) * ratio), len(data)])\n",
        "  labels_train, labels_test,_ = np.split(labels, [round(len(labels) * ratio), len(labels)])\n",
        "\n",
        "  return (x_train,labels_train, x_test,labels_test)\n",
        "\n",
        "# Split the dataset into training and testing sets\n",
        "X_train, y_train, X_test, y_test = splitTrainTest(0.7,df, binary_labels)\n",
        "# Create an instance of the OneClassSVM class\n",
        "ocs = OneClassSVM(kernel='rbf', gamma='auto', nu=0.1)\n",
        "\n",
        "# Fit the model to the training data\n",
        "ocs.fit(X_train)\n",
        "\n",
        "# Predict the labels of the testing data\n",
        "y_pred = ocs.predict(X_test)\n",
        "y_test = pd.Series(np.array(y_test)).replace({\"Good\": 1, \"Faulty\": -1})"
      ],
      "metadata": {
        "id": "3VY95S2eXcOn"
      },
      "execution_count": 29,
      "outputs": []
    },
    {
      "cell_type": "code",
      "source": [
        "from sklearn.metrics import classification_report\n",
        "print(classification_report(y_test, y_pred))"
      ],
      "metadata": {
        "id": "stmg38IH8qG4",
        "colab": {
          "base_uri": "https://localhost:8080/"
        },
        "outputId": "bf45a3ea-3311-4648-e6e3-bf0cd9c0a14b"
      },
      "execution_count": 30,
      "outputs": [
        {
          "output_type": "stream",
          "name": "stdout",
          "text": [
            "              precision    recall  f1-score   support\n",
            "\n",
            "          -1       0.50      0.51      0.51       460\n",
            "           1       0.00      0.00      0.00       230\n",
            "\n",
            "    accuracy                           0.34       690\n",
            "   macro avg       0.25      0.25      0.25       690\n",
            "weighted avg       0.34      0.34      0.34       690\n",
            "\n"
          ]
        }
      ]
    }
  ]
}