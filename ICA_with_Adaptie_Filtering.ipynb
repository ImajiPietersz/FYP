{
  "nbformat": 4,
  "nbformat_minor": 0,
  "metadata": {
    "colab": {
      "provenance": [],
      "include_colab_link": true
    },
    "kernelspec": {
      "name": "python3",
      "display_name": "Python 3"
    },
    "language_info": {
      "name": "python"
    }
  },
  "cells": [
    {
      "cell_type": "markdown",
      "metadata": {
        "id": "view-in-github",
        "colab_type": "text"
      },
      "source": [
        "<a href=\"https://colab.research.google.com/github/ImajiPietersz/FYP/blob/main/ICA_with_Adaptie_Filtering.ipynb\" target=\"_parent\"><img src=\"https://colab.research.google.com/assets/colab-badge.svg\" alt=\"Open In Colab\"/></a>"
      ]
    },
    {
      "cell_type": "code",
      "execution_count": 1,
      "metadata": {
        "id": "sw5pkFTUdRUe"
      },
      "outputs": [],
      "source": [
        "# Import libraries\n",
        "import numpy as np\n",
        "import matplotlib.pyplot as plt\n",
        "from scipy import signal\n",
        "from sklearn.decomposition import FastICA, PCA\n",
        "from scipy.io import wavfile\n",
        "import pandas as pd\n",
        "import seaborn as sns\n",
        "\n",
        "# Apply adaptive filtering on S_ica\n",
        "from scipy.signal import lfilter"
      ]
    },
    {
      "cell_type": "code",
      "source": [
        "from google.colab import drive\n",
        "drive.mount('/content/drive')"
      ],
      "metadata": {
        "colab": {
          "base_uri": "https://localhost:8080/"
        },
        "id": "QuwVF3efdZbG",
        "outputId": "ce18d251-05f9-4537-f10a-362d64b3fc95"
      },
      "execution_count": 2,
      "outputs": [
        {
          "output_type": "stream",
          "name": "stdout",
          "text": [
            "Mounted at /content/drive\n"
          ]
        }
      ]
    },
    {
      "cell_type": "code",
      "source": [
        "# Set step size parameter mu for adaptive filtering  \n",
        "mu=0.001\n",
        "DATASET_PATH = '/content/drive/MyDrive/FYP18-machine-vibration-source-separation/ LoRaWAN dataset/interpolated.csv'\n",
        "IMP_COL = ['XOAVelocity', 'XPeakmg', 'XRMSmg', 'XKurtosis',\n",
        "       'XCrestFactor', 'XSkewness', 'XDeviation', 'XPeaktoPeakDisplacement',\n",
        "       'YOAVelocity', 'YPeakmg', 'YRMSmg', 'ZOAVelocity', 'ZPeakmg', 'ZRMSmg', 'target']\n",
        "X_COL = ['XOAVelocity', 'XPeakmg', 'XRMSmg', 'XKurtosis',\n",
        "       'XCrestFactor', 'XSkewness', 'XDeviation', 'XPeaktoPeakDisplacement',\n",
        "       'YOAVelocity', 'YPeakmg', 'YRMSmg', 'ZOAVelocity', 'ZPeakmg', 'ZRMSmg']\n",
        "TAR_COL = 'target'"
      ],
      "metadata": {
        "id": "_kdGa-_CdeA1"
      },
      "execution_count": 22,
      "outputs": []
    },
    {
      "cell_type": "code",
      "source": [
        "df = pd.read_csv(DATASET_PATH)[IMP_COL]"
      ],
      "metadata": {
        "id": "8RqCbRk_diI7"
      },
      "execution_count": 24,
      "outputs": []
    },
    {
      "cell_type": "code",
      "source": [
        "x_data, label = np.asarray(df[X_COL]), np.asarray(df[TAR_COL])"
      ],
      "metadata": {
        "id": "L4J-mKOAdjDd"
      },
      "execution_count": 25,
      "outputs": []
    },
    {
      "cell_type": "code",
      "source": [
        "value,counts = np.unique(label,return_counts=True)"
      ],
      "metadata": {
        "id": "scvNSbxkdi8_"
      },
      "execution_count": 26,
      "outputs": []
    },
    {
      "cell_type": "code",
      "source": [
        "if counts[0] < counts[1]:\n",
        "  x = x_data[label == 1]\n",
        "  x_noisy = x_data[label == 0]\n",
        "  #generating a random set of indices from the array x_data values that correspond to a particular label. \n",
        "  #generating additional indices to balance out the number of instances in each label.\n",
        "  additional_ind = np.random.choice(x_data[label == 0].shape[0],counts[1]-counts[0],replace=False)\n",
        "  x_noisy = np.concatenate([x_noisy,x_data[label == 0][additional_ind]])\n",
        "\n",
        "else:\n",
        "  x = x_data[label == 1]\n",
        "  x_noisy = x_data[label == 0]\n",
        "  additional_ind = np.random.choice(x_data[label == 1].shape[0],counts[0]-counts[1],replace=False)\n",
        "  x = np.concatenate([x,x_data[label == 1][additional_ind]])"
      ],
      "metadata": {
        "id": "yHXRSJrVdi6J"
      },
      "execution_count": 27,
      "outputs": []
    },
    {
      "cell_type": "code",
      "source": [
        "x.shape,x_noisy.shape"
      ],
      "metadata": {
        "colab": {
          "base_uri": "https://localhost:8080/"
        },
        "id": "-nPC5FIedi3T",
        "outputId": "50b69e04-404a-4240-dac1-1b53e60c4747"
      },
      "execution_count": 28,
      "outputs": [
        {
          "output_type": "execute_result",
          "data": {
            "text/plain": [
              "((114653, 14), (114653, 14))"
            ]
          },
          "metadata": {},
          "execution_count": 28
        }
      ]
    },
    {
      "cell_type": "code",
      "source": [
        "x"
      ],
      "metadata": {
        "colab": {
          "base_uri": "https://localhost:8080/"
        },
        "id": "yjapeiyzezTJ",
        "outputId": "480f40d1-c972-498d-a263-0e5299e4518b"
      },
      "execution_count": 29,
      "outputs": [
        {
          "output_type": "execute_result",
          "data": {
            "text/plain": [
              "array([[  8.        ,  14.        ,  10.        , ...,  17.        ,\n",
              "         83.        ,  59.        ],\n",
              "       [  7.99677419,  13.99032258,   9.99354839, ...,  16.98817204,\n",
              "         82.91612903,  58.94086022],\n",
              "       [  7.99354839,  13.98064516,   9.98709677, ...,  16.97634409,\n",
              "         82.83225806,  58.88172043],\n",
              "       ...,\n",
              "       [ 29.73333333,  45.86666667,  32.86666667, ...,  70.26666667,\n",
              "        352.13333333, 249.66666667],\n",
              "       [ 29.86666667,  45.93333333,  32.93333333, ...,  70.13333333,\n",
              "        353.06666667, 250.33333333],\n",
              "       [ 30.        ,  46.        ,  33.        , ...,  70.        ,\n",
              "        354.        , 251.        ]])"
            ]
          },
          "metadata": {},
          "execution_count": 29
        }
      ]
    },
    {
      "cell_type": "code",
      "source": [
        "# Apply ICA on x_noisy\n",
        "ica=FastICA(n_components=2)   # Create an ICA model with two components\n",
        "S_ica=ica.fit_transform(x_noisy)   # Fit and transform x_noisy into two independent components"
      ],
      "metadata": {
        "colab": {
          "base_uri": "https://localhost:8080/"
        },
        "id": "ZfUSeOypdi0o",
        "outputId": "7d6bfdf6-0013-45ba-8bb8-c6d65319f106"
      },
      "execution_count": 30,
      "outputs": [
        {
          "output_type": "stream",
          "name": "stderr",
          "text": [
            "/usr/local/lib/python3.9/dist-packages/sklearn/decomposition/_fastica.py:542: FutureWarning: Starting in v1.3, whiten='unit-variance' will be used by default.\n",
            "  warnings.warn(\n"
          ]
        }
      ]
    },
    {
      "cell_type": "code",
      "source": [
        "# Get estimated mixing matrix A_ica\n",
        "A_ica=ica.mixing_"
      ],
      "metadata": {
        "id": "VBN3MkRHdyoT"
      },
      "execution_count": 31,
      "outputs": []
    },
    {
      "cell_type": "code",
      "source": [
        "def adaptive_filter(x ,d ,mu):    #x->x_noisy, d-> x\n",
        "    # Implement least mean square (LMS) algorithm for adaptive filtering\n",
        "    # x is input signal ,d is desired signal ,mu is step size parameter\n",
        "    # Returns y as output signal and e as error signal\n",
        "   \n",
        "    # Get length of input signal n\n",
        "    n=len(x)\n",
        "\n",
        "    # Initialize weight vector w with zeros\n",
        "    w=np.zeros(n)\n",
        "\n",
        "    # Initialize output vector y with zeros\n",
        "    y=np.zeros(n)\n",
        "\n",
        "    # Initialize error vector e with zeros\n",
        "    e=np.zeros(n)\n",
        "\n",
        "    # Loop over each sample in x\n",
        "    for i in range(n):\n",
        "        # Get i-th sample of x as x_i\n",
        "        x_i=x[i]\n",
        "\n",
        "        # Compute output y_i as w dot x_i\n",
        "        y_i=w.dot(x_i)\n",
        "\n",
        "        # Store y_i in output vector y at index i\n",
        "        y[i]=y_i[i]\n",
        "\n",
        "        # Compute error e_i as d_i minus y_i\n",
        "        e_i=d[i]-y_i\n",
        "\n",
        "        # Store e_i in error vector e at index i\n",
        "        e[i]=e_i[i]\n",
        "\n",
        "        # Update weight vector w as w plus mu times e_i times x_i  \n",
        "        w=w+mu*e_i*x_i\n",
        "   \n",
        "    return y,e"
      ],
      "metadata": {
        "id": "rEKFeaxzdzWB"
      },
      "execution_count": 32,
      "outputs": []
    },
    {
      "cell_type": "code",
      "source": [
        "# Apply adaptive filtering on first component of S_ica using second component as desired signal  \n",
        "y1,e1= adaptive_filter(S_ica[:,0] ,S_ica[:,1] ,mu)\n",
        "# Apply adaptive filtering on second component of S_ica using first component as desired signal  \n",
        "y2,e2=adaptive_filter(S_ica[:,1] ,S_ica[:,0] ,mu)"
      ],
      "metadata": {
        "id": "rbk8rDyjdzTs"
      },
      "execution_count": 33,
      "outputs": []
    },
    {
      "cell_type": "code",
      "source": [
        "# Concatenate filtered components into matrix Y  \n",
        "Y=np.c_[y1,y2]\n",
        "\n",
        "# Reconstruct denoised signal x_denoised by multiplying Y with inverse of A_ica  \n",
        "x_denoised=Y.dot(np.linalg.pinv(A_ica))\n"
      ],
      "metadata": {
        "id": "P0M-YSR0dzQ0"
      },
      "execution_count": 34,
      "outputs": []
    },
    {
      "cell_type": "code",
      "source": [
        "x"
      ],
      "metadata": {
        "colab": {
          "base_uri": "https://localhost:8080/"
        },
        "id": "QHO5TxIWeZnm",
        "outputId": "08e3d545-1556-4ed9-fbd6-b76934d577ad"
      },
      "execution_count": 35,
      "outputs": [
        {
          "output_type": "execute_result",
          "data": {
            "text/plain": [
              "array([[  8.        ,  14.        ,  10.        , ...,  17.        ,\n",
              "         83.        ,  59.        ],\n",
              "       [  7.99677419,  13.99032258,   9.99354839, ...,  16.98817204,\n",
              "         82.91612903,  58.94086022],\n",
              "       [  7.99354839,  13.98064516,   9.98709677, ...,  16.97634409,\n",
              "         82.83225806,  58.88172043],\n",
              "       ...,\n",
              "       [ 29.73333333,  45.86666667,  32.86666667, ...,  70.26666667,\n",
              "        352.13333333, 249.66666667],\n",
              "       [ 29.86666667,  45.93333333,  32.93333333, ...,  70.13333333,\n",
              "        353.06666667, 250.33333333],\n",
              "       [ 30.        ,  46.        ,  33.        , ...,  70.        ,\n",
              "        354.        , 251.        ]])"
            ]
          },
          "metadata": {},
          "execution_count": 35
        }
      ]
    },
    {
      "cell_type": "markdown",
      "source": [
        "consider only XOAVelocity"
      ],
      "metadata": {
        "id": "HASnLq4OeAwJ"
      }
    },
    {
      "cell_type": "code",
      "source": [
        "arr= []\n",
        "for value in x_denoised:\n",
        "  arr.append(value[0])\n"
      ],
      "metadata": {
        "id": "0FACRP-gdzOa"
      },
      "execution_count": 36,
      "outputs": []
    },
    {
      "cell_type": "code",
      "source": [
        "li1 = []\n",
        "for i in x:\n",
        "  li1.append(i[0])"
      ],
      "metadata": {
        "id": "bZ5ltWIqdzLp"
      },
      "execution_count": 37,
      "outputs": []
    },
    {
      "cell_type": "code",
      "source": [
        "li2 = []\n",
        "for i in x_noisy:\n",
        "  li2.append(i[0])"
      ],
      "metadata": {
        "id": "OoD446JBdzI6"
      },
      "execution_count": 38,
      "outputs": []
    },
    {
      "cell_type": "code",
      "source": [
        "# Plot results\n",
        "\n",
        "plt.figure()\n",
        "\n",
        "models=[li1,li2,arr]\n",
        "names=['Pure','Noisy','Denoised']\n",
        "\n",
        "for ii,(model,name) in enumerate(zip(models,names),1):\n",
        "    plt.subplot(3,1,ii)\n",
        "    plt.title(name)\n",
        "    plt.plot(model)\n",
        "\n",
        "plt.subplots_adjust(0.09,0.04,0.94,0.94,0.26,0.46)\n",
        "plt.show()"
      ],
      "metadata": {
        "id": "hICv02w-eh4j",
        "colab": {
          "base_uri": "https://localhost:8080/",
          "height": 515
        },
        "outputId": "8936c000-b0ca-4495-abac-9e09db60ac8e"
      },
      "execution_count": 39,
      "outputs": [
        {
          "output_type": "display_data",
          "data": {
            "text/plain": [
              "<Figure size 640x480 with 3 Axes>"
            ],
            "image/png": "[encoded data removed]"
          },
          "metadata": {}
        }
      ]
    }
  ]
}