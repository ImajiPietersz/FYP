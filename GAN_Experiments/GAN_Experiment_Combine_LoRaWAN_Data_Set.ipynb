{
  "nbformat": 4,
  "nbformat_minor": 0,
  "metadata": {
    "colab": {
      "provenance": [],
      "include_colab_link": true
    },
    "kernelspec": {
      "name": "python3",
      "display_name": "Python 3"
    },
    "language_info": {
      "name": "python"
    }
  },
  "cells": [
    {
      "cell_type": "markdown",
      "metadata": {
        "id": "view-in-github",
        "colab_type": "text"
      },
      "source": [
        "<a href=\"https://colab.research.google.com/github/ImajiPietersz/FYP/blob/main/GAN_Experiments/GAN_Experiment_Combine_LoRaWAN_Data_Set.ipynb\" target=\"_parent\"><img src=\"https://colab.research.google.com/assets/colab-badge.svg\" alt=\"Open In Colab\"/></a>"
      ]
    },
    {
      "cell_type": "code",
      "execution_count": 1,
      "metadata": {
        "colab": {
          "base_uri": "https://localhost:8080/"
        },
        "id": "Pw_ADRRjfYF-",
        "outputId": "31cb30b3-f436-4d8d-c70e-30ebfd3e73ab"
      },
      "outputs": [
        {
          "output_type": "stream",
          "name": "stdout",
          "text": [
            "Mounted at /content/drive\n"
          ]
        }
      ],
      "source": [
        "import matplotlib.pyplot as plt\n",
        "import numpy as np\n",
        "import pandas as pd\n",
        "import tensorflow as tf\n",
        "from tensorflow.keras import layers\n",
        "\n",
        "from google.colab import drive\n",
        "drive.mount('/content/drive')"
      ]
    },
    {
      "cell_type": "code",
      "source": [
        "DATASET_PATH = '/content/drive/MyDrive/LoRaWANdataset/machine2WithNoise.csv'\n",
        "IMP_COL = ['XOAVelocity', 'XPeakmg', 'XRMSmg', 'XKurtosis',\n",
        "       'XCrestFactor', 'XSkewness', 'XDeviation', 'XPeaktoPeakDisplacement',\n",
        "       'YOAVelocity', 'YPeakmg', 'YRMSmg', 'ZOAVelocity', 'ZPeakmg', 'ZRMSmg','converted', 'target']\n",
        "X_COL = ['XOAVelocity', 'XPeakmg', 'XRMSmg', 'XKurtosis',\n",
        "       'XCrestFactor', 'XSkewness', 'XDeviation', 'XPeaktoPeakDisplacement',\n",
        "       'YOAVelocity', 'YPeakmg', 'YRMSmg', 'ZOAVelocity', 'ZPeakmg','converted', 'ZRMSmg']\n",
        "TAR_COL = 'target'"
      ],
      "metadata": {
        "id": "B5aUw0kOfv8h"
      },
      "execution_count": 164,
      "outputs": []
    },
    {
      "cell_type": "code",
      "source": [
        "df = pd.read_csv(DATASET_PATH)[IMP_COL]\n",
        "df"
      ],
      "metadata": {
        "id": "gHVIiFxIf1go",
        "colab": {
          "base_uri": "https://localhost:8080/",
          "height": 423
        },
        "outputId": "5a1b531c-dd5e-4f47-c86e-e2704c3e9f1c"
      },
      "execution_count": 146,
      "outputs": [
        {
          "output_type": "execute_result",
          "data": {
            "text/plain": [
              "      XOAVelocity  XPeakmg  XRMSmg  XKurtosis  XCrestFactor  XSkewness  \\\n",
              "0               7       18      13         -5            38         -4   \n",
              "1              67      183     130         22           197          8   \n",
              "2              20       48      34         -3           203          1   \n",
              "3             218      305     216        -36           132         -5   \n",
              "4               9       18      13          3          1039         -1   \n",
              "...           ...      ...     ...        ...           ...        ...   \n",
              "3841           58       91      65        -15           925         -1   \n",
              "3842           30       76      54         -5          1201          0   \n",
              "3843           63      169     120        512          3043          5   \n",
              "3844          170      162     115         68           936          0   \n",
              "3845           46       76      54          0           409          0   \n",
              "\n",
              "      XDeviation  XPeaktoPeakDisplacement  YOAVelocity  YPeakmg  YRMSmg  \\\n",
              "0              8                        1            8       11       8   \n",
              "1            531                        6           38      137      97   \n",
              "2            204                        2           18       36      26   \n",
              "3            291                       23          232      306     217   \n",
              "4              8                        1            9       12       9   \n",
              "...          ...                      ...          ...      ...     ...   \n",
              "3841          26                        4           58       77      55   \n",
              "3842         373                        3           36       72      51   \n",
              "3843         583                        8          186      422     299   \n",
              "3844         227                       22          265      214     152   \n",
              "3845          25                        4           50       67      48   \n",
              "\n",
              "      ZOAVelocity  ZPeakmg  ZRMSmg         converted  target  \n",
              "0              20      156     111  2022-12-12 05:13       0  \n",
              "1              85      390     276  2022-12-12 05:19       0  \n",
              "2              63      216     153  2022-12-12 05:19       0  \n",
              "3             132      117      83  2022-12-12 05:19       0  \n",
              "4              16      107      76  2022-12-12 05:43       0  \n",
              "...           ...      ...     ...               ...     ...  \n",
              "3841          157      871     616  2023-05-04 04:43       0  \n",
              "3842          101      265     188  2023-05-04 04:48       0  \n",
              "3843          188      405     287  2023-05-04 04:50       0  \n",
              "3844          460      237     168  2023-05-04 04:50       0  \n",
              "3845          171      743     526  2023-05-04 04:58       0  \n",
              "\n",
              "[3846 rows x 16 columns]"
            ],
            "text/html": [
              "\n",
              "  <div id=\"df-b639f460-db67-4579-ac12-13a8bf3ab672\">\n",
              "    <div class=\"colab-df-container\">\n",
              "      <div>\n",
              "<style scoped>\n",
              "    .dataframe tbody tr th:only-of-type {\n",
              "        vertical-align: middle;\n",
              "    }\n",
              "\n",
              "    .dataframe tbody tr th {\n",
              "        vertical-align: top;\n",
              "    }\n",
              "\n",
              "    .dataframe thead th {\n",
              "        text-align: right;\n",
              "    }\n",
              "</style>\n",
              "<table border=\"1\" class=\"dataframe\">\n",
              "  <thead>\n",
              "    <tr style=\"text-align: right;\">\n",
              "      <th></th>\n",
              "      <th>XOAVelocity</th>\n",
              "      <th>XPeakmg</th>\n",
              "      <th>XRMSmg</th>\n",
              "      <th>XKurtosis</th>\n",
              "      <th>XCrestFactor</th>\n",
              "      <th>XSkewness</th>\n",
              "      <th>XDeviation</th>\n",
              "      <th>XPeaktoPeakDisplacement</th>\n",
              "      <th>YOAVelocity</th>\n",
              "      <th>YPeakmg</th>\n",
              "      <th>YRMSmg</th>\n",
              "      <th>ZOAVelocity</th>\n",
              "      <th>ZPeakmg</th>\n",
              "      <th>ZRMSmg</th>\n",
              "      <th>converted</th>\n",
              "      <th>target</th>\n",
              "    </tr>\n",
              "  </thead>\n",
              "  <tbody>\n",
              "    <tr>\n",
              "      <th>0</th>\n",
              "      <td>7</td>\n",
              "      <td>18</td>\n",
              "      <td>13</td>\n",
              "      <td>-5</td>\n",
              "      <td>38</td>\n",
              "      <td>-4</td>\n",
              "      <td>8</td>\n",
              "      <td>1</td>\n",
              "      <td>8</td>\n",
              "      <td>11</td>\n",
              "      <td>8</td>\n",
              "      <td>20</td>\n",
              "      <td>156</td>\n",
              "      <td>111</td>\n",
              "      <td>2022-12-12 05:13</td>\n",
              "      <td>0</td>\n",
              "    </tr>\n",
              "    <tr>\n",
              "      <th>1</th>\n",
              "      <td>67</td>\n",
              "      <td>183</td>\n",
              "      <td>130</td>\n",
              "      <td>22</td>\n",
              "      <td>197</td>\n",
              "      <td>8</td>\n",
              "      <td>531</td>\n",
              "      <td>6</td>\n",
              "      <td>38</td>\n",
              "      <td>137</td>\n",
              "      <td>97</td>\n",
              "      <td>85</td>\n",
              "      <td>390</td>\n",
              "      <td>276</td>\n",
              "      <td>2022-12-12 05:19</td>\n",
              "      <td>0</td>\n",
              "    </tr>\n",
              "    <tr>\n",
              "      <th>2</th>\n",
              "      <td>20</td>\n",
              "      <td>48</td>\n",
              "      <td>34</td>\n",
              "      <td>-3</td>\n",
              "      <td>203</td>\n",
              "      <td>1</td>\n",
              "      <td>204</td>\n",
              "      <td>2</td>\n",
              "      <td>18</td>\n",
              "      <td>36</td>\n",
              "      <td>26</td>\n",
              "      <td>63</td>\n",
              "      <td>216</td>\n",
              "      <td>153</td>\n",
              "      <td>2022-12-12 05:19</td>\n",
              "      <td>0</td>\n",
              "    </tr>\n",
              "    <tr>\n",
              "      <th>3</th>\n",
              "      <td>218</td>\n",
              "      <td>305</td>\n",
              "      <td>216</td>\n",
              "      <td>-36</td>\n",
              "      <td>132</td>\n",
              "      <td>-5</td>\n",
              "      <td>291</td>\n",
              "      <td>23</td>\n",
              "      <td>232</td>\n",
              "      <td>306</td>\n",
              "      <td>217</td>\n",
              "      <td>132</td>\n",
              "      <td>117</td>\n",
              "      <td>83</td>\n",
              "      <td>2022-12-12 05:19</td>\n",
              "      <td>0</td>\n",
              "    </tr>\n",
              "    <tr>\n",
              "      <th>4</th>\n",
              "      <td>9</td>\n",
              "      <td>18</td>\n",
              "      <td>13</td>\n",
              "      <td>3</td>\n",
              "      <td>1039</td>\n",
              "      <td>-1</td>\n",
              "      <td>8</td>\n",
              "      <td>1</td>\n",
              "      <td>9</td>\n",
              "      <td>12</td>\n",
              "      <td>9</td>\n",
              "      <td>16</td>\n",
              "      <td>107</td>\n",
              "      <td>76</td>\n",
              "      <td>2022-12-12 05:43</td>\n",
              "      <td>0</td>\n",
              "    </tr>\n",
              "    <tr>\n",
              "      <th>...</th>\n",
              "      <td>...</td>\n",
              "      <td>...</td>\n",
              "      <td>...</td>\n",
              "      <td>...</td>\n",
              "      <td>...</td>\n",
              "      <td>...</td>\n",
              "      <td>...</td>\n",
              "      <td>...</td>\n",
              "      <td>...</td>\n",
              "      <td>...</td>\n",
              "      <td>...</td>\n",
              "      <td>...</td>\n",
              "      <td>...</td>\n",
              "      <td>...</td>\n",
              "      <td>...</td>\n",
              "      <td>...</td>\n",
              "    </tr>\n",
              "    <tr>\n",
              "      <th>3841</th>\n",
              "      <td>58</td>\n",
              "      <td>91</td>\n",
              "      <td>65</td>\n",
              "      <td>-15</td>\n",
              "      <td>925</td>\n",
              "      <td>-1</td>\n",
              "      <td>26</td>\n",
              "      <td>4</td>\n",
              "      <td>58</td>\n",
              "      <td>77</td>\n",
              "      <td>55</td>\n",
              "      <td>157</td>\n",
              "      <td>871</td>\n",
              "      <td>616</td>\n",
              "      <td>2023-05-04 04:43</td>\n",
              "      <td>0</td>\n",
              "    </tr>\n",
              "    <tr>\n",
              "      <th>3842</th>\n",
              "      <td>30</td>\n",
              "      <td>76</td>\n",
              "      <td>54</td>\n",
              "      <td>-5</td>\n",
              "      <td>1201</td>\n",
              "      <td>0</td>\n",
              "      <td>373</td>\n",
              "      <td>3</td>\n",
              "      <td>36</td>\n",
              "      <td>72</td>\n",
              "      <td>51</td>\n",
              "      <td>101</td>\n",
              "      <td>265</td>\n",
              "      <td>188</td>\n",
              "      <td>2023-05-04 04:48</td>\n",
              "      <td>0</td>\n",
              "    </tr>\n",
              "    <tr>\n",
              "      <th>3843</th>\n",
              "      <td>63</td>\n",
              "      <td>169</td>\n",
              "      <td>120</td>\n",
              "      <td>512</td>\n",
              "      <td>3043</td>\n",
              "      <td>5</td>\n",
              "      <td>583</td>\n",
              "      <td>8</td>\n",
              "      <td>186</td>\n",
              "      <td>422</td>\n",
              "      <td>299</td>\n",
              "      <td>188</td>\n",
              "      <td>405</td>\n",
              "      <td>287</td>\n",
              "      <td>2023-05-04 04:50</td>\n",
              "      <td>0</td>\n",
              "    </tr>\n",
              "    <tr>\n",
              "      <th>3844</th>\n",
              "      <td>170</td>\n",
              "      <td>162</td>\n",
              "      <td>115</td>\n",
              "      <td>68</td>\n",
              "      <td>936</td>\n",
              "      <td>0</td>\n",
              "      <td>227</td>\n",
              "      <td>22</td>\n",
              "      <td>265</td>\n",
              "      <td>214</td>\n",
              "      <td>152</td>\n",
              "      <td>460</td>\n",
              "      <td>237</td>\n",
              "      <td>168</td>\n",
              "      <td>2023-05-04 04:50</td>\n",
              "      <td>0</td>\n",
              "    </tr>\n",
              "    <tr>\n",
              "      <th>3845</th>\n",
              "      <td>46</td>\n",
              "      <td>76</td>\n",
              "      <td>54</td>\n",
              "      <td>0</td>\n",
              "      <td>409</td>\n",
              "      <td>0</td>\n",
              "      <td>25</td>\n",
              "      <td>4</td>\n",
              "      <td>50</td>\n",
              "      <td>67</td>\n",
              "      <td>48</td>\n",
              "      <td>171</td>\n",
              "      <td>743</td>\n",
              "      <td>526</td>\n",
              "      <td>2023-05-04 04:58</td>\n",
              "      <td>0</td>\n",
              "    </tr>\n",
              "  </tbody>\n",
              "</table>\n",
              "<p>3846 rows × 16 columns</p>\n",
              "</div>\n",
              "      <button class=\"colab-df-convert\" onclick=\"convertToInteractive('df-b639f460-db67-4579-ac12-13a8bf3ab672')\"\n",
              "              title=\"Convert this dataframe to an interactive table.\"\n",
              "              style=\"display:none;\">\n",
              "        \n",
              "  <svg xmlns=\"http://www.w3.org/2000/svg\" height=\"24px\"viewBox=\"0 0 24 24\"\n",
              "       width=\"24px\">\n",
              "    <path d=\"M0 0h24v24H0V0z\" fill=\"none\"/>\n",
              "    <path d=\"M18.56 5.44l.94 2.06.94-2.06 2.06-.94-2.06-.94-.94-2.06-.94 2.06-2.06.94zm-11 1L8.5 8.5l.94-2.06 2.06-.94-2.06-.94L8.5 2.5l-.94 2.06-2.06.94zm10 10l.94 2.06.94-2.06 2.06-.94-2.06-.94-.94-2.06-.94 2.06-2.06.94z\"/><path d=\"M17.41 7.96l-1.37-1.37c-.4-.4-.92-.59-1.43-.59-.52 0-1.04.2-1.43.59L10.3 9.45l-7.72 7.72c-.78.78-.78 2.05 0 2.83L4 21.41c.39.39.9.59 1.41.59.51 0 1.02-.2 1.41-.59l7.78-7.78 2.81-2.81c.8-.78.8-2.07 0-2.86zM5.41 20L4 18.59l7.72-7.72 1.47 1.35L5.41 20z\"/>\n",
              "  </svg>\n",
              "      </button>\n",
              "      \n",
              "  <style>\n",
              "    .colab-df-container {\n",
              "      display:flex;\n",
              "      flex-wrap:wrap;\n",
              "      gap: 12px;\n",
              "    }\n",
              "\n",
              "    .colab-df-convert {\n",
              "      background-color: #E8F0FE;\n",
              "      border: none;\n",
              "      border-radius: 50%;\n",
              "      cursor: pointer;\n",
              "      display: none;\n",
              "      fill: #1967D2;\n",
              "      height: 32px;\n",
              "      padding: 0 0 0 0;\n",
              "      width: 32px;\n",
              "    }\n",
              "\n",
              "    .colab-df-convert:hover {\n",
              "      background-color: #E2EBFA;\n",
              "      box-shadow: 0px 1px 2px rgba(60, 64, 67, 0.3), 0px 1px 3px 1px rgba(60, 64, 67, 0.15);\n",
              "      fill: #174EA6;\n",
              "    }\n",
              "\n",
              "    [theme=dark] .colab-df-convert {\n",
              "      background-color: #3B4455;\n",
              "      fill: #D2E3FC;\n",
              "    }\n",
              "\n",
              "    [theme=dark] .colab-df-convert:hover {\n",
              "      background-color: #434B5C;\n",
              "      box-shadow: 0px 1px 3px 1px rgba(0, 0, 0, 0.15);\n",
              "      filter: drop-shadow(0px 1px 2px rgba(0, 0, 0, 0.3));\n",
              "      fill: #FFFFFF;\n",
              "    }\n",
              "  </style>\n",
              "\n",
              "      <script>\n",
              "        const buttonEl =\n",
              "          document.querySelector('#df-b639f460-db67-4579-ac12-13a8bf3ab672 button.colab-df-convert');\n",
              "        buttonEl.style.display =\n",
              "          google.colab.kernel.accessAllowed ? 'block' : 'none';\n",
              "\n",
              "        async function convertToInteractive(key) {\n",
              "          const element = document.querySelector('#df-b639f460-db67-4579-ac12-13a8bf3ab672');\n",
              "          const dataTable =\n",
              "            await google.colab.kernel.invokeFunction('convertToInteractive',\n",
              "                                                     [key], {});\n",
              "          if (!dataTable) return;\n",
              "\n",
              "          const docLinkHtml = 'Like what you see? Visit the ' +\n",
              "            '<a target=\"_blank\" href=https://colab.research.google.com/notebooks/data_table.ipynb>data table notebook</a>'\n",
              "            + ' to learn more about interactive tables.';\n",
              "          element.innerHTML = '';\n",
              "          dataTable['output_type'] = 'display_data';\n",
              "          await google.colab.output.renderOutput(dataTable, element);\n",
              "          const docLink = document.createElement('div');\n",
              "          docLink.innerHTML = docLinkHtml;\n",
              "          element.appendChild(docLink);\n",
              "        }\n",
              "      </script>\n",
              "    </div>\n",
              "  </div>\n",
              "  "
            ]
          },
          "metadata": {},
          "execution_count": 146
        }
      ]
    },
    {
      "cell_type": "code",
      "source": [
        "df = df. sort_values(by=[\"converted\"])\n",
        "df = df.reset_index(drop=True)\n",
        "\n",
        "df = df.drop(['converted'], axis=1)\n",
        "df['target2'] = df['target'].apply(lambda x: 1 if x == 0 else 0)\n",
        "df"
      ],
      "metadata": {
        "colab": {
          "base_uri": "https://localhost:8080/",
          "height": 423
        },
        "id": "xD5ZC1kDFdxX",
        "outputId": "b2ffcf05-9eea-4546-975f-ad33f6713dd6"
      },
      "execution_count": 147,
      "outputs": [
        {
          "output_type": "execute_result",
          "data": {
            "text/plain": [
              "      XOAVelocity  XPeakmg  XRMSmg  XKurtosis  XCrestFactor  XSkewness  \\\n",
              "0               8       14      10        -12          2400          0   \n",
              "1               8       14      10        -12          2400          0   \n",
              "2               8       14      10        -12          2400          0   \n",
              "3             221      147     104         82           119        -11   \n",
              "4              88      231     164         33            17         -1   \n",
              "...           ...      ...     ...        ...           ...        ...   \n",
              "3841           58       91      65        -15           925         -1   \n",
              "3842           30       76      54         -5          1201          0   \n",
              "3843          170      162     115         68           936          0   \n",
              "3844           63      169     120        512          3043          5   \n",
              "3845           46       76      54          0           409          0   \n",
              "\n",
              "      XDeviation  XPeaktoPeakDisplacement  YOAVelocity  YPeakmg  YRMSmg  \\\n",
              "0              7                        1            8       11       8   \n",
              "1              7                        1            8       11       8   \n",
              "2              7                        1            8       11       8   \n",
              "3            334                       23          261      179     127   \n",
              "4            518                        9           55      165     117   \n",
              "...          ...                      ...          ...      ...     ...   \n",
              "3841          26                        4           58       77      55   \n",
              "3842         373                        3           36       72      51   \n",
              "3843         227                       22          265      214     152   \n",
              "3844         583                        8          186      422     299   \n",
              "3845          25                        4           50       67      48   \n",
              "\n",
              "      ZOAVelocity  ZPeakmg  ZRMSmg  target  target2  \n",
              "0              17       83      59       1        0  \n",
              "1              17       83      59       1        0  \n",
              "2              17       83      59       1        0  \n",
              "3              64       91      65       1        0  \n",
              "4             139      725     513       1        0  \n",
              "...           ...      ...     ...     ...      ...  \n",
              "3841          157      871     616       0        1  \n",
              "3842          101      265     188       0        1  \n",
              "3843          460      237     168       0        1  \n",
              "3844          188      405     287       0        1  \n",
              "3845          171      743     526       0        1  \n",
              "\n",
              "[3846 rows x 16 columns]"
            ],
            "text/html": [
              "\n",
              "  <div id=\"df-533aab02-773b-4f94-b1a3-0d988b4afd23\">\n",
              "    <div class=\"colab-df-container\">\n",
              "      <div>\n",
              "<style scoped>\n",
              "    .dataframe tbody tr th:only-of-type {\n",
              "        vertical-align: middle;\n",
              "    }\n",
              "\n",
              "    .dataframe tbody tr th {\n",
              "        vertical-align: top;\n",
              "    }\n",
              "\n",
              "    .dataframe thead th {\n",
              "        text-align: right;\n",
              "    }\n",
              "</style>\n",
              "<table border=\"1\" class=\"dataframe\">\n",
              "  <thead>\n",
              "    <tr style=\"text-align: right;\">\n",
              "      <th></th>\n",
              "      <th>XOAVelocity</th>\n",
              "      <th>XPeakmg</th>\n",
              "      <th>XRMSmg</th>\n",
              "      <th>XKurtosis</th>\n",
              "      <th>XCrestFactor</th>\n",
              "      <th>XSkewness</th>\n",
              "      <th>XDeviation</th>\n",
              "      <th>XPeaktoPeakDisplacement</th>\n",
              "      <th>YOAVelocity</th>\n",
              "      <th>YPeakmg</th>\n",
              "      <th>YRMSmg</th>\n",
              "      <th>ZOAVelocity</th>\n",
              "      <th>ZPeakmg</th>\n",
              "      <th>ZRMSmg</th>\n",
              "      <th>target</th>\n",
              "      <th>target2</th>\n",
              "    </tr>\n",
              "  </thead>\n",
              "  <tbody>\n",
              "    <tr>\n",
              "      <th>0</th>\n",
              "      <td>8</td>\n",
              "      <td>14</td>\n",
              "      <td>10</td>\n",
              "      <td>-12</td>\n",
              "      <td>2400</td>\n",
              "      <td>0</td>\n",
              "      <td>7</td>\n",
              "      <td>1</td>\n",
              "      <td>8</td>\n",
              "      <td>11</td>\n",
              "      <td>8</td>\n",
              "      <td>17</td>\n",
              "      <td>83</td>\n",
              "      <td>59</td>\n",
              "      <td>1</td>\n",
              "      <td>0</td>\n",
              "    </tr>\n",
              "    <tr>\n",
              "      <th>1</th>\n",
              "      <td>8</td>\n",
              "      <td>14</td>\n",
              "      <td>10</td>\n",
              "      <td>-12</td>\n",
              "      <td>2400</td>\n",
              "      <td>0</td>\n",
              "      <td>7</td>\n",
              "      <td>1</td>\n",
              "      <td>8</td>\n",
              "      <td>11</td>\n",
              "      <td>8</td>\n",
              "      <td>17</td>\n",
              "      <td>83</td>\n",
              "      <td>59</td>\n",
              "      <td>1</td>\n",
              "      <td>0</td>\n",
              "    </tr>\n",
              "    <tr>\n",
              "      <th>2</th>\n",
              "      <td>8</td>\n",
              "      <td>14</td>\n",
              "      <td>10</td>\n",
              "      <td>-12</td>\n",
              "      <td>2400</td>\n",
              "      <td>0</td>\n",
              "      <td>7</td>\n",
              "      <td>1</td>\n",
              "      <td>8</td>\n",
              "      <td>11</td>\n",
              "      <td>8</td>\n",
              "      <td>17</td>\n",
              "      <td>83</td>\n",
              "      <td>59</td>\n",
              "      <td>1</td>\n",
              "      <td>0</td>\n",
              "    </tr>\n",
              "    <tr>\n",
              "      <th>3</th>\n",
              "      <td>221</td>\n",
              "      <td>147</td>\n",
              "      <td>104</td>\n",
              "      <td>82</td>\n",
              "      <td>119</td>\n",
              "      <td>-11</td>\n",
              "      <td>334</td>\n",
              "      <td>23</td>\n",
              "      <td>261</td>\n",
              "      <td>179</td>\n",
              "      <td>127</td>\n",
              "      <td>64</td>\n",
              "      <td>91</td>\n",
              "      <td>65</td>\n",
              "      <td>1</td>\n",
              "      <td>0</td>\n",
              "    </tr>\n",
              "    <tr>\n",
              "      <th>4</th>\n",
              "      <td>88</td>\n",
              "      <td>231</td>\n",
              "      <td>164</td>\n",
              "      <td>33</td>\n",
              "      <td>17</td>\n",
              "      <td>-1</td>\n",
              "      <td>518</td>\n",
              "      <td>9</td>\n",
              "      <td>55</td>\n",
              "      <td>165</td>\n",
              "      <td>117</td>\n",
              "      <td>139</td>\n",
              "      <td>725</td>\n",
              "      <td>513</td>\n",
              "      <td>1</td>\n",
              "      <td>0</td>\n",
              "    </tr>\n",
              "    <tr>\n",
              "      <th>...</th>\n",
              "      <td>...</td>\n",
              "      <td>...</td>\n",
              "      <td>...</td>\n",
              "      <td>...</td>\n",
              "      <td>...</td>\n",
              "      <td>...</td>\n",
              "      <td>...</td>\n",
              "      <td>...</td>\n",
              "      <td>...</td>\n",
              "      <td>...</td>\n",
              "      <td>...</td>\n",
              "      <td>...</td>\n",
              "      <td>...</td>\n",
              "      <td>...</td>\n",
              "      <td>...</td>\n",
              "      <td>...</td>\n",
              "    </tr>\n",
              "    <tr>\n",
              "      <th>3841</th>\n",
              "      <td>58</td>\n",
              "      <td>91</td>\n",
              "      <td>65</td>\n",
              "      <td>-15</td>\n",
              "      <td>925</td>\n",
              "      <td>-1</td>\n",
              "      <td>26</td>\n",
              "      <td>4</td>\n",
              "      <td>58</td>\n",
              "      <td>77</td>\n",
              "      <td>55</td>\n",
              "      <td>157</td>\n",
              "      <td>871</td>\n",
              "      <td>616</td>\n",
              "      <td>0</td>\n",
              "      <td>1</td>\n",
              "    </tr>\n",
              "    <tr>\n",
              "      <th>3842</th>\n",
              "      <td>30</td>\n",
              "      <td>76</td>\n",
              "      <td>54</td>\n",
              "      <td>-5</td>\n",
              "      <td>1201</td>\n",
              "      <td>0</td>\n",
              "      <td>373</td>\n",
              "      <td>3</td>\n",
              "      <td>36</td>\n",
              "      <td>72</td>\n",
              "      <td>51</td>\n",
              "      <td>101</td>\n",
              "      <td>265</td>\n",
              "      <td>188</td>\n",
              "      <td>0</td>\n",
              "      <td>1</td>\n",
              "    </tr>\n",
              "    <tr>\n",
              "      <th>3843</th>\n",
              "      <td>170</td>\n",
              "      <td>162</td>\n",
              "      <td>115</td>\n",
              "      <td>68</td>\n",
              "      <td>936</td>\n",
              "      <td>0</td>\n",
              "      <td>227</td>\n",
              "      <td>22</td>\n",
              "      <td>265</td>\n",
              "      <td>214</td>\n",
              "      <td>152</td>\n",
              "      <td>460</td>\n",
              "      <td>237</td>\n",
              "      <td>168</td>\n",
              "      <td>0</td>\n",
              "      <td>1</td>\n",
              "    </tr>\n",
              "    <tr>\n",
              "      <th>3844</th>\n",
              "      <td>63</td>\n",
              "      <td>169</td>\n",
              "      <td>120</td>\n",
              "      <td>512</td>\n",
              "      <td>3043</td>\n",
              "      <td>5</td>\n",
              "      <td>583</td>\n",
              "      <td>8</td>\n",
              "      <td>186</td>\n",
              "      <td>422</td>\n",
              "      <td>299</td>\n",
              "      <td>188</td>\n",
              "      <td>405</td>\n",
              "      <td>287</td>\n",
              "      <td>0</td>\n",
              "      <td>1</td>\n",
              "    </tr>\n",
              "    <tr>\n",
              "      <th>3845</th>\n",
              "      <td>46</td>\n",
              "      <td>76</td>\n",
              "      <td>54</td>\n",
              "      <td>0</td>\n",
              "      <td>409</td>\n",
              "      <td>0</td>\n",
              "      <td>25</td>\n",
              "      <td>4</td>\n",
              "      <td>50</td>\n",
              "      <td>67</td>\n",
              "      <td>48</td>\n",
              "      <td>171</td>\n",
              "      <td>743</td>\n",
              "      <td>526</td>\n",
              "      <td>0</td>\n",
              "      <td>1</td>\n",
              "    </tr>\n",
              "  </tbody>\n",
              "</table>\n",
              "<p>3846 rows × 16 columns</p>\n",
              "</div>\n",
              "      <button class=\"colab-df-convert\" onclick=\"convertToInteractive('df-533aab02-773b-4f94-b1a3-0d988b4afd23')\"\n",
              "              title=\"Convert this dataframe to an interactive table.\"\n",
              "              style=\"display:none;\">\n",
              "        \n",
              "  <svg xmlns=\"http://www.w3.org/2000/svg\" height=\"24px\"viewBox=\"0 0 24 24\"\n",
              "       width=\"24px\">\n",
              "    <path d=\"M0 0h24v24H0V0z\" fill=\"none\"/>\n",
              "    <path d=\"M18.56 5.44l.94 2.06.94-2.06 2.06-.94-2.06-.94-.94-2.06-.94 2.06-2.06.94zm-11 1L8.5 8.5l.94-2.06 2.06-.94-2.06-.94L8.5 2.5l-.94 2.06-2.06.94zm10 10l.94 2.06.94-2.06 2.06-.94-2.06-.94-.94-2.06-.94 2.06-2.06.94z\"/><path d=\"M17.41 7.96l-1.37-1.37c-.4-.4-.92-.59-1.43-.59-.52 0-1.04.2-1.43.59L10.3 9.45l-7.72 7.72c-.78.78-.78 2.05 0 2.83L4 21.41c.39.39.9.59 1.41.59.51 0 1.02-.2 1.41-.59l7.78-7.78 2.81-2.81c.8-.78.8-2.07 0-2.86zM5.41 20L4 18.59l7.72-7.72 1.47 1.35L5.41 20z\"/>\n",
              "  </svg>\n",
              "      </button>\n",
              "      \n",
              "  <style>\n",
              "    .colab-df-container {\n",
              "      display:flex;\n",
              "      flex-wrap:wrap;\n",
              "      gap: 12px;\n",
              "    }\n",
              "\n",
              "    .colab-df-convert {\n",
              "      background-color: #E8F0FE;\n",
              "      border: none;\n",
              "      border-radius: 50%;\n",
              "      cursor: pointer;\n",
              "      display: none;\n",
              "      fill: #1967D2;\n",
              "      height: 32px;\n",
              "      padding: 0 0 0 0;\n",
              "      width: 32px;\n",
              "    }\n",
              "\n",
              "    .colab-df-convert:hover {\n",
              "      background-color: #E2EBFA;\n",
              "      box-shadow: 0px 1px 2px rgba(60, 64, 67, 0.3), 0px 1px 3px 1px rgba(60, 64, 67, 0.15);\n",
              "      fill: #174EA6;\n",
              "    }\n",
              "\n",
              "    [theme=dark] .colab-df-convert {\n",
              "      background-color: #3B4455;\n",
              "      fill: #D2E3FC;\n",
              "    }\n",
              "\n",
              "    [theme=dark] .colab-df-convert:hover {\n",
              "      background-color: #434B5C;\n",
              "      box-shadow: 0px 1px 3px 1px rgba(0, 0, 0, 0.15);\n",
              "      filter: drop-shadow(0px 1px 2px rgba(0, 0, 0, 0.3));\n",
              "      fill: #FFFFFF;\n",
              "    }\n",
              "  </style>\n",
              "\n",
              "      <script>\n",
              "        const buttonEl =\n",
              "          document.querySelector('#df-533aab02-773b-4f94-b1a3-0d988b4afd23 button.colab-df-convert');\n",
              "        buttonEl.style.display =\n",
              "          google.colab.kernel.accessAllowed ? 'block' : 'none';\n",
              "\n",
              "        async function convertToInteractive(key) {\n",
              "          const element = document.querySelector('#df-533aab02-773b-4f94-b1a3-0d988b4afd23');\n",
              "          const dataTable =\n",
              "            await google.colab.kernel.invokeFunction('convertToInteractive',\n",
              "                                                     [key], {});\n",
              "          if (!dataTable) return;\n",
              "\n",
              "          const docLinkHtml = 'Like what you see? Visit the ' +\n",
              "            '<a target=\"_blank\" href=https://colab.research.google.com/notebooks/data_table.ipynb>data table notebook</a>'\n",
              "            + ' to learn more about interactive tables.';\n",
              "          element.innerHTML = '';\n",
              "          dataTable['output_type'] = 'display_data';\n",
              "          await google.colab.output.renderOutput(dataTable, element);\n",
              "          const docLink = document.createElement('div');\n",
              "          docLink.innerHTML = docLinkHtml;\n",
              "          element.appendChild(docLink);\n",
              "        }\n",
              "      </script>\n",
              "    </div>\n",
              "  </div>\n",
              "  "
            ]
          },
          "metadata": {},
          "execution_count": 147
        }
      ]
    },
    {
      "cell_type": "code",
      "source": [
        "target_counts = df['target'].value_counts()\n",
        "\n",
        "# Create a bar chart of the counts\n",
        "target_counts.plot.bar()\n",
        "\n",
        "# Add labels and title to the chart\n",
        "plt.title('Count of 1s and 0s')\n",
        "plt.xlabel('Target Value')\n",
        "plt.ylabel('Count')\n",
        "\n",
        "# Display the chart\n",
        "plt.show()\n",
        "print(target_counts)"
      ],
      "metadata": {
        "colab": {
          "base_uri": "https://localhost:8080/",
          "height": 519
        },
        "id": "_oSbjzYzEtqC",
        "outputId": "6af046fb-4120-4d25-8038-e39b2c5026b3"
      },
      "execution_count": 148,
      "outputs": [
        {
          "output_type": "display_data",
          "data": {
            "text/plain": [
              "<Figure size 640x480 with 1 Axes>"
            ],
            "image/png": "[encoded data removed]"
          },
          "metadata": {}
        },
        {
          "output_type": "stream",
          "name": "stdout",
          "text": [
            "1    2529\n",
            "0    1317\n",
            "Name: target, dtype: int64\n"
          ]
        }
      ]
    },
    {
      "cell_type": "code",
      "source": [
        "df1 = df.drop(['XCrestFactor','ZPeakmg','ZRMSmg'], axis=1)\n",
        "df1 = df[['XOAVelocity','target']]\n",
        "df1.target -= 1\n",
        "df1.target *= 40\n",
        "plt.figure(figsize=(25,10)) \n",
        "plt.plot(df1)\n",
        "plt.legend(df1.columns)\n",
        "plt.show()"
      ],
      "metadata": {
        "colab": {
          "base_uri": "https://localhost:8080/",
          "height": 872
        },
        "id": "Y5zAGfrNf3eA",
        "outputId": "1ac47f12-fcd0-4094-c1ee-12d70a77ce20"
      },
      "execution_count": 149,
      "outputs": [
        {
          "output_type": "stream",
          "name": "stderr",
          "text": [
            "<ipython-input-149-2d366cf5db0b>:3: SettingWithCopyWarning: \n",
            "A value is trying to be set on a copy of a slice from a DataFrame.\n",
            "Try using .loc[row_indexer,col_indexer] = value instead\n",
            "\n",
            "See the caveats in the documentation: https://pandas.pydata.org/pandas-docs/stable/user_guide/indexing.html#returning-a-view-versus-a-copy\n",
            "  df1.target -= 1\n",
            "<ipython-input-149-2d366cf5db0b>:4: SettingWithCopyWarning: \n",
            "A value is trying to be set on a copy of a slice from a DataFrame.\n",
            "Try using .loc[row_indexer,col_indexer] = value instead\n",
            "\n",
            "See the caveats in the documentation: https://pandas.pydata.org/pandas-docs/stable/user_guide/indexing.html#returning-a-view-versus-a-copy\n",
            "  df1.target *= 40\n"
          ]
        },
        {
          "output_type": "display_data",
          "data": {
            "text/plain": [
              "<Figure size 2500x1000 with 1 Axes>"
            ],
            "image/png": "[encoded data removed]"
          },
          "metadata": {}
        }
      ]
    },
    {
      "cell_type": "code",
      "source": [
        "from sklearn.preprocessing import MinMaxScaler\n",
        "scaler = MinMaxScaler()\n",
        "df = pd.DataFrame(scaler.fit_transform(df.values), columns=df.columns)\n",
        "df\n"
      ],
      "metadata": {
        "colab": {
          "base_uri": "https://localhost:8080/",
          "height": 423
        },
        "id": "DMJSsCpBpj_T",
        "outputId": "b4ba7ab1-7e15-48fe-a576-0e174ee46f94"
      },
      "execution_count": 150,
      "outputs": [
        {
          "output_type": "execute_result",
          "data": {
            "text/plain": [
              "      XOAVelocity   XPeakmg    XRMSmg  XKurtosis  XCrestFactor  XSkewness  \\\n",
              "0        0.005505  0.020737  0.019544   0.028571      0.325556   0.269565   \n",
              "1        0.005505  0.020737  0.019544   0.028571      0.325556   0.269565   \n",
              "2        0.005505  0.020737  0.019544   0.028571      0.325556   0.269565   \n",
              "3        0.396330  0.327189  0.325733   0.049231      0.016142   0.221739   \n",
              "4        0.152294  0.520737  0.521173   0.038462      0.002306   0.265217   \n",
              "...           ...       ...       ...        ...           ...        ...   \n",
              "3841     0.097248  0.198157  0.198697   0.027912      0.125475   0.265217   \n",
              "3842     0.045872  0.163594  0.162866   0.030110      0.162914   0.269565   \n",
              "3843     0.302752  0.361751  0.361564   0.046154      0.126967   0.269565   \n",
              "3844     0.106422  0.377880  0.377850   0.143736      0.412778   0.291304   \n",
              "3845     0.075229  0.163594  0.162866   0.031209      0.055480   0.269565   \n",
              "\n",
              "      XDeviation  XPeaktoPeakDisplacement  YOAVelocity   YPeakmg    YRMSmg  \\\n",
              "0       0.003889                 0.017241     0.004769  0.010345  0.009756   \n",
              "1       0.003889                 0.017241     0.004769  0.010345  0.009756   \n",
              "2       0.003889                 0.017241     0.004769  0.010345  0.009756   \n",
              "3       0.185556                 0.396552     0.406995  0.300000  0.300000   \n",
              "4       0.287778                 0.155172     0.079491  0.275862  0.275610   \n",
              "...          ...                      ...          ...       ...       ...   \n",
              "3841    0.014444                 0.068966     0.084261  0.124138  0.124390   \n",
              "3842    0.207222                 0.051724     0.049285  0.115517  0.114634   \n",
              "3843    0.126111                 0.379310     0.413355  0.360345  0.360976   \n",
              "3844    0.323889                 0.137931     0.287758  0.718966  0.719512   \n",
              "3845    0.013889                 0.068966     0.071542  0.106897  0.107317   \n",
              "\n",
              "      ZOAVelocity   ZPeakmg    ZRMSmg  target  target2  \n",
              "0        0.021401  0.025862  0.025785     1.0      0.0  \n",
              "1        0.021401  0.025862  0.025785     1.0      0.0  \n",
              "2        0.021401  0.025862  0.025785     1.0      0.0  \n",
              "3        0.112840  0.028515  0.028598     1.0      0.0  \n",
              "4        0.258755  0.238727  0.238631     1.0      0.0  \n",
              "...           ...       ...       ...     ...      ...  \n",
              "3841     0.293774  0.287135  0.286920     0.0      1.0  \n",
              "3842     0.184825  0.086207  0.086263     0.0      1.0  \n",
              "3843     0.883268  0.076923  0.076887     0.0      1.0  \n",
              "3844     0.354086  0.132626  0.132677     0.0      1.0  \n",
              "3845     0.321012  0.244695  0.244726     0.0      1.0  \n",
              "\n",
              "[3846 rows x 16 columns]"
            ],
            "text/html": [
              "\n",
              "  <div id=\"df-f601398b-b983-47c5-aaa1-de7f98dfa244\">\n",
              "    <div class=\"colab-df-container\">\n",
              "      <div>\n",
              "<style scoped>\n",
              "    .dataframe tbody tr th:only-of-type {\n",
              "        vertical-align: middle;\n",
              "    }\n",
              "\n",
              "    .dataframe tbody tr th {\n",
              "        vertical-align: top;\n",
              "    }\n",
              "\n",
              "    .dataframe thead th {\n",
              "        text-align: right;\n",
              "    }\n",
              "</style>\n",
              "<table border=\"1\" class=\"dataframe\">\n",
              "  <thead>\n",
              "    <tr style=\"text-align: right;\">\n",
              "      <th></th>\n",
              "      <th>XOAVelocity</th>\n",
              "      <th>XPeakmg</th>\n",
              "      <th>XRMSmg</th>\n",
              "      <th>XKurtosis</th>\n",
              "      <th>XCrestFactor</th>\n",
              "      <th>XSkewness</th>\n",
              "      <th>XDeviation</th>\n",
              "      <th>XPeaktoPeakDisplacement</th>\n",
              "      <th>YOAVelocity</th>\n",
              "      <th>YPeakmg</th>\n",
              "      <th>YRMSmg</th>\n",
              "      <th>ZOAVelocity</th>\n",
              "      <th>ZPeakmg</th>\n",
              "      <th>ZRMSmg</th>\n",
              "      <th>target</th>\n",
              "      <th>target2</th>\n",
              "    </tr>\n",
              "  </thead>\n",
              "  <tbody>\n",
              "    <tr>\n",
              "      <th>0</th>\n",
              "      <td>0.005505</td>\n",
              "      <td>0.020737</td>\n",
              "      <td>0.019544</td>\n",
              "      <td>0.028571</td>\n",
              "      <td>0.325556</td>\n",
              "      <td>0.269565</td>\n",
              "      <td>0.003889</td>\n",
              "      <td>0.017241</td>\n",
              "      <td>0.004769</td>\n",
              "      <td>0.010345</td>\n",
              "      <td>0.009756</td>\n",
              "      <td>0.021401</td>\n",
              "      <td>0.025862</td>\n",
              "      <td>0.025785</td>\n",
              "      <td>1.0</td>\n",
              "      <td>0.0</td>\n",
              "    </tr>\n",
              "    <tr>\n",
              "      <th>1</th>\n",
              "      <td>0.005505</td>\n",
              "      <td>0.020737</td>\n",
              "      <td>0.019544</td>\n",
              "      <td>0.028571</td>\n",
              "      <td>0.325556</td>\n",
              "      <td>0.269565</td>\n",
              "      <td>0.003889</td>\n",
              "      <td>0.017241</td>\n",
              "      <td>0.004769</td>\n",
              "      <td>0.010345</td>\n",
              "      <td>0.009756</td>\n",
              "      <td>0.021401</td>\n",
              "      <td>0.025862</td>\n",
              "      <td>0.025785</td>\n",
              "      <td>1.0</td>\n",
              "      <td>0.0</td>\n",
              "    </tr>\n",
              "    <tr>\n",
              "      <th>2</th>\n",
              "      <td>0.005505</td>\n",
              "      <td>0.020737</td>\n",
              "      <td>0.019544</td>\n",
              "      <td>0.028571</td>\n",
              "      <td>0.325556</td>\n",
              "      <td>0.269565</td>\n",
              "      <td>0.003889</td>\n",
              "      <td>0.017241</td>\n",
              "      <td>0.004769</td>\n",
              "      <td>0.010345</td>\n",
              "      <td>0.009756</td>\n",
              "      <td>0.021401</td>\n",
              "      <td>0.025862</td>\n",
              "      <td>0.025785</td>\n",
              "      <td>1.0</td>\n",
              "      <td>0.0</td>\n",
              "    </tr>\n",
              "    <tr>\n",
              "      <th>3</th>\n",
              "      <td>0.396330</td>\n",
              "      <td>0.327189</td>\n",
              "      <td>0.325733</td>\n",
              "      <td>0.049231</td>\n",
              "      <td>0.016142</td>\n",
              "      <td>0.221739</td>\n",
              "      <td>0.185556</td>\n",
              "      <td>0.396552</td>\n",
              "      <td>0.406995</td>\n",
              "      <td>0.300000</td>\n",
              "      <td>0.300000</td>\n",
              "      <td>0.112840</td>\n",
              "      <td>0.028515</td>\n",
              "      <td>0.028598</td>\n",
              "      <td>1.0</td>\n",
              "      <td>0.0</td>\n",
              "    </tr>\n",
              "    <tr>\n",
              "      <th>4</th>\n",
              "      <td>0.152294</td>\n",
              "      <td>0.520737</td>\n",
              "      <td>0.521173</td>\n",
              "      <td>0.038462</td>\n",
              "      <td>0.002306</td>\n",
              "      <td>0.265217</td>\n",
              "      <td>0.287778</td>\n",
              "      <td>0.155172</td>\n",
              "      <td>0.079491</td>\n",
              "      <td>0.275862</td>\n",
              "      <td>0.275610</td>\n",
              "      <td>0.258755</td>\n",
              "      <td>0.238727</td>\n",
              "      <td>0.238631</td>\n",
              "      <td>1.0</td>\n",
              "      <td>0.0</td>\n",
              "    </tr>\n",
              "    <tr>\n",
              "      <th>...</th>\n",
              "      <td>...</td>\n",
              "      <td>...</td>\n",
              "      <td>...</td>\n",
              "      <td>...</td>\n",
              "      <td>...</td>\n",
              "      <td>...</td>\n",
              "      <td>...</td>\n",
              "      <td>...</td>\n",
              "      <td>...</td>\n",
              "      <td>...</td>\n",
              "      <td>...</td>\n",
              "      <td>...</td>\n",
              "      <td>...</td>\n",
              "      <td>...</td>\n",
              "      <td>...</td>\n",
              "      <td>...</td>\n",
              "    </tr>\n",
              "    <tr>\n",
              "      <th>3841</th>\n",
              "      <td>0.097248</td>\n",
              "      <td>0.198157</td>\n",
              "      <td>0.198697</td>\n",
              "      <td>0.027912</td>\n",
              "      <td>0.125475</td>\n",
              "      <td>0.265217</td>\n",
              "      <td>0.014444</td>\n",
              "      <td>0.068966</td>\n",
              "      <td>0.084261</td>\n",
              "      <td>0.124138</td>\n",
              "      <td>0.124390</td>\n",
              "      <td>0.293774</td>\n",
              "      <td>0.287135</td>\n",
              "      <td>0.286920</td>\n",
              "      <td>0.0</td>\n",
              "      <td>1.0</td>\n",
              "    </tr>\n",
              "    <tr>\n",
              "      <th>3842</th>\n",
              "      <td>0.045872</td>\n",
              "      <td>0.163594</td>\n",
              "      <td>0.162866</td>\n",
              "      <td>0.030110</td>\n",
              "      <td>0.162914</td>\n",
              "      <td>0.269565</td>\n",
              "      <td>0.207222</td>\n",
              "      <td>0.051724</td>\n",
              "      <td>0.049285</td>\n",
              "      <td>0.115517</td>\n",
              "      <td>0.114634</td>\n",
              "      <td>0.184825</td>\n",
              "      <td>0.086207</td>\n",
              "      <td>0.086263</td>\n",
              "      <td>0.0</td>\n",
              "      <td>1.0</td>\n",
              "    </tr>\n",
              "    <tr>\n",
              "      <th>3843</th>\n",
              "      <td>0.302752</td>\n",
              "      <td>0.361751</td>\n",
              "      <td>0.361564</td>\n",
              "      <td>0.046154</td>\n",
              "      <td>0.126967</td>\n",
              "      <td>0.269565</td>\n",
              "      <td>0.126111</td>\n",
              "      <td>0.379310</td>\n",
              "      <td>0.413355</td>\n",
              "      <td>0.360345</td>\n",
              "      <td>0.360976</td>\n",
              "      <td>0.883268</td>\n",
              "      <td>0.076923</td>\n",
              "      <td>0.076887</td>\n",
              "      <td>0.0</td>\n",
              "      <td>1.0</td>\n",
              "    </tr>\n",
              "    <tr>\n",
              "      <th>3844</th>\n",
              "      <td>0.106422</td>\n",
              "      <td>0.377880</td>\n",
              "      <td>0.377850</td>\n",
              "      <td>0.143736</td>\n",
              "      <td>0.412778</td>\n",
              "      <td>0.291304</td>\n",
              "      <td>0.323889</td>\n",
              "      <td>0.137931</td>\n",
              "      <td>0.287758</td>\n",
              "      <td>0.718966</td>\n",
              "      <td>0.719512</td>\n",
              "      <td>0.354086</td>\n",
              "      <td>0.132626</td>\n",
              "      <td>0.132677</td>\n",
              "      <td>0.0</td>\n",
              "      <td>1.0</td>\n",
              "    </tr>\n",
              "    <tr>\n",
              "      <th>3845</th>\n",
              "      <td>0.075229</td>\n",
              "      <td>0.163594</td>\n",
              "      <td>0.162866</td>\n",
              "      <td>0.031209</td>\n",
              "      <td>0.055480</td>\n",
              "      <td>0.269565</td>\n",
              "      <td>0.013889</td>\n",
              "      <td>0.068966</td>\n",
              "      <td>0.071542</td>\n",
              "      <td>0.106897</td>\n",
              "      <td>0.107317</td>\n",
              "      <td>0.321012</td>\n",
              "      <td>0.244695</td>\n",
              "      <td>0.244726</td>\n",
              "      <td>0.0</td>\n",
              "      <td>1.0</td>\n",
              "    </tr>\n",
              "  </tbody>\n",
              "</table>\n",
              "<p>3846 rows × 16 columns</p>\n",
              "</div>\n",
              "      <button class=\"colab-df-convert\" onclick=\"convertToInteractive('df-f601398b-b983-47c5-aaa1-de7f98dfa244')\"\n",
              "              title=\"Convert this dataframe to an interactive table.\"\n",
              "              style=\"display:none;\">\n",
              "        \n",
              "  <svg xmlns=\"http://www.w3.org/2000/svg\" height=\"24px\"viewBox=\"0 0 24 24\"\n",
              "       width=\"24px\">\n",
              "    <path d=\"M0 0h24v24H0V0z\" fill=\"none\"/>\n",
              "    <path d=\"M18.56 5.44l.94 2.06.94-2.06 2.06-.94-2.06-.94-.94-2.06-.94 2.06-2.06.94zm-11 1L8.5 8.5l.94-2.06 2.06-.94-2.06-.94L8.5 2.5l-.94 2.06-2.06.94zm10 10l.94 2.06.94-2.06 2.06-.94-2.06-.94-.94-2.06-.94 2.06-2.06.94z\"/><path d=\"M17.41 7.96l-1.37-1.37c-.4-.4-.92-.59-1.43-.59-.52 0-1.04.2-1.43.59L10.3 9.45l-7.72 7.72c-.78.78-.78 2.05 0 2.83L4 21.41c.39.39.9.59 1.41.59.51 0 1.02-.2 1.41-.59l7.78-7.78 2.81-2.81c.8-.78.8-2.07 0-2.86zM5.41 20L4 18.59l7.72-7.72 1.47 1.35L5.41 20z\"/>\n",
              "  </svg>\n",
              "      </button>\n",
              "      \n",
              "  <style>\n",
              "    .colab-df-container {\n",
              "      display:flex;\n",
              "      flex-wrap:wrap;\n",
              "      gap: 12px;\n",
              "    }\n",
              "\n",
              "    .colab-df-convert {\n",
              "      background-color: #E8F0FE;\n",
              "      border: none;\n",
              "      border-radius: 50%;\n",
              "      cursor: pointer;\n",
              "      display: none;\n",
              "      fill: #1967D2;\n",
              "      height: 32px;\n",
              "      padding: 0 0 0 0;\n",
              "      width: 32px;\n",
              "    }\n",
              "\n",
              "    .colab-df-convert:hover {\n",
              "      background-color: #E2EBFA;\n",
              "      box-shadow: 0px 1px 2px rgba(60, 64, 67, 0.3), 0px 1px 3px 1px rgba(60, 64, 67, 0.15);\n",
              "      fill: #174EA6;\n",
              "    }\n",
              "\n",
              "    [theme=dark] .colab-df-convert {\n",
              "      background-color: #3B4455;\n",
              "      fill: #D2E3FC;\n",
              "    }\n",
              "\n",
              "    [theme=dark] .colab-df-convert:hover {\n",
              "      background-color: #434B5C;\n",
              "      box-shadow: 0px 1px 3px 1px rgba(0, 0, 0, 0.15);\n",
              "      filter: drop-shadow(0px 1px 2px rgba(0, 0, 0, 0.3));\n",
              "      fill: #FFFFFF;\n",
              "    }\n",
              "  </style>\n",
              "\n",
              "      <script>\n",
              "        const buttonEl =\n",
              "          document.querySelector('#df-f601398b-b983-47c5-aaa1-de7f98dfa244 button.colab-df-convert');\n",
              "        buttonEl.style.display =\n",
              "          google.colab.kernel.accessAllowed ? 'block' : 'none';\n",
              "\n",
              "        async function convertToInteractive(key) {\n",
              "          const element = document.querySelector('#df-f601398b-b983-47c5-aaa1-de7f98dfa244');\n",
              "          const dataTable =\n",
              "            await google.colab.kernel.invokeFunction('convertToInteractive',\n",
              "                                                     [key], {});\n",
              "          if (!dataTable) return;\n",
              "\n",
              "          const docLinkHtml = 'Like what you see? Visit the ' +\n",
              "            '<a target=\"_blank\" href=https://colab.research.google.com/notebooks/data_table.ipynb>data table notebook</a>'\n",
              "            + ' to learn more about interactive tables.';\n",
              "          element.innerHTML = '';\n",
              "          dataTable['output_type'] = 'display_data';\n",
              "          await google.colab.output.renderOutput(dataTable, element);\n",
              "          const docLink = document.createElement('div');\n",
              "          docLink.innerHTML = docLinkHtml;\n",
              "          element.appendChild(docLink);\n",
              "        }\n",
              "      </script>\n",
              "    </div>\n",
              "  </div>\n",
              "  "
            ]
          },
          "metadata": {},
          "execution_count": 150
        }
      ]
    },
    {
      "cell_type": "code",
      "source": [
        "from sklearn.model_selection import train_test_split\n",
        "frames = df[['XOAVelocity', 'XPeakmg', 'XRMSmg', 'XKurtosis', 'XCrestFactor',\n",
        "       'XSkewness', 'XDeviation', 'XPeaktoPeakDisplacement', 'YOAVelocity',\n",
        "       'YPeakmg', 'YRMSmg', 'ZOAVelocity', 'ZPeakmg', 'ZRMSmg']].values\n",
        "labels = df[['target', 'target2']].values\n",
        "train_data,test_data, train_labels, test_labels =  train_test_split(frames, labels,train_size=0.7, random_state=42 )\n",
        "print(len(train_data))\n",
        "print(len(test_data))\n",
        "print(len(train_labels))\n",
        "print(len(test_labels))"
      ],
      "metadata": {
        "id": "aBkGchfNrfn6",
        "colab": {
          "base_uri": "https://localhost:8080/"
        },
        "outputId": "2af33b87-bd9e-48e4-ce9f-32e201ccfbb3"
      },
      "execution_count": 151,
      "outputs": [
        {
          "output_type": "stream",
          "name": "stdout",
          "text": [
            "2692\n",
            "1154\n",
            "2692\n",
            "1154\n"
          ]
        }
      ]
    },
    {
      "cell_type": "code",
      "source": [
        "def plotUsingAutoEncoder(model,df):\n",
        "\n",
        "  denoised_all = []\n",
        "\n",
        "  for _,frame in df.iterrows():\n",
        "    row_array = frame.values[:14]\n",
        "    encoded_data = model.encoder(np.array([row_array])).numpy()\n",
        "    [values] = model.decoder(encoded_data).numpy()\n",
        "    denoised_all.append(values)\n",
        "  separated_XOAVelocity = [x[0] for x in denoised_all]\n",
        "  separated_XPeakmg = [x[1] for x in denoised_all]\n",
        "  separated_XRMSmg = [x[2] for x in denoised_all]\n",
        "  separated_XKurtosis = [x[3] for x in denoised_all]\n",
        "  separated_XCrestFactor = [x[4] for x in denoised_all]\n",
        "  separated_XSkewness = [x[5] for x in denoised_all]\n",
        "  separated_XDeviation = [x[6] for x in denoised_all]\n",
        "  separated_XPeaktoPeakDisplacement = [x[7] for x in denoised_all]\n",
        "  separated_YOAVelocity = [x[8] for x in denoised_all]\n",
        "  separated_YPeakmg = [x[9] for x in denoised_all]\n",
        "  separated_YRMSmg = [x[10] for x in denoised_all]\n",
        "  separated_ZOAVelocity = [x[11] for x in denoised_all]\n",
        "  separated_ZPeakmg = [x[12] for x in denoised_all]\n",
        "  separated_ZRMSmg = [x[13] for x in denoised_all]\n",
        "  \n",
        "  df['separated_XOAVelocity'] = pd.DataFrame(separated_XOAVelocity, columns=['separated_XOAVelocity']) \n",
        "  df['separated_XPeakmg'] = pd.DataFrame(separated_XOAVelocity, columns=['separated_XPeakmg'])\n",
        "  df['separated_XRMSmg'] = pd.DataFrame(separated_XOAVelocity, columns=['separated_XRMSmg']) \n",
        "  df['separated_XKurtosis'] = pd.DataFrame(separated_XOAVelocity, columns=['separated_XKurtosis']) \n",
        "  df['separated_XCrestFactor'] = pd.DataFrame(separated_XOAVelocity, columns=['separated_XCrestFactor']) \n",
        "  df['separated_XSkewness'] = pd.DataFrame(separated_XOAVelocity, columns=['separated_XSkewness']) \n",
        "  df['separated_XDeviation'] = pd.DataFrame(separated_XOAVelocity, columns=['separated_XDeviation']) \n",
        "  df['separated_XPeaktoPeakDisplacement'] = pd.DataFrame(separated_XOAVelocity, columns=['separated_XPeaktoPeakDisplacement']) \n",
        "  df['separated_YOAVelocity'] = pd.DataFrame(separated_XOAVelocity, columns=['separated_YOAVelocity'])\n",
        "  df['separated_YPeakmg'] = pd.DataFrame(separated_XOAVelocity, columns=['separated_YPeakmg']) \n",
        "  df['separated_YRMSmg'] = pd.DataFrame(separated_XOAVelocity, columns=['separated_YRMSmg']) \n",
        "  df['separated_ZOAVelocity'] = pd.DataFrame(separated_XOAVelocity, columns=['separated_ZOAVelocity']) \n",
        "  df['separated_ZPeakmg'] = pd.DataFrame(separated_XOAVelocity, columns=['separated_ZPeakmg']) \n",
        "  df['separated_ZRMSmg'] = pd.DataFrame(separated_XOAVelocity, columns=['separated_ZRMSmg']) \n",
        "   \n",
        "  scaler.fit(df.values)\n",
        "  df = pd.DataFrame(scaler.inverse_transform(df.values), columns=df.columns)\n",
        "  noise = df[['XOAVelocity']].values.flatten()\n",
        "  seperated = df[['separated_XOAVelocity']].values.flatten()\n",
        "\n",
        "  plt.figure(figsize=(20,5)) \n",
        "  plt.plot(noise)\n",
        "  plt.plot(seperated, color=\"red\")\n",
        "  plt.legend(labels=[\"Input\", \"Reconstruction\" ])\n",
        "  plt.show()"
      ],
      "metadata": {
        "id": "Emoe607TwHHq"
      },
      "execution_count": 152,
      "outputs": []
    },
    {
      "cell_type": "markdown",
      "source": [
        "#*_With 1D 2 CNN Layers & 1 Dense Layer - Leaky ReLU activation function_*\n",
        "\n"
      ],
      "metadata": {
        "id": "wxW7Iwjb_kS6"
      }
    },
    {
      "cell_type": "code",
      "source": [
        "from keras.layers.activation.leaky_relu import LeakyReLU\n",
        "from sklearn.metrics import accuracy_score, precision_score, recall_score\n",
        "from sklearn.model_selection import train_test_split\n",
        "from tensorflow.keras import layers, losses\n",
        "from tensorflow.keras.models import Model\n",
        "\n",
        "class Discriminator(Model):\n",
        "  def __init__(self):\n",
        "    super(Discriminator,self).__init__()\n",
        "    self.model = tf.keras.Sequential([\n",
        "        tf.keras.layers.Input(shape=(14,)),\n",
        "        tf.keras.layers.Reshape((14, 1)),  # Add a Reshape layer to prepare input for Conv1D\n",
        "        tf.keras.layers.Conv1D(filters=14, kernel_size=3, activation=\"LeakyReLU\"),  # Replace 2nd Dense layer with Conv1D\n",
        "        tf.keras.layers.Conv1D(filters=8, kernel_size=3, activation=\"LeakyReLU\"),  # Add another Conv1D layer \n",
        "        tf.keras.layers.Flatten(),  # Flatten the output of Conv1D for the next Dense layer\n",
        "        tf.keras.layers.Dense(2,activation='softmax')\n",
        "    ])\n",
        "\n",
        "  def call(self, x):\n",
        "    return self.model(x)\n",
        "\n",
        "class Generator(Model):\n",
        "  def __init__(self):\n",
        "    super(Generator, self).__init__()\n",
        "    self.encoder = tf.keras.Sequential([\n",
        "      tf.keras.layers.Reshape((14, 1)),  # Add a Reshape layer to prepare input for Conv1D\n",
        "      tf.keras.layers.Conv1D(filters=14, kernel_size=3, activation=\"LeakyReLU\"), \n",
        "      tf.keras.layers.Conv1D(filters=8, kernel_size=3, activation=\"LeakyReLU\"), # Replace Dense layer with Conv1D\n",
        "      tf.keras.layers.Flatten(), \n",
        "      tf.keras.layers.Dense(2, activation=\"LeakyReLU\")\n",
        "      ])\n",
        "    \n",
        "\n",
        "    self.decoder = tf.keras.Sequential([\n",
        "      tf.keras.layers.Dense(2, activation=\"LeakyReLU\"),\n",
        "      tf.keras.layers.Dense(4, activation=\"LeakyReLU\"),\n",
        "      tf.keras.layers.Dense(8, activation=\"LeakyReLU\"),\n",
        "      tf.keras.layers.Dense(14, activation=\"sigmoid\")])\n",
        "\n",
        "  def call(self, x):\n",
        "    encoded = self.encoder(x)\n",
        "    decoded = self.decoder(encoded)\n",
        "    return decoded\n",
        "\n",
        "generator = Generator()\n",
        "discriminator = Discriminator()\n",
        "\n",
        "generator.compile(optimizer='adam',loss = 'mae')\n",
        "discriminator.compile(optimizer = 'adam', loss=tf.keras.losses.BinaryCrossentropy(from_logits=True),metrics=['accuracy'])\n",
        "\n",
        "discriminator.compile(optimizer='adam',\n",
        "              loss=tf.keras.losses.BinaryCrossentropy(from_logits=False),\n",
        "              metrics=['accuracy'])\n",
        "\n",
        "history = discriminator.fit(train_data, train_labels, epochs=300, validation_data=(test_data, test_labels))\n"
      ],
      "metadata": {
        "id": "SJbKNhwT_zRf",
        "colab": {
          "base_uri": "https://localhost:8080/"
        },
        "outputId": "89cdf21b-2798-410b-b52e-f67d04032c14"
      },
      "execution_count": 153,
      "outputs": [
        {
          "output_type": "stream",
          "name": "stdout",
          "text": [
            "85/85 [==============================] - 3s 11ms/step - loss: 0.6625 - accuracy: 0.6445 - val_loss: 0.6352 - val_accuracy: 0.6716\n"
          ]
        }
      ]
    },
    {
      "cell_type": "code",
      "source": [
        "plt.plot(history.history['loss'], label='Training Loss')\n",
        "plt.plot(history.history['val_loss'], label='Validation Loss')\n",
        "plt.title('Discriminator Model Loss')\n",
        "plt.xlabel('Epoch')\n",
        "plt.ylabel('Loss')\n",
        "plt.legend()"
      ],
      "metadata": {
        "id": "H4LnLCdVAI5V",
        "colab": {
          "base_uri": "https://localhost:8080/",
          "height": 489
        },
        "outputId": "b74f6db2-6b4c-4e8d-aba1-06dbad7c8ac0"
      },
      "execution_count": 154,
      "outputs": [
        {
          "output_type": "execute_result",
          "data": {
            "text/plain": [
              "<matplotlib.legend.Legend at 0x7f43813d9720>"
            ]
          },
          "metadata": {},
          "execution_count": 154
        },
        {
          "output_type": "display_data",
          "data": {
            "text/plain": [
              "<Figure size 640x480 with 1 Axes>"
            ],
            "image/png": "[encoded data removed]"
          },
          "metadata": {}
        }
      ]
    },
    {
      "cell_type": "code",
      "source": [
        "max_epochs = 10\n",
        "learning_rate = 0.001\n",
        "generator_optimizer = tf.optimizers.Adam(learning_rate)"
      ],
      "metadata": {
        "id": "3ypXnZouAOVi"
      },
      "execution_count": 155,
      "outputs": []
    },
    {
      "cell_type": "code",
      "source": [
        "step = 0\n",
        "gen_losses = []\n",
        "for epoch in range(max_epochs):\n",
        "  print(\"Epoch \" + str(epoch) +\" Starting\")\n",
        "\n",
        "  for i in range (len(train_labels)):\n",
        "    with tf.GradientTape() as gen_tape:\n",
        "      output = generator(np.array([train_data[i]]))\n",
        "      disc_output = discriminator(np.array(output))\n",
        "      mae = tf.keras.losses.MeanAbsoluteError()\n",
        "      gen_loss = mae(train_data[i], output[0]) * disc_output[0][0]\n",
        "  \n",
        "    gradients_of_generator = gen_tape.gradient(gen_loss, generator.variables)\n",
        "    generator_optimizer.apply_gradients(zip(gradients_of_generator, generator.variables))\n",
        "  gen_losses.append(gen_loss)\n",
        "  \n",
        "  print(\"Epoch \" + str(epoch) +\" DONE\")\n",
        "\n",
        "plotUsingAutoEncoder(generator,df)"
      ],
      "metadata": {
        "id": "fMH-hu8HARO7",
        "colab": {
          "base_uri": "https://localhost:8080/",
          "height": 787
        },
        "outputId": "41c47f6b-1fe6-4d91-91c6-017d779b15e1"
      },
      "execution_count": 156,
      "outputs": [
        {
          "output_type": "stream",
          "name": "stdout",
          "text": [
            "Epoch 0 Starting\n",
            "Epoch 0 DONE\n",
            "Epoch 1 Starting\n",
            "Epoch 1 DONE\n",
            "Epoch 2 Starting\n",
            "Epoch 2 DONE\n",
            "Epoch 3 Starting\n",
            "Epoch 3 DONE\n",
            "Epoch 4 Starting\n",
            "Epoch 4 DONE\n",
            "Epoch 5 Starting\n",
            "Epoch 5 DONE\n",
            "Epoch 6 Starting\n",
            "Epoch 6 DONE\n",
            "Epoch 7 Starting\n",
            "Epoch 7 DONE\n",
            "Epoch 8 Starting\n",
            "Epoch 8 DONE\n",
            "Epoch 9 Starting\n",
            "Epoch 9 DONE\n"
          ]
        },
        {
          "output_type": "display_data",
          "data": {
            "text/plain": [
              "<Figure size 2000x500 with 1 Axes>"
            ],
            "image/png": "[encoded data removed]"
          },
          "metadata": {}
        }
      ]
    },
    {
      "cell_type": "code",
      "source": [
        "plt.plot(gen_losses, label='Training Loss')\n",
        "plt.title('Generator Model Loss')\n",
        "plt.xlabel('Epoch')\n",
        "plt.ylabel('Loss')\n",
        "plt.legend()\n",
        "print(len(gen_losses))"
      ],
      "metadata": {
        "id": "vbnrXfkKASRQ",
        "colab": {
          "base_uri": "https://localhost:8080/",
          "height": 489
        },
        "outputId": "f4becd36-6562-490d-9950-ad0670f1ab5f"
      },
      "execution_count": 157,
      "outputs": [
        {
          "output_type": "stream",
          "name": "stdout",
          "text": [
            "10\n"
          ]
        },
        {
          "output_type": "display_data",
          "data": {
            "text/plain": [
              "<Figure size 640x480 with 1 Axes>"
            ],
            "image/png": "[encoded data removed]"
          },
          "metadata": {}
        }
      ]
    },
    {
      "cell_type": "code",
      "source": [
        "#Calculate SNR Value\n",
        "\n",
        "noise =[]\n",
        "generated = df['separated_XDeviation'][3179:3244].values.tolist()   #generated signal\n",
        "original = df['XDeviation'][3245:3310].values.tolist() #original signal\n",
        "mixed = df['XDeviation'][3179:3244].values.tolist() # with noise\n",
        "length = len(original)\n",
        "for i in range(length):\n",
        "  noise.append(original[i] - mixed[i])\n",
        "\n",
        "snr = 10 * np.log10(np.mean(np.square(generated))/np.mean(np.square(noise)))\n",
        "print(snr)"
      ],
      "metadata": {
        "colab": {
          "base_uri": "https://localhost:8080/"
        },
        "id": "jSkJC2s1BlZL",
        "outputId": "9007ed0d-43fe-457f-9686-f01da7c64f28"
      },
      "execution_count": 161,
      "outputs": [
        {
          "output_type": "stream",
          "name": "stdout",
          "text": [
            "65\n",
            "65\n",
            "65\n",
            "6.06035635610607\n"
          ]
        }
      ]
    },
    {
      "cell_type": "markdown",
      "source": [
        "#*__With 1D 2 CNN Layers & 1 Dense Layer - Leaky ReLU activation function__*\n",
        "\n"
      ],
      "metadata": {
        "id": "1zSyI2OLm7wJ"
      }
    },
    {
      "cell_type": "code",
      "source": [
        "from keras.layers.activation.leaky_relu import LeakyReLU\n",
        "from sklearn.metrics import accuracy_score, precision_score, recall_score\n",
        "from sklearn.model_selection import train_test_split\n",
        "from tensorflow.keras import layers, losses\n",
        "from tensorflow.keras.models import Model\n",
        "\n",
        "class Discriminator(Model):\n",
        "  def __init__(self):\n",
        "    super(Discriminator,self).__init__()\n",
        "    self.model = tf.keras.Sequential([\n",
        "        tf.keras.layers.Input(shape=(14,)),\n",
        "        tf.keras.layers.Reshape((14, 1)),  # Add a Reshape layer to prepare input for Conv1D\n",
        "        tf.keras.layers.Conv1D(filters=16, kernel_size=3, activation=\"LeakyReLU\"),  # Replace 2nd Dense layer with Conv1D\n",
        "        tf.keras.layers.Conv1D(filters=10, kernel_size=3, activation=\"LeakyReLU\"),  # Add another Conv1D layer\n",
        "        tf.keras.layers.Flatten(),  # Flatten the output of Conv1D for the next Dense layer\n",
        "        tf.keras.layers.Dense(2,activation='softmax')\n",
        "    ])\n",
        "\n",
        "  def call(self, x):\n",
        "    return self.model(x)\n",
        "\n",
        "class Generator(Model):\n",
        "  def __init__(self):\n",
        "    super(Generator, self).__init__()\n",
        "    self.encoder = tf.keras.Sequential([\n",
        "      tf.keras.layers.Reshape((14, 1)),  # Add a Reshape layer to prepare input for Conv1D\n",
        "      tf.keras.layers.Conv1D(filters=16, kernel_size=3, activation=\"LeakyReLU\"), \n",
        "      tf.keras.layers.Conv1D(filters=10, kernel_size=3, activation=\"LeakyReLU\"), # Replace Dense layer with Conv1D\n",
        "      tf.keras.layers.Flatten(), \n",
        "      tf.keras.layers.Dense(2, activation=\"LeakyReLU\")\n",
        "      ])\n",
        "\n",
        "    self.decoder = tf.keras.Sequential([\n",
        "      tf.keras.layers.Dense(2, activation=\"LeakyReLU\"),\n",
        "      tf.keras.layers.Dense(8, activation=\"LeakyReLU\"),\n",
        "      tf.keras.layers.Dense(14, activation=\"sigmoid\")])\n",
        "\n",
        "  def call(self, x):\n",
        "    encoded = self.encoder(x)\n",
        "    decoded = self.decoder(encoded)\n",
        "    return decoded\n",
        "\n",
        "generator = Generator()\n",
        "discriminator = Discriminator()\n",
        "\n",
        "generator.compile(optimizer='adam',loss = 'mae')\n",
        "discriminator.compile(optimizer = 'adam', loss=tf.keras.losses.BinaryCrossentropy(from_logits=True),metrics=['accuracy'])\n",
        "\n",
        "discriminator.compile(optimizer='adam',\n",
        "              loss=tf.keras.losses.BinaryCrossentropy(from_logits=False),\n",
        "              metrics=['accuracy'])\n",
        "\n",
        "history = discriminator.fit(train_data, train_labels, epochs=300, validation_data=(test_data, test_labels))\n"
      ],
      "metadata": {
        "id": "ZadFxZGqm7wO"
      },
      "execution_count": null,
      "outputs": []
    },
    {
      "cell_type": "code",
      "source": [
        "plt.plot(history.history['loss'], label='Training Loss')\n",
        "plt.plot(history.history['val_loss'], label='Validation Loss')\n",
        "plt.title('Discriminator Model Loss')\n",
        "plt.xlabel('Epoch')\n",
        "plt.ylabel('Loss')\n",
        "plt.legend()"
      ],
      "metadata": {
        "id": "xTiyZPY-m7wO"
      },
      "execution_count": null,
      "outputs": []
    },
    {
      "cell_type": "code",
      "source": [
        "max_epochs = 10\n",
        "learning_rate = 0.001\n",
        "generator_optimizer = tf.optimizers.Adam(learning_rate)"
      ],
      "metadata": {
        "id": "aTdj5QTFm7wP"
      },
      "execution_count": null,
      "outputs": []
    },
    {
      "cell_type": "code",
      "source": [
        "step = 0\n",
        "gen_losses = []\n",
        "for epoch in range(max_epochs):\n",
        "  print(\"Epoch \" + str(epoch) +\" Starting\")\n",
        "\n",
        "  for i in range (len(train_labels)):\n",
        "    with tf.GradientTape() as gen_tape:\n",
        "      output = generator(np.array([train_data[i]]))\n",
        "      disc_output = discriminator(np.array(output))\n",
        "      mae = tf.keras.losses.MeanAbsoluteError()\n",
        "      gen_loss = mae(train_data[i], output[0]) * disc_output[0][0]\n",
        "  \n",
        "    gradients_of_generator = gen_tape.gradient(gen_loss, generator.variables)\n",
        "    generator_optimizer.apply_gradients(zip(gradients_of_generator, generator.variables))\n",
        "  gen_losses.append(gen_loss)\n",
        "  \n",
        "  print(\"Epoch \" + str(epoch) +\" DONE\")\n",
        "\n",
        "plotUsingAutoEncoder(generator,df)"
      ],
      "metadata": {
        "id": "c746Bddlm7wP"
      },
      "execution_count": null,
      "outputs": []
    },
    {
      "cell_type": "code",
      "source": [
        "plt.plot(gen_losses, label='Training Loss')\n",
        "plt.title('Generator Model Loss')\n",
        "plt.xlabel('Epoch')\n",
        "plt.ylabel('Loss')\n",
        "plt.legend()\n",
        "print(len(gen_losses))"
      ],
      "metadata": {
        "id": "aMKZ6-Yom7wP"
      },
      "execution_count": null,
      "outputs": []
    },
    {
      "cell_type": "code",
      "source": [
        "#Calculate SNR Value\n",
        "\n",
        "noise =[]\n",
        "generated = df['separated_XDeviation'][3179:3244].values.tolist()   #generated signal\n",
        "original = df['XDeviation'][3245:3318].values.tolist() #original signal\n",
        "mixed = df['XDeviation'][3179:3244].values.tolist() # with noise\n",
        "\n",
        "length = len(original)\n",
        "for i in range(length):\n",
        "  noise.append(original[i] - mixed[i])\n",
        "\n",
        "snr = 10 * np.log10(np.mean(np.square(generated))/np.mean(np.square(noise)))\n",
        "print(snr)"
      ],
      "metadata": {
        "id": "kErSd35wEMp_"
      },
      "execution_count": null,
      "outputs": []
    },
    {
      "cell_type": "markdown",
      "source": [
        "#*_With 1D 3 CNN Layers - Leaky ReLU activation function_*\n",
        "\n"
      ],
      "metadata": {
        "id": "MhBoU3dRmwAu"
      }
    },
    {
      "cell_type": "code",
      "source": [
        "# from keras.layers.activation.leaky_relu import LeakyReLU\n",
        "# from sklearn.metrics import accuracy_score, precision_score, recall_score\n",
        "# from sklearn.model_selection import train_test_split\n",
        "# from tensorflow.keras import layers, losses\n",
        "# from tensorflow.keras.models import Model\n",
        "\n",
        "# class Discriminator(Model):\n",
        "#   def __init__(self):\n",
        "#     super(Discriminator,self).__init__()\n",
        "#     self.model = tf.keras.Sequential([\n",
        "#         tf.keras.layers.Input(shape=(14,)),\n",
        "#         tf.keras.layers.Reshape((14, 1)),  # Add a Reshape layer to prepare input for Conv1D\n",
        "#         tf.keras.layers.Conv1D(filters=14, kernel_size=3, activation=\"LeakyReLU\"),  # Replace 2nd Dense layer with Conv1D\n",
        "#         tf.keras.layers.Conv1D(filters=8, kernel_size=3, activation=\"LeakyReLU\"),  # Add another Conv1D layer\n",
        "#         tf.keras.layers.Conv1D(filters=2, kernel_size=3, activation=\"softmax\"), \n",
        "#         tf.keras.layers.Flatten(),  # Flatten the output of Conv1D for the next Dense layer\n",
        "#     ])\n",
        "\n",
        "#   def call(self, x):\n",
        "#     return self.model(x)\n",
        "\n",
        "# class Generator(Model):\n",
        "#   def __init__(self):\n",
        "#     super(Generator, self).__init__()\n",
        "#     self.encoder = tf.keras.Sequential([\n",
        "#       tf.keras.layers.Reshape((14, 1)),  # Add a Reshape layer to prepare input for Conv1D\n",
        "#       tf.keras.layers.Conv1D(filters=14, kernel_size=3, activation=\"LeakyReLU\"), \n",
        "#       tf.keras.layers.Conv1D(filters=8, kernel_size=3, activation=\"LeakyReLU\"), # Replace Dense layer with Conv1D\n",
        "#       tf.keras.layers.Conv1D(filters=2, kernel_size=3, activation=\"LeakyReLU\"),\n",
        "#       tf.keras.layers.Flatten()\n",
        "#       ])\n",
        "\n",
        "#     self.decoder = tf.keras.Sequential([\n",
        "#       tf.keras.layers.Reshape((2, 1)),\n",
        "#       tf.keras.layers.Conv1D(filters=2, kernel_size=3, activation=\"LeakyReLU\"),\n",
        "#       tf.keras.layers.Conv1D(filters=8, kernel_size=3, activation=\"LeakyReLU\"),\n",
        "#       tf.keras.layers.Conv1D(filters=14, kernel_size=3, activation=\"sigmoid\"),\n",
        "#       tf.keras.layers.Flatten()])\n",
        "\n",
        "#   def call(self, x):\n",
        "#     encoded = self.encoder(x)\n",
        "#     decoded = self.decoder(encoded)\n",
        "#     return decoded\n",
        "\n",
        "# generator = Generator()\n",
        "# discriminator = Discriminator()\n",
        "\n",
        "# generator.compile(optimizer='adam',loss = 'mae')\n",
        "# discriminator.compile(optimizer = 'adam', loss=tf.keras.losses.BinaryCrossentropy(from_logits=True),metrics=['accuracy'])\n",
        "\n",
        "# discriminator.compile(optimizer='adam',\n",
        "#               loss=tf.keras.losses.BinaryCrossentropy(from_logits=False),\n",
        "#               metrics=['accuracy'])\n",
        "\n",
        "# history = discriminator.fit(train_data, train_labels, epochs=300, validation_data=(test_data, test_labels))\n"
      ],
      "metadata": {
        "id": "R-1yp7gEmwAv"
      },
      "execution_count": null,
      "outputs": []
    },
    {
      "cell_type": "code",
      "source": [
        "# plt.plot(history.history['loss'], label='Training Loss')\n",
        "# plt.plot(history.history['val_loss'], label='Validation Loss')\n",
        "# plt.title('Discriminator Model Loss')\n",
        "# plt.xlabel('Epoch')\n",
        "# plt.ylabel('Loss')\n",
        "# plt.legend()"
      ],
      "metadata": {
        "id": "_9ih-UkRmwAv"
      },
      "execution_count": null,
      "outputs": []
    },
    {
      "cell_type": "code",
      "source": [
        "# max_epochs = 10\n",
        "# learning_rate = 0.001\n",
        "# generator_optimizer = tf.optimizers.Adam(learning_rate)"
      ],
      "metadata": {
        "id": "8p5D9Cg9mwAv"
      },
      "execution_count": null,
      "outputs": []
    },
    {
      "cell_type": "code",
      "source": [
        "# step = 0\n",
        "# gen_losses = []\n",
        "# for epoch in range(max_epochs):\n",
        "#   print(\"Epoch \" + str(epoch) +\" Starting\")\n",
        "\n",
        "#   for i in range (len(train_labels)):\n",
        "#     with tf.GradientTape() as gen_tape:\n",
        "#       output = generator(np.array([train_data[i]]))\n",
        "#       disc_output = discriminator(np.array(output))\n",
        "#       mae = tf.keras.losses.MeanAbsoluteError()\n",
        "#       gen_loss = mae(train_data[i], output[0]) * disc_output[0][0]\n",
        "  \n",
        "#     gradients_of_generator = gen_tape.gradient(gen_loss, generator.variables)\n",
        "#     generator_optimizer.apply_gradients(zip(gradients_of_generator, generator.variables))\n",
        "#   gen_losses.append(gen_loss)\n",
        "  \n",
        "#   print(\"Epoch \" + str(epoch) +\" DONE\")\n",
        "\n",
        "# plotUsingAutoEncoder(generator,df)"
      ],
      "metadata": {
        "id": "bj5xaccYmwAv"
      },
      "execution_count": null,
      "outputs": []
    },
    {
      "cell_type": "code",
      "source": [
        "# plt.plot(gen_losses, label='Training Loss')\n",
        "# plt.title('Generator Model Loss')\n",
        "# plt.xlabel('Epoch')\n",
        "# plt.ylabel('Loss')\n",
        "# plt.legend()\n",
        "# print(len(gen_losses))"
      ],
      "metadata": {
        "id": "uXKM4LJBmwAv"
      },
      "execution_count": null,
      "outputs": []
    },
    {
      "cell_type": "code",
      "source": [
        "# #Calculate SNR Value\n",
        "\n",
        "# noise =[]\n",
        "# generated = df['separated_XDeviation'][3179:3244].values.tolist()   #generated signal\n",
        "# original = df['XDeviation'][3245:3318].values.tolist() #original signal\n",
        "# mixed = df['XDeviation'][3179:3244].values.tolist() # with noise\n",
        "\n",
        "# length = len(original)\n",
        "# for i in range(length):\n",
        "#   noise.append(original[i] - mixed[i])\n",
        "\n",
        "# snr = 10 * np.log10(np.mean(np.square(generated))/np.mean(np.square(noise)))\n",
        "# print(snr)"
      ],
      "metadata": {
        "id": "cPrtlLVXEOdT"
      },
      "execution_count": null,
      "outputs": []
    },
    {
      "cell_type": "markdown",
      "source": [
        "#*_With 1D 3 CNN Layers - Leaky ReLU activation function_*\n",
        "\n"
      ],
      "metadata": {
        "id": "rsUyiXHYm8qg"
      }
    },
    {
      "cell_type": "code",
      "source": [
        "# from keras.layers.activation.leaky_relu import LeakyReLU\n",
        "# from sklearn.metrics import accuracy_score, precision_score, recall_score\n",
        "# from sklearn.model_selection import train_test_split\n",
        "# from tensorflow.keras import layers, losses\n",
        "# from tensorflow.keras.models import Model\n",
        "\n",
        "# class Discriminator(Model):\n",
        "#   def __init__(self):\n",
        "#     super(Discriminator,self).__init__()\n",
        "#     self.model = tf.keras.Sequential([\n",
        "#         tf.keras.layers.Input(shape=(14,)),\n",
        "#         tf.keras.layers.Reshape((14, 1)),  # Add a Reshape layer to prepare input for Conv1D\n",
        "#         tf.keras.layers.Conv1D(filters=16, kernel_size=3, activation=\"LeakyReLU\"),  # Replace 2nd Dense layer with Conv1D\n",
        "#         tf.keras.layers.Conv1D(filters=10, kernel_size=3, activation=\"LeakyReLU\"),  # Add another Conv1D layer\n",
        "#         tf.keras.layers.Conv1D(filters=2, kernel_size=3, activation=\"softmax\"), \n",
        "#         tf.keras.layers.Flatten(),  # Flatten the output of Conv1D for the next Dense layer\n",
        "#     ])\n",
        "\n",
        "#   def call(self, x):\n",
        "#     return self.model(x)\n",
        "\n",
        "# class Generator(Model):\n",
        "#   def __init__(self):\n",
        "#     super(Generator, self).__init__()\n",
        "#     self.encoder = tf.keras.Sequential([\n",
        "#       tf.keras.layers.Reshape((14, 1)),  # Add a Reshape layer to prepare input for Conv1D\n",
        "#       tf.keras.layers.Conv1D(filters=16, kernel_size=3, activation=\"LeakyReLU\"), \n",
        "#       tf.keras.layers.Conv1D(filters=10, kernel_size=3, activation=\"LeakyReLU\"), # Replace Dense layer with Conv1D\n",
        "#       tf.keras.layers.Conv1D(filters=2, kernel_size=3, activation=\"LeakyReLU\"),\n",
        "#       tf.keras.layers.Flatten()\n",
        "#       ])\n",
        "\n",
        "#     self.decoder = tf.keras.Sequential([\n",
        "#       tf.keras.layers.Reshape((2, 1)),\n",
        "#       tf.keras.layers.Conv1D(filters=2, kernel_size=3, activation=\"LeakyReLU\"),\n",
        "#       tf.keras.layers.Conv1D(filters=8, kernel_size=3, activation=\"LeakyReLU\"),\n",
        "#       tf.keras.layers.Conv1D(filters=14, kernel_size=3, activation=\"sigmoid\"),\n",
        "#       tf.keras.layers.Flatten()])\n",
        "\n",
        "#   def call(self, x):\n",
        "#     encoded = self.encoder(x)\n",
        "#     decoded = self.decoder(encoded)\n",
        "#     return decoded\n",
        "\n",
        "# generator = Generator()\n",
        "# discriminator = Discriminator()\n",
        "\n",
        "# generator.compile(optimizer='adam',loss = 'mae')\n",
        "# discriminator.compile(optimizer = 'adam', loss=tf.keras.losses.BinaryCrossentropy(from_logits=True),metrics=['accuracy'])\n",
        "\n",
        "# discriminator.compile(optimizer='adam',\n",
        "#               loss=tf.keras.losses.BinaryCrossentropy(from_logits=False),\n",
        "#               metrics=['accuracy'])\n",
        "\n",
        "# history = discriminator.fit(train_data, train_labels, epochs=300, validation_data=(test_data, test_labels))\n"
      ],
      "metadata": {
        "id": "vw5y3-6qm8qq"
      },
      "execution_count": null,
      "outputs": []
    },
    {
      "cell_type": "code",
      "source": [
        "# plt.plot(history.history['loss'], label='Training Loss')\n",
        "# plt.plot(history.history['val_loss'], label='Validation Loss')\n",
        "# plt.title('Discriminator Model Loss')\n",
        "# plt.xlabel('Epoch')\n",
        "# plt.ylabel('Loss')\n",
        "# plt.legend()"
      ],
      "metadata": {
        "id": "lfN429Twm8qq"
      },
      "execution_count": null,
      "outputs": []
    },
    {
      "cell_type": "code",
      "source": [
        "# max_epochs = 10\n",
        "# learning_rate = 0.001\n",
        "# generator_optimizer = tf.optimizers.Adam(learning_rate)"
      ],
      "metadata": {
        "id": "ppQMFmx7m8qq"
      },
      "execution_count": null,
      "outputs": []
    },
    {
      "cell_type": "code",
      "source": [
        "# step = 0\n",
        "# gen_losses = []\n",
        "# for epoch in range(max_epochs):\n",
        "#   print(\"Epoch \" + str(epoch) +\" Starting\")\n",
        "\n",
        "#   for i in range (len(train_labels)):\n",
        "#     with tf.GradientTape() as gen_tape:\n",
        "#       output = generator(np.array([train_data[i]]))\n",
        "#       disc_output = discriminator(np.array(output))\n",
        "#       mae = tf.keras.losses.MeanAbsoluteError()\n",
        "#       gen_loss = mae(train_data[i], output[0]) * disc_output[0][0]\n",
        "  \n",
        "#     gradients_of_generator = gen_tape.gradient(gen_loss, generator.variables)\n",
        "#     generator_optimizer.apply_gradients(zip(gradients_of_generator, generator.variables))\n",
        "#   gen_losses.append(gen_loss)\n",
        "  \n",
        "#   print(\"Epoch \" + str(epoch) +\" DONE\")\n",
        "\n",
        "# plotUsingAutoEncoder(generator,df)"
      ],
      "metadata": {
        "id": "loImuFp0m8qq"
      },
      "execution_count": null,
      "outputs": []
    },
    {
      "cell_type": "code",
      "source": [
        "# plt.plot(gen_losses, label='Training Loss')\n",
        "# plt.title('Generator Model Loss')\n",
        "# plt.xlabel('Epoch')\n",
        "# plt.ylabel('Loss')\n",
        "# plt.legend()\n",
        "# print(len(gen_losses))"
      ],
      "metadata": {
        "id": "kp7pdM0Gm8qq"
      },
      "execution_count": null,
      "outputs": []
    },
    {
      "cell_type": "code",
      "source": [
        "# #Calculate SNR Value\n",
        "\n",
        "# noise =[]\n",
        "# generated = df['separated_XDeviation'][3179:3244].values.tolist()   #generated signal\n",
        "# original = df['XDeviation'][3245:3318].values.tolist() #original signal\n",
        "# mixed = df['XDeviation'][3179:3244].values.tolist() # with noise\n",
        "\n",
        "# length = len(original)\n",
        "# for i in range(length):\n",
        "#   noise.append(original[i] - mixed[i])\n",
        "\n",
        "# snr = 10 * np.log10(np.mean(np.square(generated))/np.mean(np.square(noise)))\n",
        "# print(snr)"
      ],
      "metadata": {
        "id": "5xWur-E6EP7V"
      },
      "execution_count": null,
      "outputs": []
    },
    {
      "cell_type": "markdown",
      "source": [
        "#*_With 1D 2 CNN Layers & 2 Dense Layer - Leaky ReLU activation function_*\n",
        "\n"
      ],
      "metadata": {
        "id": "L5_T_kxZm0I-"
      }
    },
    {
      "cell_type": "code",
      "source": [
        "from keras.layers.activation.leaky_relu import LeakyReLU\n",
        "from sklearn.metrics import accuracy_score, precision_score, recall_score\n",
        "from sklearn.model_selection import train_test_split\n",
        "from tensorflow.keras import layers, losses\n",
        "from tensorflow.keras.models import Model\n",
        "\n",
        "class Discriminator(Model):\n",
        "  def __init__(self):\n",
        "    super(Discriminator,self).__init__()\n",
        "    self.model = tf.keras.Sequential([\n",
        "        tf.keras.layers.Input(shape=(14,)),\n",
        "        tf.keras.layers.Reshape((14, 1)),  # Add a Reshape layer to prepare input for Conv1D\n",
        "        tf.keras.layers.Conv1D(filters=14, kernel_size=3, activation=\"LeakyReLU\"),  # Replace 2nd Dense layer with Conv1D\n",
        "        tf.keras.layers.Conv1D(filters=8, kernel_size=3, activation=\"LeakyReLU\"),  # Add another Conv1D layer \n",
        "        tf.keras.layers.Flatten(),  # Flatten the output of Conv1D for the next Dense layer\n",
        "        tf.keras.layers.Dense(6,activation='LeakyReLU'),\n",
        "        tf.keras.layers.Dense(2,activation='softmax'),\n",
        "    ])\n",
        "\n",
        "  def call(self, x):\n",
        "    return self.model(x)\n",
        "\n",
        "class Generator(Model):\n",
        "  def __init__(self):\n",
        "    super(Generator, self).__init__()\n",
        "    self.encoder = tf.keras.Sequential([\n",
        "      tf.keras.layers.Reshape((14, 1)),  # Add a Reshape layer to prepare input for Conv1D\n",
        "      tf.keras.layers.Conv1D(filters=14, kernel_size=3, activation=\"LeakyReLU\"), \n",
        "      tf.keras.layers.Conv1D(filters=8, kernel_size=3, activation=\"LeakyReLU\"), # Replace Dense layer with Conv1D\n",
        "      tf.keras.layers.Flatten(), \n",
        "      tf.keras.layers.Dense(6, activation=\"LeakyReLU\"),\n",
        "      tf.keras.layers.Dense(2, activation=\"LeakyReLU\")\n",
        "      ])\n",
        "\n",
        "    self.decoder = tf.keras.Sequential([\n",
        "      tf.keras.layers.Dense(2, activation=\"LeakyReLU\"),\n",
        "      tf.keras.layers.Dense(6, activation=\"LeakyReLU\"),\n",
        "      tf.keras.layers.Dense(8, activation=\"LeakyReLU\"),\n",
        "      tf.keras.layers.Dense(14, activation=\"sigmoid\")])\n",
        "\n",
        "  def call(self, x):\n",
        "    encoded = self.encoder(x)\n",
        "    decoded = self.decoder(encoded)\n",
        "    return decoded\n",
        "\n",
        "generator = Generator()\n",
        "discriminator = Discriminator()\n",
        "\n",
        "generator.compile(optimizer='adam',loss = 'mae')\n",
        "discriminator.compile(optimizer = 'adam', loss=tf.keras.losses.BinaryCrossentropy(from_logits=True),metrics=['accuracy'])\n",
        "\n",
        "discriminator.compile(optimizer='adam',\n",
        "              loss=tf.keras.losses.BinaryCrossentropy(from_logits=False),\n",
        "              metrics=['accuracy'])\n",
        "\n",
        "history = discriminator.fit(train_data, train_labels, epochs=300, validation_data=(test_data, test_labels))\n"
      ],
      "metadata": {
        "id": "pVT8z458m0I-"
      },
      "execution_count": null,
      "outputs": []
    },
    {
      "cell_type": "code",
      "source": [
        "plt.plot(history.history['loss'], label='Training Loss')\n",
        "plt.plot(history.history['val_loss'], label='Validation Loss')\n",
        "plt.title('Discriminator Model Loss')\n",
        "plt.xlabel('Epoch')\n",
        "plt.ylabel('Loss')\n",
        "plt.legend()"
      ],
      "metadata": {
        "id": "c0QD0WIkm0I-"
      },
      "execution_count": null,
      "outputs": []
    },
    {
      "cell_type": "code",
      "source": [
        "max_epochs = 10\n",
        "learning_rate = 0.001\n",
        "generator_optimizer = tf.optimizers.Adam(learning_rate)"
      ],
      "metadata": {
        "id": "OryqA_vFm0I_"
      },
      "execution_count": null,
      "outputs": []
    },
    {
      "cell_type": "code",
      "source": [
        "step = 0\n",
        "gen_losses = []\n",
        "for epoch in range(max_epochs):\n",
        "  print(\"Epoch \" + str(epoch) +\" Starting\")\n",
        "\n",
        "  for i in range (len(train_labels)):\n",
        "    with tf.GradientTape() as gen_tape:\n",
        "      output = generator(np.array([train_data[i]]))\n",
        "      disc_output = discriminator(np.array(output))\n",
        "      mae = tf.keras.losses.MeanAbsoluteError()\n",
        "      gen_loss = mae(train_data[i], output[0]) * disc_output[0][0]\n",
        "  \n",
        "    gradients_of_generator = gen_tape.gradient(gen_loss, generator.variables)\n",
        "    generator_optimizer.apply_gradients(zip(gradients_of_generator, generator.variables))\n",
        "  gen_losses.append(gen_loss)\n",
        "  \n",
        "  print(\"Epoch \" + str(epoch) +\" DONE\")\n",
        "\n",
        "plotUsingAutoEncoder(generator,df)"
      ],
      "metadata": {
        "id": "WsTDtn1nm0I_"
      },
      "execution_count": null,
      "outputs": []
    },
    {
      "cell_type": "code",
      "source": [
        "plt.plot(gen_losses, label='Training Loss')\n",
        "plt.title('Generator Model Loss')\n",
        "plt.xlabel('Epoch')\n",
        "plt.ylabel('Loss')\n",
        "plt.legend()\n",
        "print(len(gen_losses))"
      ],
      "metadata": {
        "id": "18WP37XVm0JK"
      },
      "execution_count": null,
      "outputs": []
    },
    {
      "cell_type": "code",
      "source": [
        "#Calculate SNR Value\n",
        "\n",
        "noise =[]\n",
        "generated = df['separated_XDeviation'][3179:3244].values.tolist()   #generated signal\n",
        "original = df['XDeviation'][3245:3318].values.tolist() #original signal\n",
        "mixed = df['XDeviation'][3179:3244].values.tolist() # with noise\n",
        "\n",
        "length = len(original)\n",
        "for i in range(length):\n",
        "  noise.append(original[i] - mixed[i])\n",
        "\n",
        "snr = 10 * np.log10(np.mean(np.square(generated))/np.mean(np.square(noise)))\n",
        "print(snr)"
      ],
      "metadata": {
        "id": "efzzU06-ERfb"
      },
      "execution_count": null,
      "outputs": []
    },
    {
      "cell_type": "markdown",
      "source": [
        "#*_With 1D 2 CNN Layers & 2 Dense Layer - Leaky ReLU activation function_*\n",
        "\n"
      ],
      "metadata": {
        "id": "VeW9GVKIm9h0"
      }
    },
    {
      "cell_type": "code",
      "source": [
        "from keras.layers.activation.leaky_relu import LeakyReLU\n",
        "from sklearn.metrics import accuracy_score, precision_score, recall_score\n",
        "from sklearn.model_selection import train_test_split\n",
        "from tensorflow.keras import layers, losses\n",
        "from tensorflow.keras.models import Model\n",
        "\n",
        "class Discriminator(Model):\n",
        "  def __init__(self):\n",
        "    super(Discriminator,self).__init__()\n",
        "    self.model = tf.keras.Sequential([\n",
        "        tf.keras.layers.Input(shape=(14,)),\n",
        "        tf.keras.layers.Reshape((14, 1)),  # Add a Reshape layer to prepare input for Conv1D\n",
        "        tf.keras.layers.Conv1D(filters=16, kernel_size=3, activation=\"LeakyReLU\"),  # Replace 2nd Dense layer with Conv1D\n",
        "        tf.keras.layers.Conv1D(filters=10, kernel_size=3, activation=\"LeakyReLU\"),  # Add another Conv1D layer \n",
        "        tf.keras.layers.Flatten(),  # Flatten the output of Conv1D for the next Dense layer\n",
        "        tf.keras.layers.Dense(5,activation='LeakyReLU'),\n",
        "        tf.keras.layers.Dense(2,activation='softmax')\n",
        "    ])\n",
        "\n",
        "  def call(self, x):\n",
        "    return self.model(x)\n",
        "\n",
        "class Generator(Model):\n",
        "  def __init__(self):\n",
        "    super(Generator, self).__init__()\n",
        "    self.encoder = tf.keras.Sequential([\n",
        "      tf.keras.layers.Reshape((14, 1)),  # Add a Reshape layer to prepare input for Conv1D\n",
        "      tf.keras.layers.Conv1D(filters=16, kernel_size=3, activation=\"LeakyReLU\"), \n",
        "      tf.keras.layers.Conv1D(filters=10, kernel_size=3, activation=\"LeakyReLU\"), # Replace Dense layer with Conv1D\n",
        "      tf.keras.layers.Flatten(), \n",
        "      tf.keras.layers.Dense(5, activation=\"LeakyReLU\"),\n",
        "      tf.keras.layers.Dense(2, activation=\"LeakyReLU\")\n",
        "      ])\n",
        "\n",
        "    self.decoder = tf.keras.Sequential([\n",
        "      tf.keras.layers.Dense(2, activation=\"LeakyReLU\"),\n",
        "      tf.keras.layers.Dense(5, activation=\"LeakyReLU\"),\n",
        "      tf.keras.layers.Dense(10, activation=\"LeakyReLU\"),\n",
        "      tf.keras.layers.Dense(14, activation=\"sigmoid\")])\n",
        "\n",
        "  def call(self, x):\n",
        "    encoded = self.encoder(x)\n",
        "    decoded = self.decoder(encoded)\n",
        "    return decoded\n",
        "\n",
        "generator = Generator()\n",
        "discriminator = Discriminator()\n",
        "\n",
        "generator.compile(optimizer='adam',loss = 'mae')\n",
        "discriminator.compile(optimizer = 'adam', loss=tf.keras.losses.BinaryCrossentropy(from_logits=True),metrics=['accuracy'])\n",
        "\n",
        "discriminator.compile(optimizer='adam',\n",
        "              loss=tf.keras.losses.BinaryCrossentropy(from_logits=False),\n",
        "              metrics=['accuracy'])\n",
        "\n",
        "history = discriminator.fit(train_data, train_labels, epochs=300, validation_data=(test_data, test_labels))\n"
      ],
      "metadata": {
        "id": "hOuGPdtbm9h1"
      },
      "execution_count": null,
      "outputs": []
    },
    {
      "cell_type": "code",
      "source": [
        "plt.plot(history.history['loss'], label='Training Loss')\n",
        "plt.plot(history.history['val_loss'], label='Validation Loss')\n",
        "plt.title('Discriminator Model Loss')\n",
        "plt.xlabel('Epoch')\n",
        "plt.ylabel('Loss')\n",
        "plt.legend()"
      ],
      "metadata": {
        "id": "WuHBqNH-m9h1"
      },
      "execution_count": null,
      "outputs": []
    },
    {
      "cell_type": "code",
      "source": [
        "max_epochs = 10\n",
        "learning_rate = 0.001\n",
        "generator_optimizer = tf.optimizers.Adam(learning_rate)"
      ],
      "metadata": {
        "id": "w3FRGjLsm9h1"
      },
      "execution_count": null,
      "outputs": []
    },
    {
      "cell_type": "code",
      "source": [
        "step = 0\n",
        "gen_losses = []\n",
        "for epoch in range(max_epochs):\n",
        "  print(\"Epoch \" + str(epoch) +\" Starting\")\n",
        "\n",
        "  for i in range (len(train_labels)):\n",
        "    with tf.GradientTape() as gen_tape:\n",
        "      output = generator(np.array([train_data[i]]))\n",
        "      disc_output = discriminator(np.array(output))\n",
        "      mae = tf.keras.losses.MeanAbsoluteError()\n",
        "      gen_loss = mae(train_data[i], output[0]) * disc_output[0][0]\n",
        "  \n",
        "    gradients_of_generator = gen_tape.gradient(gen_loss, generator.variables)\n",
        "    generator_optimizer.apply_gradients(zip(gradients_of_generator, generator.variables))\n",
        "  gen_losses.append(gen_loss)\n",
        "  \n",
        "  print(\"Epoch \" + str(epoch) +\" DONE\")\n",
        "\n",
        "plotUsingAutoEncoder(generator,df)"
      ],
      "metadata": {
        "id": "uIIBqZV8m9h1"
      },
      "execution_count": null,
      "outputs": []
    },
    {
      "cell_type": "code",
      "source": [
        "plt.plot(gen_losses, label='Training Loss')\n",
        "plt.title('Generator Model Loss')\n",
        "plt.xlabel('Epoch')\n",
        "plt.ylabel('Loss')\n",
        "plt.legend()\n",
        "print(len(gen_losses))"
      ],
      "metadata": {
        "id": "4Tl-pX3Pm9h2"
      },
      "execution_count": null,
      "outputs": []
    },
    {
      "cell_type": "code",
      "source": [
        "#Calculate SNR Value\n",
        "\n",
        "noise =[]\n",
        "generated = df['separated_XDeviation'][3179:3244].values.tolist()   #generated signal\n",
        "original = df['XDeviation'][3245:3318].values.tolist() #original signal\n",
        "mixed = df['XDeviation'][3179:3244].values.tolist() # with noise\n",
        "\n",
        "length = len(original)\n",
        "for i in range(length):\n",
        "  noise.append(original[i] - mixed[i])\n",
        "\n",
        "snr = 10 * np.log10(np.mean(np.square(generated))/np.mean(np.square(noise)))\n",
        "print(snr)"
      ],
      "metadata": {
        "id": "Rqhx_2LrETE7"
      },
      "execution_count": null,
      "outputs": []
    },
    {
      "cell_type": "markdown",
      "source": [
        "#*__With 1D 3 CNN Layers & 1 Dense Layer - Leaky ReLU activation function__*\n",
        "\n"
      ],
      "metadata": {
        "id": "ytlST0hIm1P8"
      }
    },
    {
      "cell_type": "code",
      "source": [
        "from keras.layers.activation.leaky_relu import LeakyReLU\n",
        "from sklearn.metrics import accuracy_score, precision_score, recall_score\n",
        "from sklearn.model_selection import train_test_split\n",
        "from tensorflow.keras import layers, losses\n",
        "from tensorflow.keras.models import Model\n",
        "\n",
        "class Discriminator(Model):\n",
        "  def __init__(self):\n",
        "    super(Discriminator,self).__init__()\n",
        "    self.model = tf.keras.Sequential([\n",
        "        tf.keras.layers.Input(shape=(14,)),\n",
        "        tf.keras.layers.Reshape((14, 1)),  # Add a Reshape layer to prepare input for Conv1D\n",
        "        tf.keras.layers.Conv1D(filters=14, kernel_size=3, activation=\"LeakyReLU\"),  # Replace 2nd Dense layer with Conv1D\n",
        "        tf.keras.layers.Conv1D(filters=8, kernel_size=3, activation=\"LeakyReLU\"),  # Add another Conv1D layer\n",
        "        tf.keras.layers.Conv1D(filters=6, kernel_size=3, activation=\"LeakyReLU\"), \n",
        "        tf.keras.layers.Flatten(),  # Flatten the output of Conv1D for the next Dense layer\n",
        "        tf.keras.layers.Dense(2,activation='softmax')\n",
        "    ])\n",
        "\n",
        "  def call(self, x):\n",
        "    return self.model(x)\n",
        "\n",
        "class Generator(Model):\n",
        "  def __init__(self):\n",
        "    super(Generator, self).__init__()\n",
        "    self.encoder = tf.keras.Sequential([\n",
        "      tf.keras.layers.Reshape((14, 1)),  # Add a Reshape layer to prepare input for Conv1D\n",
        "      tf.keras.layers.Conv1D(filters=14, kernel_size=3, activation=\"LeakyReLU\"), \n",
        "      tf.keras.layers.Conv1D(filters=8, kernel_size=3, activation=\"LeakyReLU\"), # Replace Dense layer with Conv1D\n",
        "      tf.keras.layers.Conv1D(filters=6, kernel_size=3, activation=\"LeakyReLU\"),\n",
        "      tf.keras.layers.Flatten(), \n",
        "      tf.keras.layers.Dense(2, activation=\"LeakyReLU\")\n",
        "      ])\n",
        "\n",
        "    self.decoder = tf.keras.Sequential([\n",
        "      tf.keras.layers.Dense(2, activation=\"LeakyReLU\"),\n",
        "      tf.keras.layers.Dense(6, activation=\"LeakyReLU\"),\n",
        "      tf.keras.layers.Dense(8, activation=\"LeakyReLU\"),\n",
        "      tf.keras.layers.Dense(14, activation=\"sigmoid\")])\n",
        "\n",
        "  def call(self, x):\n",
        "    encoded = self.encoder(x)\n",
        "    decoded = self.decoder(encoded)\n",
        "    return decoded\n",
        "\n",
        "generator = Generator()\n",
        "discriminator = Discriminator()\n",
        "\n",
        "generator.compile(optimizer='adam',loss = 'mae')\n",
        "discriminator.compile(optimizer = 'adam', loss=tf.keras.losses.BinaryCrossentropy(from_logits=True),metrics=['accuracy'])\n",
        "\n",
        "discriminator.compile(optimizer='adam',\n",
        "              loss=tf.keras.losses.BinaryCrossentropy(from_logits=False),\n",
        "              metrics=['accuracy'])\n",
        "\n",
        "history = discriminator.fit(train_data, train_labels, epochs=300, validation_data=(test_data, test_labels))\n"
      ],
      "metadata": {
        "id": "IaBshqgWm1QC"
      },
      "execution_count": null,
      "outputs": []
    },
    {
      "cell_type": "code",
      "source": [
        "plt.plot(history.history['loss'], label='Training Loss')\n",
        "plt.plot(history.history['val_loss'], label='Validation Loss')\n",
        "plt.title('Discriminator Model Loss')\n",
        "plt.xlabel('Epoch')\n",
        "plt.ylabel('Loss')\n",
        "plt.legend()"
      ],
      "metadata": {
        "id": "y_VckPrpm1QC"
      },
      "execution_count": null,
      "outputs": []
    },
    {
      "cell_type": "code",
      "source": [
        "max_epochs = 10\n",
        "learning_rate = 0.001\n",
        "generator_optimizer = tf.optimizers.Adam(learning_rate)"
      ],
      "metadata": {
        "id": "89IusC-Qm1QC"
      },
      "execution_count": null,
      "outputs": []
    },
    {
      "cell_type": "code",
      "source": [
        "step = 0\n",
        "gen_losses = []\n",
        "for epoch in range(max_epochs):\n",
        "  print(\"Epoch \" + str(epoch) +\" Starting\")\n",
        "\n",
        "  for i in range (len(train_labels)):\n",
        "    with tf.GradientTape() as gen_tape:\n",
        "      output = generator(np.array([train_data[i]]))\n",
        "      disc_output = discriminator(np.array(output))\n",
        "      mae = tf.keras.losses.MeanAbsoluteError()\n",
        "      gen_loss = mae(train_data[i], output[0]) * disc_output[0][0]\n",
        "  \n",
        "    gradients_of_generator = gen_tape.gradient(gen_loss, generator.variables)\n",
        "    generator_optimizer.apply_gradients(zip(gradients_of_generator, generator.variables))\n",
        "  gen_losses.append(gen_loss)\n",
        "  \n",
        "  print(\"Epoch \" + str(epoch) +\" DONE\")\n",
        "\n",
        "plotUsingAutoEncoder(generator,df)"
      ],
      "metadata": {
        "id": "Rx6pwR19m1QD"
      },
      "execution_count": null,
      "outputs": []
    },
    {
      "cell_type": "code",
      "source": [
        "plt.plot(gen_losses, label='Training Loss')\n",
        "plt.title('Generator Model Loss')\n",
        "plt.xlabel('Epoch')\n",
        "plt.ylabel('Loss')\n",
        "plt.legend()\n",
        "print(len(gen_losses))"
      ],
      "metadata": {
        "id": "vXt0BX_Dm1QD"
      },
      "execution_count": null,
      "outputs": []
    },
    {
      "cell_type": "code",
      "source": [
        "#Calculate SNR Value\n",
        "\n",
        "noise =[]\n",
        "generated = df['separated_XDeviation'][3179:3244].values.tolist()   #generated signal\n",
        "original = df['XDeviation'][3245:3318].values.tolist() #original signal\n",
        "mixed = df['XDeviation'][3179:3244].values.tolist() # with noise\n",
        "\n",
        "length = len(original)\n",
        "for i in range(length):\n",
        "  noise.append(original[i] - mixed[i])\n",
        "\n",
        "snr = 10 * np.log10(np.mean(np.square(generated))/np.mean(np.square(noise)))\n",
        "print(snr)"
      ],
      "metadata": {
        "id": "CWd9c164EUcf"
      },
      "execution_count": null,
      "outputs": []
    },
    {
      "cell_type": "markdown",
      "source": [
        "#*__With 1D 3 CNN Layers & 1 Dense Layer - Leaky ReLU activation function__*\n",
        "\n"
      ],
      "metadata": {
        "id": "ypUdPxHIm_c1"
      }
    },
    {
      "cell_type": "code",
      "source": [
        "from keras.layers.activation.leaky_relu import LeakyReLU\n",
        "from sklearn.metrics import accuracy_score, precision_score, recall_score\n",
        "from sklearn.model_selection import train_test_split\n",
        "from tensorflow.keras import layers, losses\n",
        "from tensorflow.keras.models import Model\n",
        "\n",
        "class Discriminator(Model):\n",
        "  def __init__(self):\n",
        "    super(Discriminator,self).__init__()\n",
        "    self.model = tf.keras.Sequential([\n",
        "        tf.keras.layers.Input(shape=(14,)),\n",
        "        tf.keras.layers.Reshape((14, 1)),  # Add a Reshape layer to prepare input for Conv1D\n",
        "        tf.keras.layers.Conv1D(filters=16, kernel_size=3, activation=\"LeakyReLU\"),  # Replace 2nd Dense layer with Conv1D\n",
        "        tf.keras.layers.Conv1D(filters=10, kernel_size=3, activation=\"LeakyReLU\"),  # Add another Conv1D layer\n",
        "        tf.keras.layers.Conv1D(filters=5, kernel_size=3, activation=\"LeakyReLU\"), \n",
        "        tf.keras.layers.Flatten(),  # Flatten the output of Conv1D for the next Dense layer\n",
        "        tf.keras.layers.Dense(2,activation='softmax')\n",
        "    ])\n",
        "\n",
        "  def call(self, x):\n",
        "    return self.model(x)\n",
        "\n",
        "class Generator(Model):\n",
        "  def __init__(self):\n",
        "    super(Generator, self).__init__()\n",
        "    self.encoder = tf.keras.Sequential([\n",
        "      tf.keras.layers.Reshape((14, 1)),  # Add a Reshape layer to prepare input for Conv1D\n",
        "      tf.keras.layers.Conv1D(filters=14, kernel_size=3, activation=\"LeakyReLU\"), \n",
        "      tf.keras.layers.Conv1D(filters=8, kernel_size=3, activation=\"LeakyReLU\"), # Replace Dense layer with Conv1D\n",
        "      tf.keras.layers.Conv1D(filters=6, kernel_size=3, activation=\"LeakyReLU\"),\n",
        "      tf.keras.layers.Flatten(), \n",
        "      tf.keras.layers.Dense(2, activation=\"LeakyReLU\")\n",
        "      ])\n",
        "\n",
        "    self.decoder = tf.keras.Sequential([\n",
        "      tf.keras.layers.Dense(2, activation=\"LeakyReLU\"),\n",
        "      tf.keras.layers.Dense(6, activation=\"LeakyReLU\"),\n",
        "      tf.keras.layers.Dense(8, activation=\"LeakyReLU\"),\n",
        "      tf.keras.layers.Dense(14, activation=\"sigmoid\")])\n",
        "\n",
        "  def call(self, x):\n",
        "    encoded = self.encoder(x)\n",
        "    decoded = self.decoder(encoded)\n",
        "    return decoded\n",
        "\n",
        "generator = Generator()\n",
        "discriminator = Discriminator()\n",
        "\n",
        "generator.compile(optimizer='adam',loss = 'mae')\n",
        "discriminator.compile(optimizer = 'adam', loss=tf.keras.losses.BinaryCrossentropy(from_logits=True),metrics=['accuracy'])\n",
        "\n",
        "discriminator.compile(optimizer='adam',\n",
        "              loss=tf.keras.losses.BinaryCrossentropy(from_logits=False),\n",
        "              metrics=['accuracy'])\n",
        "\n",
        "history = discriminator.fit(train_data, train_labels, epochs=300, validation_data=(test_data, test_labels))\n"
      ],
      "metadata": {
        "id": "QuimhE19m_dA"
      },
      "execution_count": null,
      "outputs": []
    },
    {
      "cell_type": "code",
      "source": [
        "plt.plot(history.history['loss'], label='Training Loss')\n",
        "plt.plot(history.history['val_loss'], label='Validation Loss')\n",
        "plt.title('Discriminator Model Loss')\n",
        "plt.xlabel('Epoch')\n",
        "plt.ylabel('Loss')\n",
        "plt.legend()"
      ],
      "metadata": {
        "id": "o22-Mro5m_dA"
      },
      "execution_count": null,
      "outputs": []
    },
    {
      "cell_type": "code",
      "source": [
        "max_epochs = 10\n",
        "learning_rate = 0.001\n",
        "generator_optimizer = tf.optimizers.Adam(learning_rate)"
      ],
      "metadata": {
        "id": "Z1hwgJBZm_dA"
      },
      "execution_count": null,
      "outputs": []
    },
    {
      "cell_type": "code",
      "source": [
        "step = 0\n",
        "gen_losses = []\n",
        "for epoch in range(max_epochs):\n",
        "  print(\"Epoch \" + str(epoch) +\" Starting\")\n",
        "\n",
        "  for i in range (len(train_labels)):\n",
        "    with tf.GradientTape() as gen_tape:\n",
        "      output = generator(np.array([train_data[i]]))\n",
        "      disc_output = discriminator(np.array(output))\n",
        "      mae = tf.keras.losses.MeanAbsoluteError()\n",
        "      gen_loss = mae(train_data[i], output[0]) * disc_output[0][0]\n",
        "  \n",
        "    gradients_of_generator = gen_tape.gradient(gen_loss, generator.variables)\n",
        "    generator_optimizer.apply_gradients(zip(gradients_of_generator, generator.variables))\n",
        "  gen_losses.append(gen_loss)\n",
        "  \n",
        "  print(\"Epoch \" + str(epoch) +\" DONE\")\n",
        "\n",
        "plotUsingAutoEncoder(generator,df)"
      ],
      "metadata": {
        "id": "2_YS6Uppm_dA"
      },
      "execution_count": null,
      "outputs": []
    },
    {
      "cell_type": "code",
      "source": [
        "plt.plot(gen_losses, label='Training Loss')\n",
        "plt.title('Generator Model Loss')\n",
        "plt.xlabel('Epoch')\n",
        "plt.ylabel('Loss')\n",
        "plt.legend()\n",
        "print(len(gen_losses))"
      ],
      "metadata": {
        "id": "_Ve01pTAm_dB"
      },
      "execution_count": null,
      "outputs": []
    },
    {
      "cell_type": "code",
      "source": [
        "#Calculate SNR Value\n",
        "\n",
        "noise =[]\n",
        "generated = df['separated_XDeviation'][3179:3244].values.tolist()   #generated signal\n",
        "original = df['XDeviation'][3245:3318].values.tolist() #original signal\n",
        "mixed = df['XDeviation'][3179:3244].values.tolist() # with noise\n",
        "\n",
        "length = len(original)\n",
        "for i in range(length):\n",
        "  noise.append(original[i] - mixed[i])\n",
        "\n",
        "snr = 10 * np.log10(np.mean(np.square(generated))/np.mean(np.square(noise)))\n",
        "print(snr)"
      ],
      "metadata": {
        "id": "XQx39h9KEV0W"
      },
      "execution_count": null,
      "outputs": []
    },
    {
      "cell_type": "markdown",
      "source": [
        "# *_With 1D 4 CNN Layers - Leaky ReLU activation function_*\n",
        "\n"
      ],
      "metadata": {
        "id": "9S1n5l-5m3QZ"
      }
    },
    {
      "cell_type": "code",
      "source": [
        "# from keras.layers.activation.leaky_relu import LeakyReLU\n",
        "# from sklearn.metrics import accuracy_score, precision_score, recall_score\n",
        "# from sklearn.model_selection import train_test_split\n",
        "# from tensorflow.keras import layers, losses\n",
        "# from tensorflow.keras.models import Model\n",
        "\n",
        "# class Discriminator(Model):\n",
        "#   def __init__(self):\n",
        "#     super(Discriminator,self).__init__()\n",
        "#     self.model = tf.keras.Sequential([\n",
        "#         tf.keras.layers.Input(shape=(14,)),\n",
        "#         tf.keras.layers.Reshape((14, 1)),  # Add a Reshape layer to prepare input for Conv1D\n",
        "#         tf.keras.layers.Conv1D(filters=14, kernel_size=3, activation=\"LeakyReLU\"),  # Replace 2nd Dense layer with Conv1D\n",
        "#         tf.keras.layers.Conv1D(filters=8, kernel_size=3, activation=\"LeakyReLU\"),  # Add another Conv1D layer\n",
        "#         tf.keras.layers.Conv1D(filters=6, kernel_size=3, activation=\"LeakyReLU\"),\n",
        "#         tf.keras.layers.Conv1D(filters=2, kernel_size=3, activation=\"softmax\"), \n",
        "#         tf.keras.layers.Flatten(),  # Flatten the output of Conv1D for the next Dense layer\n",
        "#     ])\n",
        "\n",
        "#   def call(self, x):\n",
        "#     return self.model(x)\n",
        "\n",
        "# class Generator(Model):\n",
        "#   def __init__(self):\n",
        "#     super(Generator, self).__init__()\n",
        "#     self.encoder = tf.keras.Sequential([\n",
        "#       tf.keras.layers.Reshape((14, 1)),  # Add a Reshape layer to prepare input for Conv1D\n",
        "#       tf.keras.layers.Conv1D(filters=14, kernel_size=3, activation=\"LeakyReLU\"), \n",
        "#       tf.keras.layers.Conv1D(filters=8, kernel_size=3, activation=\"LeakyReLU\"), # Replace Dense layer with Conv1D\n",
        "#       tf.keras.layers.Conv1D(filters=6, kernel_size=3, activation=\"LeakyReLU\"),\n",
        "#       tf.keras.layers.Conv1D(filters=2, kernel_size=3, activation=\"LeakyReLU\"),\n",
        "#       tf.keras.layers.Flatten(), \n",
        "#       ])\n",
        "\n",
        "#     self.decoder = tf.keras.Sequential([\n",
        "#       tf.keras.layers.Reshape((2, 1)),\n",
        "#       tf.keras.layers.Conv1D(filters=2, kernel_size=3, activation=\"LeakyReLU\"),\n",
        "#       tf.keras.layers.Conv1D(filters=6, kernel_size=3, activation=\"LeakyReLU\"),\n",
        "#       tf.keras.layers.Conv1D(filters=8, kernel_size=3, activation=\"LeakyReLU\"),\n",
        "#       tf.keras.layers.Conv1D(filters=14, kernel_size=3, activation=\"sigmoid\"),\n",
        "#       tf.keras.layers.Flatten()])\n",
        "\n",
        "#   def call(self, x):\n",
        "#     encoded = self.encoder(x)\n",
        "#     decoded = self.decoder(encoded)\n",
        "#     return decoded\n",
        "\n",
        "# generator = Generator()\n",
        "# discriminator = Discriminator()\n",
        "\n",
        "# generator.compile(optimizer='adam',loss = 'mae')\n",
        "# discriminator.compile(optimizer = 'adam', loss=tf.keras.losses.BinaryCrossentropy(from_logits=True),metrics=['accuracy'])\n",
        "\n",
        "# discriminator.compile(optimizer='adam',\n",
        "#               loss=tf.keras.losses.BinaryCrossentropy(from_logits=False),\n",
        "#               metrics=['accuracy'])\n",
        "\n",
        "# history = discriminator.fit(train_data, train_labels, epochs=300, validation_data=(test_data, test_labels))\n"
      ],
      "metadata": {
        "id": "9VxN7QsFm3Qa"
      },
      "execution_count": null,
      "outputs": []
    },
    {
      "cell_type": "code",
      "source": [
        "# plt.plot(history.history['loss'], label='Training Loss')\n",
        "# plt.plot(history.history['val_loss'], label='Validation Loss')\n",
        "# plt.title('Discriminator Model Loss')\n",
        "# plt.xlabel('Epoch')\n",
        "# plt.ylabel('Loss')\n",
        "# plt.legend()"
      ],
      "metadata": {
        "id": "-Q0ImgkFm3Qa"
      },
      "execution_count": null,
      "outputs": []
    },
    {
      "cell_type": "code",
      "source": [
        "# max_epochs = 10\n",
        "# learning_rate = 0.001\n",
        "# generator_optimizer = tf.optimizers.Adam(learning_rate)"
      ],
      "metadata": {
        "id": "em1DATL9m3Qa"
      },
      "execution_count": null,
      "outputs": []
    },
    {
      "cell_type": "code",
      "source": [
        "# step = 0\n",
        "# gen_losses = []\n",
        "# for epoch in range(max_epochs):\n",
        "#   print(\"Epoch \" + str(epoch) +\" Starting\")\n",
        "\n",
        "#   for i in range (len(train_labels)):\n",
        "#     with tf.GradientTape() as gen_tape:\n",
        "#       output = generator(np.array([train_data[i]]))\n",
        "#       disc_output = discriminator(np.array(output))\n",
        "#       mae = tf.keras.losses.MeanAbsoluteError()\n",
        "#       gen_loss = mae(train_data[i], output[0]) * disc_output[0][0]\n",
        "  \n",
        "#     gradients_of_generator = gen_tape.gradient(gen_loss, generator.variables)\n",
        "#     generator_optimizer.apply_gradients(zip(gradients_of_generator, generator.variables))\n",
        "#   gen_losses.append(gen_loss)\n",
        "  \n",
        "#   print(\"Epoch \" + str(epoch) +\" DONE\")\n",
        "\n",
        "# plotUsingAutoEncoder(generator,df)"
      ],
      "metadata": {
        "id": "jvNGR7gCm3Qa"
      },
      "execution_count": null,
      "outputs": []
    },
    {
      "cell_type": "code",
      "source": [
        "# plt.plot(gen_losses, label='Training Loss')\n",
        "# plt.title('Generator Model Loss')\n",
        "# plt.xlabel('Epoch')\n",
        "# plt.ylabel('Loss')\n",
        "# plt.legend()\n",
        "# print(len(gen_losses))"
      ],
      "metadata": {
        "id": "B5RAw9rom3Qa"
      },
      "execution_count": null,
      "outputs": []
    },
    {
      "cell_type": "code",
      "source": [
        "# #Calculate SNR Value\n",
        "\n",
        "# noise =[]\n",
        "# generated = df['separated_XDeviation'][3179:3244].values.tolist()   #generated signal\n",
        "# original = df['XDeviation'][3245:3318].values.tolist() #original signal\n",
        "# mixed = df['XDeviation'][3179:3244].values.tolist() # with noise\n",
        "\n",
        "# length = len(original)\n",
        "# for i in range(length):\n",
        "#   noise.append(original[i] - mixed[i])\n",
        "\n",
        "# snr = 10 * np.log10(np.mean(np.square(generated))/np.mean(np.square(noise)))\n",
        "# print(snr)"
      ],
      "metadata": {
        "id": "G7rx_FpfEXkv"
      },
      "execution_count": null,
      "outputs": []
    },
    {
      "cell_type": "markdown",
      "source": [
        "#*_With 1D 4 CNN Layers - Leaky ReLU activation function_*\n",
        "\n"
      ],
      "metadata": {
        "id": "BPv1jHx-nAah"
      }
    },
    {
      "cell_type": "code",
      "source": [
        "# from keras.layers.activation.leaky_relu import LeakyReLU\n",
        "# from sklearn.metrics import accuracy_score, precision_score, recall_score\n",
        "# from sklearn.model_selection import train_test_split\n",
        "# from tensorflow.keras import layers, losses\n",
        "# from tensorflow.keras.models import Model\n",
        "\n",
        "# class Discriminator(Model):\n",
        "#   def __init__(self):\n",
        "#     super(Discriminator,self).__init__()\n",
        "#     self.model = tf.keras.Sequential([\n",
        "#         tf.keras.layers.Input(shape=(14,)),\n",
        "#         tf.keras.layers.Reshape((14, 1)),  # Add a Reshape layer to prepare input for Conv1D\n",
        "#         tf.keras.layers.Conv1D(filters=16, kernel_size=3, activation=\"LeakyReLU\"),  # Replace 2nd Dense layer with Conv1D\n",
        "#         tf.keras.layers.Conv1D(filters=10, kernel_size=3, activation=\"LeakyReLU\"),  # Add another Conv1D layer\n",
        "#         tf.keras.layers.Conv1D(filters=5, kernel_size=3, activation=\"LeakyReLU\"),\n",
        "#         tf.keras.layers.Conv1D(filters=2, kernel_size=3, activation=\"softmax\"), \n",
        "#         tf.keras.layers.Flatten(),  # Flatten the output of Conv1D for the next Dense layer\n",
        "#     ])\n",
        "\n",
        "#   def call(self, x):\n",
        "#     return self.model(x)\n",
        "\n",
        "# class Generator(Model):\n",
        "#   def __init__(self):\n",
        "#     super(Generator, self).__init__()\n",
        "#     self.encoder = tf.keras.Sequential([\n",
        "#       tf.keras.layers.Reshape((14, 1)),  # Add a Reshape layer to prepare input for Conv1D\n",
        "#       tf.keras.layers.Conv1D(filters=16, kernel_size=3, activation=\"LeakyReLU\"), \n",
        "#       tf.keras.layers.Conv1D(filters=10, kernel_size=3, activation=\"LeakyReLU\"), # Replace Dense layer with Conv1D\n",
        "#       tf.keras.layers.Conv1D(filters=5, kernel_size=3, activation=\"LeakyReLU\"),\n",
        "#       tf.keras.layers.Conv1D(filters=2, kernel_size=3, activation=\"LeakyReLU\"),\n",
        "#       tf.keras.layers.Flatten(), \n",
        "#       ])\n",
        "\n",
        "#     self.decoder = tf.keras.Sequential([\n",
        "#       tf.keras.layers.Reshape((2, 1)),\n",
        "#       tf.keras.layers.Conv1D(filters=2, kernel_size=3, activation=\"LeakyReLU\"),\n",
        "#       tf.keras.layers.Conv1D(filters=5, kernel_size=3, activation=\"LeakyReLU\"),\n",
        "#       tf.keras.layers.Conv1D(filters=10, kernel_size=3, activation=\"LeakyReLU\"),\n",
        "#       tf.keras.layers.Conv1D(filters=14, kernel_size=3, activation=\"sigmoid\"),\n",
        "#       tf.keras.layers.Flatten()])\n",
        "\n",
        "#   def call(self, x):\n",
        "#     encoded = self.encoder(x)\n",
        "#     decoded = self.decoder(encoded)\n",
        "#     return decoded\n",
        "\n",
        "# generator = Generator()\n",
        "# discriminator = Discriminator()\n",
        "\n",
        "# generator.compile(optimizer='adam',loss = 'mae')\n",
        "# discriminator.compile(optimizer = 'adam', loss=tf.keras.losses.BinaryCrossentropy(from_logits=True),metrics=['accuracy'])\n",
        "\n",
        "# discriminator.compile(optimizer='adam',\n",
        "#               loss=tf.keras.losses.BinaryCrossentropy(from_logits=False),\n",
        "#               metrics=['accuracy'])\n",
        "\n",
        "# history = discriminator.fit(train_data, train_labels, epochs=300, validation_data=(test_data, test_labels))\n"
      ],
      "metadata": {
        "id": "BocpQP17nAao"
      },
      "execution_count": null,
      "outputs": []
    },
    {
      "cell_type": "code",
      "source": [
        "# plt.plot(history.history['loss'], label='Training Loss')\n",
        "# plt.plot(history.history['val_loss'], label='Validation Loss')\n",
        "# plt.title('Discriminator Model Loss')\n",
        "# plt.xlabel('Epoch')\n",
        "# plt.ylabel('Loss')\n",
        "# plt.legend()"
      ],
      "metadata": {
        "id": "pOr64aBinAao"
      },
      "execution_count": null,
      "outputs": []
    },
    {
      "cell_type": "code",
      "source": [
        "# max_epochs = 10\n",
        "# learning_rate = 0.001\n",
        "# generator_optimizer = tf.optimizers.Adam(learning_rate)"
      ],
      "metadata": {
        "id": "dFxfWneNnAao"
      },
      "execution_count": null,
      "outputs": []
    },
    {
      "cell_type": "code",
      "source": [
        "# step = 0\n",
        "# gen_losses = []\n",
        "# for epoch in range(max_epochs):\n",
        "#   print(\"Epoch \" + str(epoch) +\" Starting\")\n",
        "\n",
        "#   for i in range (len(train_labels)):\n",
        "#     with tf.GradientTape() as gen_tape:\n",
        "#       output = generator(np.array([train_data[i]]))\n",
        "#       disc_output = discriminator(np.array(output))\n",
        "#       mae = tf.keras.losses.MeanAbsoluteError()\n",
        "#       gen_loss = mae(train_data[i], output[0]) * disc_output[0][0]\n",
        "  \n",
        "#     gradients_of_generator = gen_tape.gradient(gen_loss, generator.variables)\n",
        "#     generator_optimizer.apply_gradients(zip(gradients_of_generator, generator.variables))\n",
        "#   gen_losses.append(gen_loss)\n",
        "  \n",
        "#   print(\"Epoch \" + str(epoch) +\" DONE\")\n",
        "\n",
        "# plotUsingAutoEncoder(generator,df)"
      ],
      "metadata": {
        "id": "74ZiB5ApnAap"
      },
      "execution_count": null,
      "outputs": []
    },
    {
      "cell_type": "code",
      "source": [
        "# plt.plot(gen_losses, label='Training Loss')\n",
        "# plt.title('Generator Model Loss')\n",
        "# plt.xlabel('Epoch')\n",
        "# plt.ylabel('Loss')\n",
        "# plt.legend()\n",
        "# print(len(gen_losses))"
      ],
      "metadata": {
        "id": "d6kxSx4EnAap"
      },
      "execution_count": null,
      "outputs": []
    },
    {
      "cell_type": "code",
      "source": [
        "# #Calculate SNR Value\n",
        "\n",
        "# noise =[]\n",
        "# generated = df['separated_XDeviation'][3179:3244].values.tolist()   #generated signal\n",
        "# original = df['XDeviation'][3245:3318].values.tolist() #original signal\n",
        "# mixed = df['XDeviation'][3179:3244].values.tolist() # with noise\n",
        "\n",
        "# length = len(original)\n",
        "# for i in range(length):\n",
        "#   noise.append(original[i] - mixed[i])\n",
        "\n",
        "# snr = 10 * np.log10(np.mean(np.square(generated))/np.mean(np.square(noise)))\n",
        "# print(snr)"
      ],
      "metadata": {
        "id": "tQIqyO9lEZL5"
      },
      "execution_count": null,
      "outputs": []
    },
    {
      "cell_type": "markdown",
      "source": [
        "#*__With 1D 3 CNN Layers & 2 Dense Layer - Leaky ReLU activation function__*\n",
        "\n"
      ],
      "metadata": {
        "id": "BNMZZjULm6B_"
      }
    },
    {
      "cell_type": "code",
      "source": [
        "from keras.layers.activation.leaky_relu import LeakyReLU\n",
        "from sklearn.metrics import accuracy_score, precision_score, recall_score\n",
        "from sklearn.model_selection import train_test_split\n",
        "from tensorflow.keras import layers, losses\n",
        "from tensorflow.keras.models import Model\n",
        "\n",
        "class Discriminator(Model):\n",
        "  def __init__(self):\n",
        "    super(Discriminator,self).__init__()\n",
        "    self.model = tf.keras.Sequential([\n",
        "        tf.keras.layers.Input(shape=(14,)),\n",
        "        tf.keras.layers.Reshape((14, 1)),  # Add a Reshape layer to prepare input for Conv1D\n",
        "        tf.keras.layers.Conv1D(filters=14, kernel_size=3, activation=\"LeakyReLU\"),  # Replace 2nd Dense layer with Conv1D\n",
        "        tf.keras.layers.Conv1D(filters=8, kernel_size=3, activation=\"LeakyReLU\"),  # Add another Conv1D layer\n",
        "        tf.keras.layers.Conv1D(filters=5, kernel_size=3, activation=\"LeakyReLU\"), \n",
        "        tf.keras.layers.Flatten(),  # Flatten the output of Conv1D for the next Dense layer\n",
        "        tf.keras.layers.Dense(3,activation='LeakyReLU')\n",
        "        tf.keras.layers.Dense(2,activation='softmax')\n",
        "    ])\n",
        "\n",
        "  def call(self, x):\n",
        "    return self.model(x)\n",
        "\n",
        "class Generator(Model):\n",
        "  def __init__(self):\n",
        "    super(Generator, self).__init__()\n",
        "    self.encoder = tf.keras.Sequential([\n",
        "      tf.keras.layers.Reshape((14, 1)),  # Add a Reshape layer to prepare input for Conv1D\n",
        "      tf.keras.layers.Conv1D(filters=14, kernel_size=3, activation=\"LeakyReLU\"), \n",
        "      tf.keras.layers.Conv1D(filters=8, kernel_size=3, activation=\"LeakyReLU\"), # Replace Dense layer with Conv1D\n",
        "      tf.keras.layers.Conv1D(filters=5, kernel_size=3, activation=\"LeakyReLU\"),\n",
        "      tf.keras.layers.Flatten(), \n",
        "      tf.keras.layers.Dense(3, activation=\"LeakyReLU\"),\n",
        "      tf.keras.layers.Dense(2, activation=\"LeakyReLU\")\n",
        "      ])\n",
        "\n",
        "    self.decoder = tf.keras.Sequential([\n",
        "      tf.keras.layers.Dense(2, activation=\"LeakyReLU\"),\n",
        "      tf.keras.layers.Dense(3, activation=\"LeakyReLU\"),\n",
        "      tf.keras.layers.Dense(5, activation=\"LeakyReLU\"),\n",
        "      tf.keras.layers.Dense(8, activation=\"LeakyReLU\"),\n",
        "      tf.keras.layers.Dense(14, activation=\"sigmoid\")])\n",
        "\n",
        "  def call(self, x):\n",
        "    encoded = self.encoder(x)\n",
        "    decoded = self.decoder(encoded)\n",
        "    return decoded\n",
        "\n",
        "generator = Generator()\n",
        "discriminator = Discriminator()\n",
        "\n",
        "generator.compile(optimizer='adam',loss = 'mae')\n",
        "discriminator.compile(optimizer = 'adam', loss=tf.keras.losses.BinaryCrossentropy(from_logits=True),metrics=['accuracy'])\n",
        "\n",
        "discriminator.compile(optimizer='adam',\n",
        "              loss=tf.keras.losses.BinaryCrossentropy(from_logits=False),\n",
        "              metrics=['accuracy'])\n",
        "\n",
        "history = discriminator.fit(train_data, train_labels, epochs=300, validation_data=(test_data, test_labels))\n"
      ],
      "metadata": {
        "id": "n6EVIk6Ym6CE"
      },
      "execution_count": null,
      "outputs": []
    },
    {
      "cell_type": "code",
      "source": [
        "plt.plot(history.history['loss'], label='Training Loss')\n",
        "plt.plot(history.history['val_loss'], label='Validation Loss')\n",
        "plt.title('Discriminator Model Loss')\n",
        "plt.xlabel('Epoch')\n",
        "plt.ylabel('Loss')\n",
        "plt.legend()"
      ],
      "metadata": {
        "id": "4K3eetGMm6CF"
      },
      "execution_count": null,
      "outputs": []
    },
    {
      "cell_type": "code",
      "source": [
        "max_epochs = 10\n",
        "learning_rate = 0.001\n",
        "generator_optimizer = tf.optimizers.Adam(learning_rate)"
      ],
      "metadata": {
        "id": "w3uiIefNm6CF"
      },
      "execution_count": null,
      "outputs": []
    },
    {
      "cell_type": "code",
      "source": [
        "step = 0\n",
        "gen_losses = []\n",
        "for epoch in range(max_epochs):\n",
        "  print(\"Epoch \" + str(epoch) +\" Starting\")\n",
        "\n",
        "  for i in range (len(train_labels)):\n",
        "    with tf.GradientTape() as gen_tape:\n",
        "      output = generator(np.array([train_data[i]]))\n",
        "      disc_output = discriminator(np.array(output))\n",
        "      mae = tf.keras.losses.MeanAbsoluteError()\n",
        "      gen_loss = mae(train_data[i], output[0]) * disc_output[0][0]\n",
        "  \n",
        "    gradients_of_generator = gen_tape.gradient(gen_loss, generator.variables)\n",
        "    generator_optimizer.apply_gradients(zip(gradients_of_generator, generator.variables))\n",
        "  gen_losses.append(gen_loss)\n",
        "  \n",
        "  print(\"Epoch \" + str(epoch) +\" DONE\")\n",
        "\n",
        "plotUsingAutoEncoder(generator,df)"
      ],
      "metadata": {
        "id": "vyWwzBShm6CF"
      },
      "execution_count": null,
      "outputs": []
    },
    {
      "cell_type": "code",
      "source": [
        "plt.plot(gen_losses, label='Training Loss')\n",
        "plt.title('Generator Model Loss')\n",
        "plt.xlabel('Epoch')\n",
        "plt.ylabel('Loss')\n",
        "plt.legend()\n",
        "print(len(gen_losses))"
      ],
      "metadata": {
        "id": "5nsmMgzqm6CF"
      },
      "execution_count": null,
      "outputs": []
    },
    {
      "cell_type": "code",
      "source": [
        "#Calculate SNR Value\n",
        "\n",
        "noise =[]\n",
        "generated = df['separated_XDeviation'][3179:3244].values.tolist()   #generated signal\n",
        "original = df['XDeviation'][3245:3318].values.tolist() #original signal\n",
        "mixed = df['XDeviation'][3179:3244].values.tolist() # with noise\n",
        "\n",
        "length = len(original)\n",
        "for i in range(length):\n",
        "  noise.append(original[i] - mixed[i])\n",
        "\n",
        "snr = 10 * np.log10(np.mean(np.square(generated))/np.mean(np.square(noise)))\n",
        "print(snr)"
      ],
      "metadata": {
        "id": "_SBFcb7yEbHN"
      },
      "execution_count": null,
      "outputs": []
    },
    {
      "cell_type": "markdown",
      "source": [
        "#*__With 1D 3 CNN Layers & 2 Dense Layer - Leaky ReLU activation function__*\n",
        "\n"
      ],
      "metadata": {
        "id": "ioYF3PyBnCAn"
      }
    },
    {
      "cell_type": "code",
      "source": [
        "from keras.layers.activation.leaky_relu import LeakyReLU\n",
        "from sklearn.metrics import accuracy_score, precision_score, recall_score\n",
        "from sklearn.model_selection import train_test_split\n",
        "from tensorflow.keras import layers, losses\n",
        "from tensorflow.keras.models import Model\n",
        "\n",
        "class Discriminator(Model):\n",
        "  def __init__(self):\n",
        "    super(Discriminator,self).__init__()\n",
        "    self.model = tf.keras.Sequential([\n",
        "        tf.keras.layers.Input(shape=(14,)),\n",
        "        tf.keras.layers.Reshape((14, 1)),  # Add a Reshape layer to prepare input for Conv1D\n",
        "        tf.keras.layers.Conv1D(filters=20, kernel_size=3, activation=\"LeakyReLU\"),  # Replace 2nd Dense layer with Conv1D\n",
        "        tf.keras.layers.Conv1D(filters=14, kernel_size=3, activation=\"LeakyReLU\"),  # Add another Conv1D layer\n",
        "        tf.keras.layers.Conv1D(filters=10, kernel_size=3, activation=\"LeakyReLU\"), \n",
        "        tf.keras.layers.Flatten(),  # Flatten the output of Conv1D for the next Dense layer\n",
        "        tf.keras.layers.Dense(5,activation='LeakyReLU'),\n",
        "        tf.keras.layers.Dense(2,activation='softmax')\n",
        "    ])\n",
        "\n",
        "  def call(self, x):\n",
        "    return self.model(x)\n",
        "\n",
        "class Generator(Model):\n",
        "  def __init__(self):\n",
        "    super(Generator, self).__init__()\n",
        "    self.encoder = tf.keras.Sequential([\n",
        "      tf.keras.layers.Reshape((14, 1)),  # Add a Reshape layer to prepare input for Conv1D\n",
        "      tf.keras.layers.Conv1D(filters=20, kernel_size=3, activation=\"LeakyReLU\"), \n",
        "      tf.keras.layers.Conv1D(filters=14, kernel_size=3, activation=\"LeakyReLU\"), # Replace Dense layer with Conv1D\n",
        "      tf.keras.layers.Conv1D(filters=10, kernel_size=3, activation=\"LeakyReLU\"),\n",
        "      tf.keras.layers.Flatten(), \n",
        "      tf.keras.layers.Dense(5, activation=\"LeakyReLU\"),\n",
        "      tf.keras.layers.Dense(2, activation=\"LeakyReLU\")\n",
        "      ])\n",
        "\n",
        "    self.decoder = tf.keras.Sequential([\n",
        "      tf.keras.layers.Dense(2, activation=\"LeakyReLU\"),\n",
        "      tf.keras.layers.Dense(5, activation=\"LeakyReLU\"),\n",
        "      tf.keras.layers.Dense(8, activation=\"LeakyReLU\"),\n",
        "      tf.keras.layers.Dense(10, activation=\"LeakyReLU\"),\n",
        "      tf.keras.layers.Dense(14, activation=\"sigmoid\")])\n",
        "\n",
        "  def call(self, x):\n",
        "    encoded = self.encoder(x)\n",
        "    decoded = self.decoder(encoded)\n",
        "    return decoded\n",
        "\n",
        "generator = Generator()\n",
        "discriminator = Discriminator()\n",
        "\n",
        "generator.compile(optimizer='adam',loss = 'mae')\n",
        "discriminator.compile(optimizer = 'adam', loss=tf.keras.losses.BinaryCrossentropy(from_logits=True),metrics=['accuracy'])\n",
        "\n",
        "discriminator.compile(optimizer='adam',\n",
        "              loss=tf.keras.losses.BinaryCrossentropy(from_logits=False),\n",
        "              metrics=['accuracy'])\n",
        "\n",
        "history = discriminator.fit(train_data, train_labels, epochs=300, validation_data=(test_data, test_labels))\n"
      ],
      "metadata": {
        "id": "9z7Pp123nCAn"
      },
      "execution_count": null,
      "outputs": []
    },
    {
      "cell_type": "code",
      "source": [
        "plt.plot(history.history['loss'], label='Training Loss')\n",
        "plt.plot(history.history['val_loss'], label='Validation Loss')\n",
        "plt.title('Discriminator Model Loss')\n",
        "plt.xlabel('Epoch')\n",
        "plt.ylabel('Loss')\n",
        "plt.legend()"
      ],
      "metadata": {
        "id": "OKKaqZYJnCAn"
      },
      "execution_count": null,
      "outputs": []
    },
    {
      "cell_type": "code",
      "source": [
        "max_epochs = 10\n",
        "learning_rate = 0.001\n",
        "generator_optimizer = tf.optimizers.Adam(learning_rate)"
      ],
      "metadata": {
        "id": "mMpeLVHVnCAo"
      },
      "execution_count": null,
      "outputs": []
    },
    {
      "cell_type": "code",
      "source": [
        "step = 0\n",
        "gen_losses = []\n",
        "for epoch in range(max_epochs):\n",
        "  print(\"Epoch \" + str(epoch) +\" Starting\")\n",
        "\n",
        "  for i in range (len(train_labels)):\n",
        "    with tf.GradientTape() as gen_tape:\n",
        "      output = generator(np.array([train_data[i]]))\n",
        "      disc_output = discriminator(np.array(output))\n",
        "      mae = tf.keras.losses.MeanAbsoluteError()\n",
        "      gen_loss = mae(train_data[i], output[0]) * disc_output[0][0]\n",
        "  \n",
        "    gradients_of_generator = gen_tape.gradient(gen_loss, generator.variables)\n",
        "    generator_optimizer.apply_gradients(zip(gradients_of_generator, generator.variables))\n",
        "  gen_losses.append(gen_loss)\n",
        "  \n",
        "  print(\"Epoch \" + str(epoch) +\" DONE\")\n",
        "\n",
        "plotUsingAutoEncoder(generator,df)"
      ],
      "metadata": {
        "id": "KZT3r5henCAo"
      },
      "execution_count": null,
      "outputs": []
    },
    {
      "cell_type": "code",
      "source": [
        "plt.plot(gen_losses, label='Training Loss')\n",
        "plt.title('Generator Model Loss')\n",
        "plt.xlabel('Epoch')\n",
        "plt.ylabel('Loss')\n",
        "plt.legend()\n",
        "print(len(gen_losses))"
      ],
      "metadata": {
        "id": "wCmbYUo3nCAo"
      },
      "execution_count": null,
      "outputs": []
    },
    {
      "cell_type": "code",
      "source": [
        "#Calculate SNR Value\n",
        "\n",
        "noise =[]\n",
        "generated = df['separated_XDeviation'][3179:3244].values.tolist()   #generated signal\n",
        "original = df['XDeviation'][3245:3318].values.tolist() #original signal\n",
        "mixed = df['XDeviation'][3179:3244].values.tolist() # with noise\n",
        "\n",
        "length = len(original)\n",
        "for i in range(length):\n",
        "  noise.append(original[i] - mixed[i])\n",
        "\n",
        "snr = 10 * np.log10(np.mean(np.square(generated))/np.mean(np.square(noise)))\n",
        "print(snr)"
      ],
      "metadata": {
        "id": "65mS0pa7Ec4N"
      },
      "execution_count": null,
      "outputs": []
    },
    {
      "cell_type": "markdown",
      "source": [
        "#*__With 1D 4 CNN Layers & 1 Dense Layer - Leaky ReLU activation function__*\n",
        "\n"
      ],
      "metadata": {
        "id": "-yJG_czFmqnd"
      }
    },
    {
      "cell_type": "code",
      "source": [
        "from keras.layers.activation.leaky_relu import LeakyReLU\n",
        "from sklearn.metrics import accuracy_score, precision_score, recall_score\n",
        "from sklearn.model_selection import train_test_split\n",
        "from tensorflow.keras import layers, losses\n",
        "from tensorflow.keras.models import Model\n",
        "\n",
        "class Discriminator(Model):\n",
        "  def __init__(self):\n",
        "    super(Discriminator,self).__init__()\n",
        "    self.model = tf.keras.Sequential([\n",
        "        tf.keras.layers.Input(shape=(14,)),\n",
        "        tf.keras.layers.Reshape((14, 1)),  # Add a Reshape layer to prepare input for Conv1D\n",
        "        tf.keras.layers.Conv1D(filters=14, kernel_size=3, activation=\"LeakyReLU\"),  # Replace 2nd Dense layer with Conv1D\n",
        "        tf.keras.layers.Conv1D(filters=8, kernel_size=3, activation=\"LeakyReLU\"),  # Add another Conv1D layer\n",
        "        tf.keras.layers.Conv1D(filters=5, kernel_size=3, activation=\"LeakyReLU\"), \n",
        "        tf.keras.layers.Conv1D(filters=3, kernel_size=3, activation=\"LeakyReLU\"), \n",
        "        tf.keras.layers.Flatten(),  # Flatten the output of Conv1D for the next Dense layer\n",
        "        tf.keras.layers.Dense(2,activation='softmax')\n",
        "    ])\n",
        "\n",
        "  def call(self, x):\n",
        "    return self.model(x)\n",
        "\n",
        "class Generator(Model):\n",
        "  def __init__(self):\n",
        "    super(Generator, self).__init__()\n",
        "    self.encoder = tf.keras.Sequential([\n",
        "      tf.keras.layers.Reshape((14, 1)),  # Add a Reshape layer to prepare input for Conv1D\n",
        "      tf.keras.layers.Conv1D(filters=14, kernel_size=3, activation=\"LeakyReLU\"), \n",
        "      tf.keras.layers.Conv1D(filters=8, kernel_size=3, activation=\"LeakyReLU\"), # Replace Dense layer with Conv1D\n",
        "      tf.keras.layers.Conv1D(filters=5, kernel_size=3, activation=\"LeakyReLU\"),\n",
        "      tf.keras.layers.Conv1D(filters=3, kernel_size=3, activation=\"LeakyReLU\"),\n",
        "      tf.keras.layers.Flatten(),\n",
        "      tf.keras.layers.Dense(2, activation=\"LeakyReLU\")\n",
        "      ])\n",
        "\n",
        "    self.decoder = tf.keras.Sequential([\n",
        "      tf.keras.layers.Dense(2, activation=\"LeakyReLU\"),\n",
        "      tf.keras.layers.Dense(3, activation=\"LeakyReLU\"),\n",
        "      tf.keras.layers.Dense(5, activation=\"LeakyReLU\"),\n",
        "      tf.keras.layers.Dense(8, activation=\"LeakyReLU\"),\n",
        "      tf.keras.layers.Dense(14, activation=\"sigmoid\")])\n",
        "\n",
        "  def call(self, x):\n",
        "    encoded = self.encoder(x)\n",
        "    decoded = self.decoder(encoded)\n",
        "    return decoded\n",
        "\n",
        "generator = Generator()\n",
        "discriminator = Discriminator()\n",
        "\n",
        "generator.compile(optimizer='adam',loss = 'mae')\n",
        "discriminator.compile(optimizer = 'adam', loss=tf.keras.losses.BinaryCrossentropy(from_logits=True),metrics=['accuracy'])\n",
        "\n",
        "discriminator.compile(optimizer='adam',\n",
        "              loss=tf.keras.losses.BinaryCrossentropy(from_logits=False),\n",
        "              metrics=['accuracy'])\n",
        "\n",
        "history = discriminator.fit(train_data, train_labels, epochs=300, validation_data=(test_data, test_labels))\n"
      ],
      "metadata": {
        "id": "4sy1YhkDmqnd"
      },
      "execution_count": null,
      "outputs": []
    },
    {
      "cell_type": "code",
      "source": [
        "plt.plot(history.history['loss'], label='Training Loss')\n",
        "plt.plot(history.history['val_loss'], label='Validation Loss')\n",
        "plt.title('Discriminator Model Loss')\n",
        "plt.xlabel('Epoch')\n",
        "plt.ylabel('Loss')\n",
        "plt.legend()"
      ],
      "metadata": {
        "id": "efkUZvoJmqne"
      },
      "execution_count": null,
      "outputs": []
    },
    {
      "cell_type": "code",
      "source": [
        "max_epochs = 10\n",
        "learning_rate = 0.001\n",
        "generator_optimizer = tf.optimizers.Adam(learning_rate)"
      ],
      "metadata": {
        "id": "QzAzjXo1mqne"
      },
      "execution_count": null,
      "outputs": []
    },
    {
      "cell_type": "code",
      "source": [
        "step = 0\n",
        "gen_losses = []\n",
        "for epoch in range(max_epochs):\n",
        "  print(\"Epoch \" + str(epoch) +\" Starting\")\n",
        "\n",
        "  for i in range (len(train_labels)):\n",
        "    with tf.GradientTape() as gen_tape:\n",
        "      output = generator(np.array([train_data[i]]))\n",
        "      disc_output = discriminator(np.array(output))\n",
        "      mae = tf.keras.losses.MeanAbsoluteError()\n",
        "      gen_loss = mae(train_data[i], output[0]) * disc_output[0][0]\n",
        "  \n",
        "    gradients_of_generator = gen_tape.gradient(gen_loss, generator.variables)\n",
        "    generator_optimizer.apply_gradients(zip(gradients_of_generator, generator.variables))\n",
        "  gen_losses.append(gen_loss)\n",
        "  \n",
        "  print(\"Epoch \" + str(epoch) +\" DONE\")\n",
        "\n",
        "plotUsingAutoEncoder(generator,df)"
      ],
      "metadata": {
        "id": "zNBEpmkQmqne"
      },
      "execution_count": null,
      "outputs": []
    },
    {
      "cell_type": "code",
      "source": [
        "plt.plot(gen_losses, label='Training Loss')\n",
        "plt.title('Generator Model Loss')\n",
        "plt.xlabel('Epoch')\n",
        "plt.ylabel('Loss')\n",
        "plt.legend()\n",
        "print(len(gen_losses))"
      ],
      "metadata": {
        "id": "fFv47zrMmqne"
      },
      "execution_count": null,
      "outputs": []
    },
    {
      "cell_type": "code",
      "source": [
        "#Calculate SNR Value\n",
        "\n",
        "noise =[]\n",
        "generated = df['separated_XDeviation'][3179:3244].values.tolist()   #generated signal\n",
        "original = df['XDeviation'][3245:3318].values.tolist() #original signal\n",
        "mixed = df['XDeviation'][3179:3244].values.tolist() # with noise\n",
        "\n",
        "length = len(original)\n",
        "for i in range(length):\n",
        "  noise.append(original[i] - mixed[i])\n",
        "\n",
        "snr = 10 * np.log10(np.mean(np.square(generated))/np.mean(np.square(noise)))\n",
        "print(snr)"
      ],
      "metadata": {
        "id": "PBCrWW9HEez1"
      },
      "execution_count": null,
      "outputs": []
    },
    {
      "cell_type": "markdown",
      "source": [
        "#*__With 1D 4 CNN Layers & 1 Dense Layer - Leaky ReLU activation function__*\n",
        "\n"
      ],
      "metadata": {
        "id": "2EJ5fKk6m4oo"
      }
    },
    {
      "cell_type": "code",
      "source": [
        "from keras.layers.activation.leaky_relu import LeakyReLU\n",
        "from sklearn.metrics import accuracy_score, precision_score, recall_score\n",
        "from sklearn.model_selection import train_test_split\n",
        "from tensorflow.keras import layers, losses\n",
        "from tensorflow.keras.models import Model\n",
        "\n",
        "class Discriminator(Model):\n",
        "  def __init__(self):\n",
        "    super(Discriminator,self).__init__()\n",
        "    self.model = tf.keras.Sequential([\n",
        "        tf.keras.layers.Input(shape=(14,)),\n",
        "        tf.keras.layers.Reshape((14, 1)),  # Add a Reshape layer to prepare input for Conv1D\n",
        "        tf.keras.layers.Conv1D(filters=20, kernel_size=3, activation=\"LeakyReLU\"),  # Replace 2nd Dense layer with Conv1D\n",
        "        tf.keras.layers.Conv1D(filters=14, kernel_size=3, activation=\"LeakyReLU\"),  # Add another Conv1D layer\n",
        "        tf.keras.layers.Conv1D(filters=10, kernel_size=3, activation=\"LeakyReLU\"), \n",
        "        tf.keras.layers.Conv1D(filters=5, kernel_size=3, activation=\"LeakyReLU\"), \n",
        "        tf.keras.layers.Flatten(),  # Flatten the output of Conv1D for the next Dense layer\n",
        "        tf.keras.layers.Dense(2,activation='softmax')\n",
        "    ])\n",
        "\n",
        "  def call(self, x):\n",
        "    return self.model(x)\n",
        "\n",
        "class Generator(Model):\n",
        "  def __init__(self):\n",
        "    super(Generator, self).__init__()\n",
        "    self.encoder = tf.keras.Sequential([\n",
        "      tf.keras.layers.Reshape((14, 1)),  # Add a Reshape layer to prepare input for Conv1D\n",
        "      tf.keras.layers.Conv1D(filters=20, kernel_size=3, activation=\"LeakyReLU\"), \n",
        "      tf.keras.layers.Conv1D(filters=14, kernel_size=3, activation=\"LeakyReLU\"), # Replace Dense layer with Conv1D\n",
        "      tf.keras.layers.Conv1D(filters=10, kernel_size=3, activation=\"LeakyReLU\"),\n",
        "      tf.keras.layers.Conv1D(filters=5, kernel_size=3, activation=\"LeakyReLU\"),\n",
        "      tf.keras.layers.Flatten(),\n",
        "      tf.keras.layers.Dense(2, activation=\"LeakyReLU\")\n",
        "      ])\n",
        "\n",
        "    self.decoder = tf.keras.Sequential([\n",
        "      tf.keras.layers.Dense(2, activation=\"LeakyReLU\"),\n",
        "      tf.keras.layers.Dense(5, activation=\"LeakyReLU\"),\n",
        "      tf.keras.layers.Dense(8, activation=\"LeakyReLU\"),\n",
        "      tf.keras.layers.Dense(10, activation=\"LeakyReLU\"),\n",
        "      tf.keras.layers.Dense(14, activation=\"sigmoid\")])\n",
        "\n",
        "  def call(self, x):\n",
        "    encoded = self.encoder(x)\n",
        "    decoded = self.decoder(encoded)\n",
        "    return decoded\n",
        "\n",
        "generator = Generator()\n",
        "discriminator = Discriminator()\n",
        "\n",
        "generator.compile(optimizer='adam',loss = 'mae')\n",
        "discriminator.compile(optimizer = 'adam', loss=tf.keras.losses.BinaryCrossentropy(from_logits=True),metrics=['accuracy'])\n",
        "\n",
        "discriminator.compile(optimizer='adam',\n",
        "              loss=tf.keras.losses.BinaryCrossentropy(from_logits=False),\n",
        "              metrics=['accuracy'])\n",
        "\n",
        "history = discriminator.fit(train_data, train_labels, epochs=300, validation_data=(test_data, test_labels))\n"
      ],
      "metadata": {
        "id": "f6vJv-hTm4ot"
      },
      "execution_count": null,
      "outputs": []
    },
    {
      "cell_type": "code",
      "source": [
        "plt.plot(history.history['loss'], label='Training Loss')\n",
        "plt.plot(history.history['val_loss'], label='Validation Loss')\n",
        "plt.title('Discriminator Model Loss')\n",
        "plt.xlabel('Epoch')\n",
        "plt.ylabel('Loss')\n",
        "plt.legend()"
      ],
      "metadata": {
        "id": "drlmmNYLm4ot"
      },
      "execution_count": null,
      "outputs": []
    },
    {
      "cell_type": "code",
      "source": [
        "max_epochs = 10\n",
        "learning_rate = 0.001\n",
        "generator_optimizer = tf.optimizers.Adam(learning_rate)"
      ],
      "metadata": {
        "id": "UDITuz2Fm4ot"
      },
      "execution_count": null,
      "outputs": []
    },
    {
      "cell_type": "code",
      "source": [
        "step = 0\n",
        "gen_losses = []\n",
        "for epoch in range(max_epochs):\n",
        "  print(\"Epoch \" + str(epoch) +\" Starting\")\n",
        "\n",
        "  for i in range (len(train_labels)):\n",
        "    with tf.GradientTape() as gen_tape:\n",
        "      output = generator(np.array([train_data[i]]))\n",
        "      disc_output = discriminator(np.array(output))\n",
        "      mae = tf.keras.losses.MeanAbsoluteError()\n",
        "      gen_loss = mae(train_data[i], output[0]) * disc_output[0][0]\n",
        "  \n",
        "    gradients_of_generator = gen_tape.gradient(gen_loss, generator.variables)\n",
        "    generator_optimizer.apply_gradients(zip(gradients_of_generator, generator.variables))\n",
        "  gen_losses.append(gen_loss)\n",
        "  \n",
        "  print(\"Epoch \" + str(epoch) +\" DONE\")\n",
        "\n",
        "plotUsingAutoEncoder(generator,df)"
      ],
      "metadata": {
        "id": "HmHeffOpm4ot"
      },
      "execution_count": null,
      "outputs": []
    },
    {
      "cell_type": "code",
      "source": [
        "plt.plot(gen_losses, label='Training Loss')\n",
        "plt.title('Generator Model Loss')\n",
        "plt.xlabel('Epoch')\n",
        "plt.ylabel('Loss')\n",
        "plt.legend()\n",
        "print(len(gen_losses))"
      ],
      "metadata": {
        "id": "VoQ-vvUwm4ou"
      },
      "execution_count": null,
      "outputs": []
    },
    {
      "cell_type": "code",
      "source": [
        "#Calculate SNR Value\n",
        "\n",
        "noise =[]\n",
        "generated = df['separated_XDeviation'][3179:3244].values.tolist()   #generated signal\n",
        "original = df['XDeviation'][3245:3318].values.tolist() #original signal\n",
        "mixed = df['XDeviation'][3179:3244].values.tolist() # with noise\n",
        "\n",
        "length = len(original)\n",
        "for i in range(length):\n",
        "  noise.append(original[i] - mixed[i])\n",
        "\n",
        "snr = 10 * np.log10(np.mean(np.square(generated))/np.mean(np.square(noise)))\n",
        "print(snr)"
      ],
      "metadata": {
        "id": "sLPT_HPTEg89"
      },
      "execution_count": null,
      "outputs": []
    },
    {
      "cell_type": "markdown",
      "source": [
        "#**_With 1D 5 CNN Layers - Leaky ReLU activation function_**\n",
        "\n"
      ],
      "metadata": {
        "id": "1zWayslQmVk_"
      }
    },
    {
      "cell_type": "code",
      "source": [
        "# from keras.layers.activation.leaky_relu import LeakyReLU\n",
        "# from sklearn.metrics import accuracy_score, precision_score, recall_score\n",
        "# from sklearn.model_selection import train_test_split\n",
        "# from tensorflow.keras import layers, losses\n",
        "# from tensorflow.keras.models import Model\n",
        "\n",
        "# class Discriminator(Model):\n",
        "#   def __init__(self):\n",
        "#     super(Discriminator,self).__init__()\n",
        "#     self.model = tf.keras.Sequential([\n",
        "#         tf.keras.layers.Input(shape=(14,)),\n",
        "#         tf.keras.layers.Reshape((14, 1)),  # Add a Reshape layer to prepare input for Conv1D\n",
        "#         tf.keras.layers.Conv1D(filters=14, kernel_size=3, activation=\"LeakyReLU\"),  # Replace 2nd Dense layer with Conv1D\n",
        "#         tf.keras.layers.Conv1D(filters=8, kernel_size=3, activation=\"LeakyReLU\"),  # Add another Conv1D layer\n",
        "#         tf.keras.layers.Conv1D(filters=5, kernel_size=3, activation=\"LeakyReLU\"),\n",
        "#         tf.keras.layers.Conv1D(filters=3, kernel_size=3, activation=\"LeakyReLU\"),\n",
        "#         tf.keras.layers.Conv1D(filters=2, kernel_size=3, activation=\"softmax\"), \n",
        "#         tf.keras.layers.Flatten(),  # Flatten the output of Conv1D for the next Dense layer\n",
        "#     ])\n",
        "\n",
        "#   def call(self, x):\n",
        "#     return self.model(x)\n",
        "\n",
        "# class Generator(Model):\n",
        "#   def __init__(self):\n",
        "#     super(Generator, self).__init__()\n",
        "#     self.encoder = tf.keras.Sequential([\n",
        "#       tf.keras.layers.Reshape((14, 1)),  # Add a Reshape layer to prepare input for Conv1D\n",
        "#       tf.keras.layers.Conv1D(filters=14, kernel_size=3, activation=\"LeakyReLU\"), \n",
        "#       tf.keras.layers.Conv1D(filters=8, kernel_size=3, activation=\"LeakyReLU\"), # Replace Dense layer with Conv1D\n",
        "#       tf.keras.layers.Conv1D(filters=5, kernel_size=3, activation=\"LeakyReLU\"),\n",
        "#       tf.keras.layers.Conv1D(filters=3, kernel_size=3, activation=\"LeakyReLU\"),\n",
        "#       tf.keras.layers.Conv1D(filters=2, kernel_size=3, activation=\"LeakyReLU\"),\n",
        "#       tf.keras.layers.Flatten(), \n",
        "#       ])\n",
        "\n",
        "#     self.decoder = tf.keras.Sequential([\n",
        "#       tf.keras.layers.Reshape((2, 1)),\n",
        "#       tf.keras.layers.Conv1D(filters=2, kernel_size=3, activation=\"LeakyReLU\"),\n",
        "#       tf.keras.layers.Conv1D(filters=3, kernel_size=3, activation=\"LeakyReLU\"),\n",
        "#       tf.keras.layers.Conv1D(filters=5, kernel_size=3, activation=\"LeakyReLU\"),\n",
        "#       tf.keras.layers.Conv1D(filters=8, kernel_size=3, activation=\"LeakyReLU\"),\n",
        "#       tf.keras.layers.Conv1D(filters=14, kernel_size=3, activation=\"sigmoid\"),\n",
        "#       tf.keras.layers.Flatten()])\n",
        "\n",
        "#   def call(self, x):\n",
        "#     encoded = self.encoder(x)\n",
        "#     decoded = self.decoder(encoded)\n",
        "#     return decoded\n",
        "\n",
        "# generator = Generator()\n",
        "# discriminator = Discriminator()\n",
        "\n",
        "# generator.compile(optimizer='adam',loss = 'mae')\n",
        "# discriminator.compile(optimizer = 'adam', loss=tf.keras.losses.BinaryCrossentropy(from_logits=True),metrics=['accuracy'])\n",
        "\n",
        "# discriminator.compile(optimizer='adam',\n",
        "#               loss=tf.keras.losses.BinaryCrossentropy(from_logits=False),\n",
        "#               metrics=['accuracy'])\n",
        "\n",
        "# history = discriminator.fit(train_data, train_labels, epochs=300, validation_data=(test_data, test_labels))\n"
      ],
      "metadata": {
        "id": "o6vY61RnmVlA"
      },
      "execution_count": null,
      "outputs": []
    },
    {
      "cell_type": "code",
      "source": [
        "# plt.plot(history.history['loss'], label='Training Loss')\n",
        "# plt.plot(history.history['val_loss'], label='Validation Loss')\n",
        "# plt.title('Discriminator Model Loss')\n",
        "# plt.xlabel('Epoch')\n",
        "# plt.ylabel('Loss')\n",
        "# plt.legend()"
      ],
      "metadata": {
        "id": "dpH4EYj-mVlA"
      },
      "execution_count": null,
      "outputs": []
    },
    {
      "cell_type": "code",
      "source": [
        "# max_epochs = 10\n",
        "# learning_rate = 0.001\n",
        "# generator_optimizer = tf.optimizers.Adam(learning_rate)"
      ],
      "metadata": {
        "id": "JnrN-STcmVlA"
      },
      "execution_count": null,
      "outputs": []
    },
    {
      "cell_type": "code",
      "source": [
        "# step = 0\n",
        "# gen_losses = []\n",
        "# for epoch in range(max_epochs):\n",
        "#   print(\"Epoch \" + str(epoch) +\" Starting\")\n",
        "\n",
        "#   for i in range (len(train_labels)):\n",
        "#     with tf.GradientTape() as gen_tape:\n",
        "#       output = generator(np.array([train_data[i]]))\n",
        "#       disc_output = discriminator(np.array(output))\n",
        "#       mae = tf.keras.losses.MeanAbsoluteError()\n",
        "#       gen_loss = mae(train_data[i], output[0]) * disc_output[0][0]\n",
        "  \n",
        "#     gradients_of_generator = gen_tape.gradient(gen_loss, generator.variables)\n",
        "#     generator_optimizer.apply_gradients(zip(gradients_of_generator, generator.variables))\n",
        "#   gen_losses.append(gen_loss)\n",
        "  \n",
        "#   print(\"Epoch \" + str(epoch) +\" DONE\")\n",
        "\n",
        "# plotUsingAutoEncoder(generator,df)"
      ],
      "metadata": {
        "id": "Yz_B91aYmVlA"
      },
      "execution_count": null,
      "outputs": []
    },
    {
      "cell_type": "code",
      "source": [
        "# plt.plot(gen_losses, label='Training Loss')\n",
        "# plt.title('Generator Model Loss')\n",
        "# plt.xlabel('Epoch')\n",
        "# plt.ylabel('Loss')\n",
        "# plt.legend()\n",
        "# print(len(gen_losses))"
      ],
      "metadata": {
        "id": "nkHX1yImmVlB"
      },
      "execution_count": null,
      "outputs": []
    },
    {
      "cell_type": "code",
      "source": [
        "# #Calculate SNR Value\n",
        "\n",
        "# noise =[]\n",
        "# generated = df['separated_XDeviation'][3179:3244].values.tolist()   #generated signal\n",
        "# original = df['XDeviation'][3245:3318].values.tolist() #original signal\n",
        "# mixed = df['XDeviation'][3179:3244].values.tolist() # with noise\n",
        "\n",
        "# length = len(original)\n",
        "# for i in range(length):\n",
        "#   noise.append(original[i] - mixed[i])\n",
        "\n",
        "# snr = 10 * np.log10(np.mean(np.square(generated))/np.mean(np.square(noise)))\n",
        "# print(snr)"
      ],
      "metadata": {
        "id": "SLEiY8UAEihe"
      },
      "execution_count": null,
      "outputs": []
    },
    {
      "cell_type": "markdown",
      "source": [
        "#**_With 1D 5 CNN Layers - Leaky ReLU activation function_**\n",
        "\n"
      ],
      "metadata": {
        "id": "locbEpm-nDEw"
      }
    },
    {
      "cell_type": "code",
      "source": [
        "# from keras.layers.activation.leaky_relu import LeakyReLU\n",
        "# from sklearn.metrics import accuracy_score, precision_score, recall_score\n",
        "# from sklearn.model_selection import train_test_split\n",
        "# from tensorflow.keras import layers, losses\n",
        "# from tensorflow.keras.models import Model\n",
        "\n",
        "# class Discriminator(Model):\n",
        "#   def __init__(self):\n",
        "#     super(Discriminator,self).__init__()\n",
        "#     self.model = tf.keras.Sequential([\n",
        "#         tf.keras.layers.Input(shape=(14,)),\n",
        "#         tf.keras.layers.Reshape((14, 1)),  # Add a Reshape layer to prepare input for Conv1D\n",
        "#         tf.keras.layers.Conv1D(filters=20, kernel_size=3, activation=\"LeakyReLU\"),  # Replace 2nd Dense layer with Conv1D\n",
        "#         tf.keras.layers.Conv1D(filters=14, kernel_size=3, activation=\"LeakyReLU\"),  # Add another Conv1D layer\n",
        "#         tf.keras.layers.Conv1D(filters=10, kernel_size=3, activation=\"LeakyReLU\"),\n",
        "#         tf.keras.layers.Conv1D(filters=5, kernel_size=3, activation=\"LeakyReLU\"),\n",
        "#         tf.keras.layers.Conv1D(filters=2, kernel_size=3, activation=\"softmax\"), \n",
        "#         tf.keras.layers.Flatten(),  # Flatten the output of Conv1D for the next Dense layer\n",
        "#     ])\n",
        "\n",
        "#   def call(self, x):\n",
        "#     return self.model(x)\n",
        "\n",
        "# class Generator(Model):\n",
        "#   def __init__(self):\n",
        "#     super(Generator, self).__init__()\n",
        "#     self.encoder = tf.keras.Sequential([\n",
        "#       tf.keras.layers.Reshape((14, 1)),  # Add a Reshape layer to prepare input for Conv1D\n",
        "#       tf.keras.layers.Conv1D(filters=20, kernel_size=3, activation=\"LeakyReLU\"), \n",
        "#       tf.keras.layers.Conv1D(filters=14, kernel_size=3, activation=\"LeakyReLU\"), # Replace Dense layer with Conv1D\n",
        "#       tf.keras.layers.Conv1D(filters=10, kernel_size=3, activation=\"LeakyReLU\"),\n",
        "#       tf.keras.layers.Conv1D(filters=5, kernel_size=3, activation=\"LeakyReLU\"),\n",
        "#       tf.keras.layers.Conv1D(filters=2, kernel_size=3, activation=\"LeakyReLU\"),\n",
        "#       tf.keras.layers.Flatten(), \n",
        "#       ])\n",
        "\n",
        "#     self.decoder = tf.keras.Sequential([\n",
        "#       tf.keras.layers.Reshape((2, 1)),\n",
        "#       tf.keras.layers.Conv1D(filters=2, kernel_size=3, activation=\"LeakyReLU\"),\n",
        "#       tf.keras.layers.Conv1D(filters=5, kernel_size=3, activation=\"LeakyReLU\"),\n",
        "#       tf.keras.layers.Conv1D(filters=10, kernel_size=3, activation=\"LeakyReLU\"),\n",
        "#       tf.keras.layers.Conv1D(filters=12, kernel_size=3, activation=\"LeakyReLU\"),\n",
        "#       tf.keras.layers.Conv1D(filters=14, kernel_size=3, activation=\"sigmoid\"),\n",
        "#       tf.keras.layers.Flatten()])\n",
        "\n",
        "#   def call(self, x):\n",
        "#     encoded = self.encoder(x)\n",
        "#     decoded = self.decoder(encoded)\n",
        "#     return decoded\n",
        "\n",
        "# generator = Generator()\n",
        "# discriminator = Discriminator()\n",
        "\n",
        "# generator.compile(optimizer='adam',loss = 'mae')\n",
        "# discriminator.compile(optimizer = 'adam', loss=tf.keras.losses.BinaryCrossentropy(from_logits=True),metrics=['accuracy'])\n",
        "\n",
        "# discriminator.compile(optimizer='adam',\n",
        "#               loss=tf.keras.losses.BinaryCrossentropy(from_logits=False),\n",
        "#               metrics=['accuracy'])\n",
        "\n",
        "# history = discriminator.fit(train_data, train_labels, epochs=300, validation_data=(test_data, test_labels))\n"
      ],
      "metadata": {
        "id": "rhFW3-GGnDE2"
      },
      "execution_count": null,
      "outputs": []
    },
    {
      "cell_type": "code",
      "source": [
        "# plt.plot(history.history['loss'], label='Training Loss')\n",
        "# plt.plot(history.history['val_loss'], label='Validation Loss')\n",
        "# plt.title('Discriminator Model Loss')\n",
        "# plt.xlabel('Epoch')\n",
        "# plt.ylabel('Loss')\n",
        "# plt.legend()"
      ],
      "metadata": {
        "id": "ILi1Ceb0nDE2"
      },
      "execution_count": null,
      "outputs": []
    },
    {
      "cell_type": "code",
      "source": [
        "# max_epochs = 10\n",
        "# learning_rate = 0.001\n",
        "# generator_optimizer = tf.optimizers.Adam(learning_rate)"
      ],
      "metadata": {
        "id": "sDJ5S30gnDE2"
      },
      "execution_count": null,
      "outputs": []
    },
    {
      "cell_type": "code",
      "source": [
        "# step = 0\n",
        "# gen_losses = []\n",
        "# for epoch in range(max_epochs):\n",
        "#   print(\"Epoch \" + str(epoch) +\" Starting\")\n",
        "\n",
        "#   for i in range (len(train_labels)):\n",
        "#     with tf.GradientTape() as gen_tape:\n",
        "#       output = generator(np.array([train_data[i]]))\n",
        "#       disc_output = discriminator(np.array(output))\n",
        "#       mae = tf.keras.losses.MeanAbsoluteError()\n",
        "#       gen_loss = mae(train_data[i], output[0]) * disc_output[0][0]\n",
        "  \n",
        "#     gradients_of_generator = gen_tape.gradient(gen_loss, generator.variables)\n",
        "#     generator_optimizer.apply_gradients(zip(gradients_of_generator, generator.variables))\n",
        "#   gen_losses.append(gen_loss)\n",
        "  \n",
        "#   print(\"Epoch \" + str(epoch) +\" DONE\")\n",
        "\n",
        "# plotUsingAutoEncoder(generator,df)"
      ],
      "metadata": {
        "id": "BevsXcWPnDE3"
      },
      "execution_count": null,
      "outputs": []
    },
    {
      "cell_type": "code",
      "source": [
        "# plt.plot(gen_losses, label='Training Loss')\n",
        "# plt.title('Generator Model Loss')\n",
        "# plt.xlabel('Epoch')\n",
        "# plt.ylabel('Loss')\n",
        "# plt.legend()\n",
        "# print(len(gen_losses))"
      ],
      "metadata": {
        "id": "mbncn0LEnDE3"
      },
      "execution_count": null,
      "outputs": []
    }
  ]
}